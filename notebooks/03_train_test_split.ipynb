{
 "cells": [
  {
   "cell_type": "markdown",
   "source": [
    "# Разбиение данных на обучающую и тестовую выборки"
   ],
   "metadata": {
    "collapsed": false
   },
   "id": "9fc9954b2258a6e0"
  },
  {
   "cell_type": "code",
   "execution_count": 1,
   "outputs": [],
   "source": [
    "# импорты\n",
    "import matplotlib.pyplot as plt\n",
    "import numpy as np\n",
    "import pandas as pd\n",
    "import seaborn as sns\n",
    "from sklearn.metrics import root_mean_squared_error\n",
    "from sklearn.model_selection import StratifiedGroupKFold"
   ],
   "metadata": {
    "collapsed": false,
    "ExecuteTime": {
     "end_time": "2024-02-28T12:21:38.938313Z",
     "start_time": "2024-02-28T12:21:38.419796Z"
    }
   },
   "id": "b9fa6cbe8fad6cfe"
  },
  {
   "cell_type": "code",
   "execution_count": 2,
   "outputs": [],
   "source": [
    "# настройка отображения графиков\n",
    "plt.style.use(\"fivethirtyeight\")"
   ],
   "metadata": {
    "collapsed": false,
    "ExecuteTime": {
     "end_time": "2024-02-28T12:21:38.946496Z",
     "start_time": "2024-02-28T12:21:38.939424Z"
    }
   },
   "id": "65f245952d259df4"
  },
  {
   "cell_type": "markdown",
   "source": [
    "Будем работать с данными, разбитыми на фрагменты по 1000 символов:"
   ],
   "metadata": {
    "collapsed": false
   },
   "id": "143cabd1c640cdad"
  },
  {
   "cell_type": "code",
   "execution_count": 3,
   "outputs": [],
   "source": [
    "# загрузка данных\n",
    "data = pd.read_csv(\"../data/splitted_df_1000.csv\")"
   ],
   "metadata": {
    "collapsed": false,
    "ExecuteTime": {
     "end_time": "2024-02-28T12:21:39.077490Z",
     "start_time": "2024-02-28T12:21:38.942881Z"
    }
   },
   "id": "1baaf2eb60ea8a7d"
  },
  {
   "cell_type": "code",
   "execution_count": 4,
   "outputs": [
    {
     "data": {
      "text/plain": "         target                                               text  \\\n0  author_id_06  Узкими горными тропинками , от одного дачного ...   \n1  author_id_06  эти ... Носил я орган к мастеру — и чинить не ...   \n2  author_id_06  — спросил шарманщик.— Жара , дедушка Лодыжкин ...   \n3  author_id_06  , когда весь Крым наполняется нарядной , богат...   \n4  author_id_06  раз видел.— Эфиопы ? Знаю . Это которые с рога...   \n\n                                         book  \n0  raw_data/aleksandr_kuprin_belyj_pudel'.txt  \n1  raw_data/aleksandr_kuprin_belyj_pudel'.txt  \n2  raw_data/aleksandr_kuprin_belyj_pudel'.txt  \n3  raw_data/aleksandr_kuprin_belyj_pudel'.txt  \n4  raw_data/aleksandr_kuprin_belyj_pudel'.txt  ",
      "text/html": "<div>\n<style scoped>\n    .dataframe tbody tr th:only-of-type {\n        vertical-align: middle;\n    }\n\n    .dataframe tbody tr th {\n        vertical-align: top;\n    }\n\n    .dataframe thead th {\n        text-align: right;\n    }\n</style>\n<table border=\"1\" class=\"dataframe\">\n  <thead>\n    <tr style=\"text-align: right;\">\n      <th></th>\n      <th>target</th>\n      <th>text</th>\n      <th>book</th>\n    </tr>\n  </thead>\n  <tbody>\n    <tr>\n      <th>0</th>\n      <td>author_id_06</td>\n      <td>Узкими горными тропинками , от одного дачного ...</td>\n      <td>raw_data/aleksandr_kuprin_belyj_pudel'.txt</td>\n    </tr>\n    <tr>\n      <th>1</th>\n      <td>author_id_06</td>\n      <td>эти ... Носил я орган к мастеру — и чинить не ...</td>\n      <td>raw_data/aleksandr_kuprin_belyj_pudel'.txt</td>\n    </tr>\n    <tr>\n      <th>2</th>\n      <td>author_id_06</td>\n      <td>— спросил шарманщик.— Жара , дедушка Лодыжкин ...</td>\n      <td>raw_data/aleksandr_kuprin_belyj_pudel'.txt</td>\n    </tr>\n    <tr>\n      <th>3</th>\n      <td>author_id_06</td>\n      <td>, когда весь Крым наполняется нарядной , богат...</td>\n      <td>raw_data/aleksandr_kuprin_belyj_pudel'.txt</td>\n    </tr>\n    <tr>\n      <th>4</th>\n      <td>author_id_06</td>\n      <td>раз видел.— Эфиопы ? Знаю . Это которые с рога...</td>\n      <td>raw_data/aleksandr_kuprin_belyj_pudel'.txt</td>\n    </tr>\n  </tbody>\n</table>\n</div>"
     },
     "execution_count": 4,
     "metadata": {},
     "output_type": "execute_result"
    }
   ],
   "source": [
    "# вывод на экран 5 первых объектов датасета\n",
    "data.head()"
   ],
   "metadata": {
    "collapsed": false,
    "ExecuteTime": {
     "end_time": "2024-02-28T12:21:39.088602Z",
     "start_time": "2024-02-28T12:21:39.079415Z"
    }
   },
   "id": "2e9ce127a5f4debb"
  },
  {
   "cell_type": "code",
   "execution_count": 5,
   "outputs": [
    {
     "data": {
      "text/plain": "3124"
     },
     "execution_count": 5,
     "metadata": {},
     "output_type": "execute_result"
    }
   ],
   "source": [
    "# вывод на экран количества объектов обучающей выборки\n",
    "len(data)"
   ],
   "metadata": {
    "collapsed": false,
    "ExecuteTime": {
     "end_time": "2024-02-28T12:21:39.093981Z",
     "start_time": "2024-02-28T12:21:39.089467Z"
    }
   },
   "id": "19bccb12e8f06dc7"
  },
  {
   "cell_type": "markdown",
   "source": [
    "Разобьем данные на обучающую и тестовую выборки таким, образом, чтобы:\n",
    "- тестовая часть составляла ~20% всех данных\n",
    "- фрагменты из одной книги (group) попадали либо в обучающую, либо в тестовую выборки (чтобы исключить любой возможный data leakage: например, модель выучит имена героев)\n",
    "- распределение значений целевой переменной в трейне и тесте было максимально похожим.\n",
    "\n",
    "Поскольку `train_test_split` библиотеки `scikit-learn` не поддерживает groups, используем `StratifiedGroupKFold` с 5 сплитами и выберем такой сплит, при котором среднеквадратичная ошибка между процентами значений каждого класса будет минимальной.\n",
    "\n",
    "Также будем использовать `StratifiedGroupKFold` с 5 сплитами для кросс-валидации на трейне.\n",
    "\n",
    "Также переведем значения таргета из `str` в `int`."
   ],
   "metadata": {
    "collapsed": false
   },
   "id": "385a36ce23fad456"
  },
  {
   "cell_type": "code",
   "execution_count": 6,
   "outputs": [],
   "source": [
    "# приведение таргента к формату int\n",
    "data[\"target\"] = data[\"target\"].apply(lambda x: x.removeprefix(\"author_id_0\")).astype(int)"
   ],
   "metadata": {
    "collapsed": false,
    "ExecuteTime": {
     "end_time": "2024-02-28T12:21:39.096097Z",
     "start_time": "2024-02-28T12:21:39.094079Z"
    }
   },
   "id": "a2f3918a788934c0"
  },
  {
   "cell_type": "code",
   "execution_count": 7,
   "outputs": [],
   "source": [
    "y = data[\"target\"]\n",
    "X = data[\"text\"]\n",
    "groups = data[\"book\"]\n",
    "\n",
    "sgkf = StratifiedGroupKFold(n_splits=5)"
   ],
   "metadata": {
    "collapsed": false,
    "ExecuteTime": {
     "end_time": "2024-02-28T12:21:39.097263Z",
     "start_time": "2024-02-28T12:21:39.096170Z"
    }
   },
   "id": "d953ac52100d1c3b"
  },
  {
   "cell_type": "code",
   "execution_count": 8,
   "outputs": [],
   "source": [
    "best_split = None\n",
    "best_rmse = float(\"inf\")\n",
    "best_split_train_inds = None\n",
    "best_split_test_inds = None"
   ],
   "metadata": {
    "collapsed": false,
    "ExecuteTime": {
     "end_time": "2024-02-28T12:21:39.101559Z",
     "start_time": "2024-02-28T12:21:39.098400Z"
    }
   },
   "id": "aef425c301310015"
  },
  {
   "cell_type": "code",
   "execution_count": 9,
   "outputs": [
    {
     "name": "stdout",
     "output_type": "stream",
     "text": [
      "best_split: 4\n",
      "best_rmse: 3.65\n"
     ]
    }
   ],
   "source": [
    "for split, (train_inds, test_inds) in enumerate(sgkf.split(X, y, groups)):\n",
    "    y_train_percentages = (y[train_inds].value_counts(normalize=True) * 100).sort_index()\n",
    "    y_test_percentages = (y[test_inds].value_counts(normalize=True) * 100).sort_index()\n",
    "    split_rmse = root_mean_squared_error(y_train_percentages, y_test_percentages)\n",
    "    if split_rmse < best_rmse:\n",
    "        best_split = split\n",
    "        best_rmse = split_rmse\n",
    "        best_split_train_inds = train_inds\n",
    "        best_split_test_inds = test_inds\n",
    "\n",
    "print(f\"best_split: {best_split}\")\n",
    "print(f\"best_rmse: {np.round(best_rmse, 2)}\")"
   ],
   "metadata": {
    "collapsed": false,
    "ExecuteTime": {
     "end_time": "2024-02-28T12:21:39.190677Z",
     "start_time": "2024-02-28T12:21:39.102158Z"
    }
   },
   "id": "836ec4a30567972c"
  },
  {
   "cell_type": "code",
   "execution_count": 10,
   "outputs": [],
   "source": [
    "# проверка, что одни и те же книги не попадают в трейн и тест\n",
    "assert not bool(\n",
    "    set(data.loc[best_split_train_inds][\"book\"]).intersection(\n",
    "        set(data.loc[best_split_test_inds][\"book\"])\n",
    "    )\n",
    ")"
   ],
   "metadata": {
    "collapsed": false,
    "ExecuteTime": {
     "end_time": "2024-02-28T12:21:39.190990Z",
     "start_time": "2024-02-28T12:21:39.125443Z"
    }
   },
   "id": "d20525b8957802ab"
  },
  {
   "cell_type": "code",
   "execution_count": 11,
   "outputs": [],
   "source": [
    "# добавление колонки \"сплит\" в датасет\n",
    "data[\"split\"] = data.index.isin(best_split_train_inds)\n",
    "data[\"split\"] = data[\"split\"].map({True: \"train\", False: \"test\"})"
   ],
   "metadata": {
    "collapsed": false,
    "ExecuteTime": {
     "end_time": "2024-02-28T12:21:39.191046Z",
     "start_time": "2024-02-28T12:21:39.129831Z"
    }
   },
   "id": "ed38432631ac0dd0"
  },
  {
   "cell_type": "code",
   "execution_count": 12,
   "outputs": [
    {
     "data": {
      "text/plain": "split\ntrain    82.0\ntest     18.0\nName: percentage, dtype: float64"
     },
     "execution_count": 12,
     "metadata": {},
     "output_type": "execute_result"
    }
   ],
   "source": [
    "# вывод на экран соотношения трейна и теста\n",
    "(data[\"split\"].value_counts(normalize=True) * 100).round().rename(\"percentage\")"
   ],
   "metadata": {
    "collapsed": false,
    "ExecuteTime": {
     "end_time": "2024-02-28T12:21:39.191301Z",
     "start_time": "2024-02-28T12:21:39.134007Z"
    }
   },
   "id": "375be621f0601290"
  },
  {
   "cell_type": "markdown",
   "source": [
    "почти 80/20\n",
    "\n",
    "посмотрим на соотношение исходного датасета, трейна и теста"
   ],
   "metadata": {
    "collapsed": false
   },
   "id": "319d11b4bc609ea6"
  },
  {
   "cell_type": "code",
   "execution_count": 13,
   "outputs": [
    {
     "data": {
      "text/plain": "<Figure size 1000x700 with 6 Axes>",
      "image/png": "[encoded data removed]"
     },
     "metadata": {},
     "output_type": "display_data"
    }
   ],
   "source": [
    "# визализация распределения таргета и количества книг по автору для всего датасета, трейна и теста\n",
    "fig, ax = plt.subplots(nrows=2, ncols=3, figsize=(10, 7))\n",
    "\n",
    "for i, target in enumerate([y, y[best_split_train_inds], y[best_split_test_inds]]):\n",
    "    dts = (target.value_counts(normalize=True) * 100).round().sort_index().tolist()\n",
    "    sns.barplot(pd.Series(dts, name=\"percentage\"), saturation=1, ax=ax[0][i])\n",
    "\n",
    "for i, feature in enumerate(\n",
    "    [data, data.loc[best_split_train_inds], data.loc[best_split_test_inds]]\n",
    "):\n",
    "    dts = feature.groupby(\"target\")[\"book\"].nunique().tolist()\n",
    "    sns.barplot(pd.Series(dts, name=\"books\"), color=\"#fc4f30\", saturation=1, ax=ax[1][i])\n",
    "\n",
    "ax[0][0].set_title(\"\\nall dataset\")\n",
    "ax[0][1].set_title(\"target distribution\\ntrain\")\n",
    "ax[0][2].set_title(\"\\ntest\")\n",
    "\n",
    "ax[1][0].set_title(\"\\nall dataset\")\n",
    "ax[1][1].set_title(\"books per author\\ntrain\")\n",
    "ax[1][2].set_title(\"\\ntest\")\n",
    "\n",
    "ax[0][1].set_xlabel(\"author\", fontsize=16)\n",
    "ax[1][1].set_xlabel(\"author\", fontsize=16)\n",
    "\n",
    "plt.tight_layout()\n",
    "plt.show()"
   ],
   "metadata": {
    "collapsed": false,
    "ExecuteTime": {
     "end_time": "2024-02-28T12:21:40.033729Z",
     "start_time": "2024-02-28T12:21:39.138711Z"
    }
   },
   "id": "10e4cee093670d70"
  },
  {
   "cell_type": "markdown",
   "source": [
    "- по большинству авторов распределения похожи"
   ],
   "metadata": {
    "collapsed": false
   },
   "id": "d587bc2d07ce48e3"
  },
  {
   "cell_type": "code",
   "execution_count": 14,
   "outputs": [],
   "source": [
    "# сохранение датасетов в отдельные файлы\n",
    "train = data[data.split == \"train\"].drop(columns=\"split\")\n",
    "test = data[data.split == \"test\"].drop(columns=\"split\")\n",
    "\n",
    "train.to_csv(\"../data/split_1000_train.csv\")\n",
    "test.to_csv(\"../data/split_1000_test.csv\")"
   ],
   "metadata": {
    "collapsed": false,
    "ExecuteTime": {
     "end_time": "2024-02-28T12:21:40.169669Z",
     "start_time": "2024-02-28T12:21:40.032234Z"
    }
   },
   "id": "96192df11856f2a9"
  },
  {
   "cell_type": "code",
   "execution_count": 14,
   "outputs": [],
   "source": [],
   "metadata": {
    "collapsed": false,
    "ExecuteTime": {
     "end_time": "2024-02-28T12:21:40.170023Z",
     "start_time": "2024-02-28T12:21:40.156686Z"
    }
   },
   "id": "6aa3c759a686ebda"
  }
 ],
 "metadata": {
  "kernelspec": {
   "display_name": "Python 3",
   "language": "python",
   "name": "python3"
  },
  "language_info": {
   "codemirror_mode": {
    "name": "ipython",
    "version": 2
   },
   "file_extension": ".py",
   "mimetype": "text/x-python",
   "name": "python",
   "nbconvert_exporter": "python",
   "pygments_lexer": "ipython2",
   "version": "2.7.6"
  }
 },
 "nbformat": 4,
 "nbformat_minor": 5
}
