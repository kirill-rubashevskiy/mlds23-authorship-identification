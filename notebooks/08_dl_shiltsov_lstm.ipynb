{
 "cells": [
  {
   "cell_type": "markdown",
   "id": "9a490201",
   "metadata": {},
   "source": [
    "### Эксперименты с моделями глубокого обучения\n",
    "\n",
    "Сначала хочу опучить модели с **RNN** и **LSTM** слоями. Т.к у нас входные данные атомарны (описания грамматических и пунктуационных вхожнений) в качестве токанайзера буду использовать unigram (BPE не подойдет - у нас \"слова\" не миксуются из слогов) "
   ]
  },
  {
   "cell_type": "code",
   "execution_count": 1,
   "id": "ac7a1eeb",
   "metadata": {},
   "outputs": [],
   "source": [
    "import pandas as pd\n",
    "import numpy as np\n",
    "import os\n",
    "\n",
    "import torch\n",
    "import torch.nn.functional as F\n",
    "import torch.optim as optim\n",
    "from torch import nn\n",
    "from torch.utils.data import Dataset, DataLoader\n",
    "from torch.utils.data import DataLoader, Dataset\n",
    "\n",
    "from typing import Union, List, Tuple, Type, Optional, Any\n",
    "from sentencepiece import SentencePieceTrainer, SentencePieceProcessor\n",
    "import sentencepiece as spm\n",
    "\n",
    "\n",
    "from sklearn.model_selection import train_test_split\n",
    "from sklearn.preprocessing import LabelEncoder\n",
    "from sklearn.metrics import f1_score\n",
    "\n",
    "from matplotlib import pyplot as plt\n",
    "import seaborn as sns\n",
    "\n",
    "from IPython.display import clear_output\n",
    "from tqdm.notebook import tqdm\n",
    "\n",
    "from utils.utilsds import prepare_text"
   ]
  },
  {
   "cell_type": "code",
   "execution_count": 2,
   "id": "5904d8f2",
   "metadata": {},
   "outputs": [],
   "source": [
    "#device = torch.device('cuda' if torch.cuda.is_available() else 'cpu')\n",
    "device = 'cpu'"
   ]
  },
  {
   "cell_type": "code",
   "execution_count": 3,
   "id": "2c142655",
   "metadata": {},
   "outputs": [
    {
     "data": {
      "text/plain": [
       "['S,жен,од V,несов,пе S,жен,неод']"
      ]
     },
     "execution_count": 3,
     "metadata": {},
     "output_type": "execute_result"
    }
   ],
   "source": [
    "prepare_text([\"мама мыла раму\"], full=False)"
   ]
  },
  {
   "cell_type": "code",
   "execution_count": 4,
   "id": "c2eee0d5",
   "metadata": {},
   "outputs": [
    {
     "data": {
      "text/plain": [
       "['S,жен,од=им,ед V,несов,пе=прош,ед,изъяв,жен S,жен,неод=вин,ед']"
      ]
     },
     "execution_count": 4,
     "metadata": {},
     "output_type": "execute_result"
    }
   ],
   "source": [
    "prepare_text([\"мама мыла раму\"], full=True)"
   ]
  },
  {
   "cell_type": "code",
   "execution_count": 5,
   "id": "f74b2947",
   "metadata": {},
   "outputs": [],
   "source": [
    "# полный датасет\n",
    "df = pd.read_csv('./data/splitted_df_3000.csv')\n",
    "\n",
    "#X = df['text']\n",
    "y = df['target'].map(lambda x: int(x[-2:]))\n",
    "\n",
    "# датасат обработанный по полной схеме, с учетом падежей и тп\n",
    "#X = pd.read_csv('./data/f_prepared_df_3000.csv')\n",
    "\n",
    "# по сокращенной схеме\n",
    "X = pd.read_csv('./data/b_prepared_df_3000.csv')"
   ]
  },
  {
   "cell_type": "code",
   "execution_count": 6,
   "id": "c04f3daa",
   "metadata": {},
   "outputs": [
    {
     "data": {
      "text/plain": [
       "0       A A S,жен,неод CM PR APRO A S,муж,неод PR APRO...\n",
       "1       PR A S,сред,неод CL S,муж,од S,имя,муж,од CONJ...\n",
       "2       CM CONJ APRO S,гео,муж,неод V,нп A CM A CONJ A...\n",
       "3       V,несов,нп PR SPRO,мн PR S,муж,неод S,жен,неод...\n",
       "4       V,сов,пе S,муж,неод CM A PR A ADV A S,сред,нео...\n",
       "                              ...                        \n",
       "2188    ADV PR S,муж,неод QST APRO S,мж,неод V,сов,нп ...\n",
       "2189    SPRO,ед,3-л,муж V SPRO,ед,1-л APRO S,муж,неод ...\n",
       "2190    PNT PART ADV SPRO,ед,1-л V,нп A SMC A V,нп CM ...\n",
       "2191    PNT CONJ CONJ SPRO,ед,1-л ADV V,несов,нп PR S,...\n",
       "2192    CONJ V,сов,нп S,муж,неод PNT PART CM V,несов,п...\n",
       "Name: text, Length: 2193, dtype: object"
      ]
     },
     "execution_count": 6,
     "metadata": {},
     "output_type": "execute_result"
    }
   ],
   "source": [
    "X['text']"
   ]
  },
  {
   "cell_type": "code",
   "execution_count": 7,
   "id": "5fcc8aee",
   "metadata": {
    "scrolled": false
   },
   "outputs": [
    {
     "name": "stdout",
     "output_type": "stream",
     "text": [
      "651\n"
     ]
    }
   ],
   "source": [
    "# максимальное по длине предложение (слов)\n",
    "max_len = 0\n",
    "for text in X['text'].to_numpy():\n",
    "    #print(text)\n",
    "    if len(text.split()) > max_len:\n",
    "        max_len = len(text.split())\n",
    "        \n",
    "print(max_len)        "
   ]
  },
  {
   "cell_type": "code",
   "execution_count": 8,
   "id": "7f8272a1",
   "metadata": {},
   "outputs": [
    {
     "name": "stdout",
     "output_type": "stream",
     "text": [
      "Число классов: 10, размер словаря 142\n"
     ]
    }
   ],
   "source": [
    "# Создание словаря и преобразование меток\n",
    "vocab = {word: idx + 1 for idx, word in enumerate(set(\" \".join(X['text']).split()))}\n",
    "vocab_size = len(vocab) + 1  # +1 для padding\n",
    "\n",
    "num_classes = len(np.unique(y))\n",
    "print(f\"Число классов: {num_classes}, размер словаря {vocab_size}\")"
   ]
  },
  {
   "cell_type": "code",
   "execution_count": 9,
   "id": "b6b40da7",
   "metadata": {},
   "outputs": [
    {
     "data": {
      "image/png": "[encoded data removed]",
      "text/plain": [
       "<Figure size 800x400 with 1 Axes>"
      ]
     },
     "metadata": {},
     "output_type": "display_data"
    }
   ],
   "source": [
    "X_train, X_test, y_train, y_test = train_test_split(X, y, shuffle=True, stratify=y)\n",
    "\n",
    "plt.figure(figsize=(8,4))\n",
    "plt.title(\"Распределение таргета в выобрках\")\n",
    "plt.hist(y_train, bins=10, color='red', alpha=0.3, label='тренировочная')\n",
    "plt.hist(y_test, bins=10, color='blue', alpha=0.3, label=\"тестовая\")\n",
    "plt.hist(y, bins=10, color='yellow', alpha=0.3, label='полная выборка')\n",
    "plt.legend()\n",
    "plt.show()"
   ]
  },
  {
   "cell_type": "markdown",
   "id": "6dc7c82b",
   "metadata": {},
   "source": [
    "### Кодирование слов "
   ]
  },
  {
   "cell_type": "code",
   "execution_count": 10,
   "id": "a98c39be",
   "metadata": {
    "scrolled": false
   },
   "outputs": [],
   "source": [
    "batch_size = 8\n",
    "\n",
    "class TextDataset(Dataset):\n",
    "    def __init__(self, texts, labels, vocab, max_len, pad_id = len(vocab)):\n",
    "        self.texts = texts\n",
    "        self.labels = labels\n",
    "        self.vocab = vocab\n",
    "        self.max_len = max_len\n",
    "        self.pad_id  = pad_id \n",
    "        \n",
    "    def __len__(self):\n",
    "        return len(self.texts)\n",
    "\n",
    "    def __getitem__(self, idx):\n",
    "        text = self.texts[idx]\n",
    "        label = self.labels[idx]\n",
    "        \n",
    "        # Преобразуем текст в последовательность индексов и добавляем паддинг\n",
    "        text_indices = [self.vocab[word] if word in self.vocab else 0 for word in text.split()]\n",
    "        text_indices = text_indices + [self.pad_id] * (self.max_len - len(text_indices))  # Padding\n",
    "        label_idx = self.labels[idx]\n",
    "        return torch.tensor(text_indices, dtype=torch.long), torch.tensor(label_idx, dtype=torch.long)\n",
    "\n",
    "train_dataset = TextDataset(X_train['text'].to_numpy(), y_train.to_numpy(), vocab, max_len)\n",
    "test_dataset = TextDataset(X_test['text'].to_numpy(), y_test.to_numpy(), vocab, max_len)\n",
    "train_loader = DataLoader(train_dataset, batch_size=batch_size, shuffle=True)\n",
    "test_loader = DataLoader(test_dataset, batch_size=batch_size, shuffle=False)    \n",
    "    "
   ]
  },
  {
   "cell_type": "code",
   "execution_count": 11,
   "id": "a25d29bd",
   "metadata": {},
   "outputs": [
    {
     "data": {
      "text/plain": [
       "(1644, 1644)"
      ]
     },
     "execution_count": 11,
     "metadata": {},
     "output_type": "execute_result"
    }
   ],
   "source": [
    "len(X_train['text'].to_numpy()), len(y_train.to_numpy()), "
   ]
  },
  {
   "cell_type": "code",
   "execution_count": 12,
   "id": "c467d76d",
   "metadata": {},
   "outputs": [
    {
     "data": {
      "text/plain": [
       "(549, 549)"
      ]
     },
     "execution_count": 12,
     "metadata": {},
     "output_type": "execute_result"
    }
   ],
   "source": [
    "len(X_test['text'].to_numpy()), len(y_test.to_numpy()), "
   ]
  },
  {
   "cell_type": "code",
   "execution_count": 13,
   "id": "80f0f101",
   "metadata": {},
   "outputs": [
    {
     "name": "stdout",
     "output_type": "stream",
     "text": [
      "[tensor([[ 96,  29, 131,  ..., 141, 141, 141],\n",
      "        [ 21, 130,  29,  ..., 141, 141, 141],\n",
      "        [ 31,  56,  56,  ..., 141, 141, 141],\n",
      "        ...,\n",
      "        [ 29,  89, 130,  ..., 141, 141, 141],\n",
      "        [ 89, 130,  56,  ..., 141, 141, 141],\n",
      "        [131,  27,  84,  ..., 141, 141, 141]]), tensor([2, 6, 3, 2, 6, 2, 4, 7])]\n"
     ]
    }
   ],
   "source": [
    "a = iter(test_loader)\n",
    "print(next(a))"
   ]
  },
  {
   "cell_type": "code",
   "execution_count": 14,
   "id": "e4676f36",
   "metadata": {},
   "outputs": [],
   "source": [
    "#len(y_train), len(train_set)"
   ]
  },
  {
   "cell_type": "code",
   "execution_count": 15,
   "id": "00208d52",
   "metadata": {},
   "outputs": [],
   "source": [
    "#train_set.text2ids(\"A A S,жен,неод CM PR APRO A S,муж,неод PR\")"
   ]
  },
  {
   "cell_type": "code",
   "execution_count": 16,
   "id": "63a1d7c1",
   "metadata": {},
   "outputs": [],
   "source": [
    "#train_set.ids2text([13, 13, 6, 4, 16, 4, 7, 5, 11, 12, 15, 23, 13, 6, 4, 10, 4, 7, 5, 12, 15])"
   ]
  },
  {
   "cell_type": "markdown",
   "id": "97da1535",
   "metadata": {},
   "source": [
    "### Модель"
   ]
  },
  {
   "cell_type": "code",
   "execution_count": 17,
   "id": "2a567eb3",
   "metadata": {},
   "outputs": [],
   "source": [
    "class TextClassifier(nn.Module):\n",
    "    def __init__(\n",
    "        self,\n",
    "        num_embeddings=10000,\n",
    "        embedding_size=300,\n",
    "        hidden_size=200,\n",
    "        num_classes=10,\n",
    "        num_layers=2,\n",
    "        pad_id = len(vocab),\n",
    "    ):\n",
    "        super(TextClassifier, self).__init__()\n",
    "        self.embedding = nn.Embedding(num_embeddings, embedding_dim=embedding_size, padding_idx=pad_id)\n",
    "        self.lstm = nn.LSTM(embedding_size, hidden_size = hidden_size, num_layers = num_layers, batch_first=True)\n",
    "        self.linear = nn.Linear(in_features=hidden_size, out_features=num_classes)\n",
    "\n",
    "    def forward(self, x):\n",
    "        embedded = self.embedding(x)\n",
    "        _, (last_hidden, last_c) = self.lstm(embedded)\n",
    "        res = self.linear(last_hidden[-1]).squeeze()\n",
    "        return res \n"
   ]
  },
  {
   "cell_type": "code",
   "execution_count": 18,
   "id": "c684b1fd",
   "metadata": {},
   "outputs": [],
   "source": [
    "# Гиперпараметры\n",
    "embed_size = 32\n",
    "hidden_size = 128\n",
    "num_epochs = 20\n",
    "learning_rate = 0.05\n",
    "\n",
    "model = TextClassifier(num_embeddings = vocab_size, embedding_size=embed_size, \n",
    "                       hidden_size=hidden_size, num_layers = 1,\n",
    "    num_classes =num_classes).to(device)\n",
    "\n",
    "criterion = nn.CrossEntropyLoss()\n",
    "optimizer = optim.Adam(model.parameters(), lr=learning_rate)\n",
    "#optimizer = optim.RMSprop(model.parameters(), lr=learning_rate)\n",
    "scheduler = torch.optim.lr_scheduler.StepLR(optimizer, step_size=5, gamma=0.1)"
   ]
  },
  {
   "cell_type": "code",
   "execution_count": 19,
   "id": "ac9046a8",
   "metadata": {
    "scrolled": false
   },
   "outputs": [],
   "source": [
    "def plot_losses(train_losses: List[float], val_losses: List[float]):\n",
    "    clear_output()\n",
    "    plt.figure(figsize=(6, 6))\n",
    "    plt.title(\"Кривая обучения\")\n",
    "    plt.plot(range(1, len(train_losses) + 1), train_losses, label='train')\n",
    "    plt.plot(range(1, len(val_losses) + 1), val_losses, label='val')\n",
    "    plt.ylabel('loss')\n",
    "    plt.ylabel('epoch')\n",
    "    plt.show()\n"
   ]
  },
  {
   "cell_type": "code",
   "execution_count": 20,
   "id": "c4248b08",
   "metadata": {
    "scrolled": false
   },
   "outputs": [],
   "source": [
    "# для проверки что веса меняются\n",
    "# model.state_dict().copy()[\"linear.weight\"]"
   ]
  },
  {
   "cell_type": "code",
   "execution_count": 21,
   "id": "e88dfea7",
   "metadata": {
    "scrolled": false
   },
   "outputs": [
    {
     "data": {
      "image/png": "[encoded data removed]",
      "text/plain": [
       "<Figure size 600x600 with 1 Axes>"
      ]
     },
     "metadata": {},
     "output_type": "display_data"
    },
    {
     "name": "stdout",
     "output_type": "stream",
     "text": [
      "Epoch [20/20], Losses: 2.1083 / 2.1184 \n"
     ]
    }
   ],
   "source": [
    "@torch.no_grad()\n",
    "def validation_epoch(model, \n",
    "                    criterion: nn.Module,\n",
    "                    loader: DataLoader):\n",
    "\n",
    "    device = next(model.parameters()).device\n",
    "    val_loss = 0.0\n",
    "\n",
    "    model.eval()\n",
    "    val_loss = 0.0\n",
    "    for texts, labels in loader:\n",
    "        \n",
    "        outputs = model.forward(texts.to(device))\n",
    "        #print('texts:', texts)\n",
    "        #print('logits:', outputs)\n",
    "        loss = criterion(outputs, labels.to(device))\n",
    "        val_loss += loss.item() * texts.size(0)\n",
    "\n",
    "    val_loss /= len(loader.dataset)\n",
    "    return val_loss\n",
    "\n",
    "# Обучение модели\n",
    "train_losses = [] \n",
    "val_losses = []\n",
    "    \n",
    "for epoch in tqdm(range(num_epochs)):\n",
    "    model.train()\n",
    "    train_loss = 0.0\n",
    "    for texts, labels in train_loader:\n",
    "\n",
    "        optimizer.zero_grad()\n",
    "        \n",
    "        outputs = model(texts.to(device))\n",
    "        #print('texts:', texts)\n",
    "        #print('logits:', outputs)\n",
    "        #print('labels:', labels)\n",
    "        loss = criterion(outputs, labels.to(device))\n",
    "        \n",
    "        train_loss += loss.item() * texts.size(0) # домножаем на размер батча\n",
    "        \n",
    "        #loss = criterion(outputs, labels)\n",
    "\n",
    "        loss.backward()\n",
    "        optimizer.step()\n",
    "\n",
    "        \n",
    "        #model_parameters_new = model.state_dict()        \n",
    "        #print(model_parameters_new[\"linear.bias\"])\n",
    "        \n",
    "        # Печать градиентов слоев\n",
    "        #for name, param in model.named_parameters():\n",
    "        #    if param.grad is not None:\n",
    "        #        print(f\"Layer: {name} | Gradients: {param.grad}\")\n",
    "        #    else:\n",
    "        #        print(f\"Layer: {name} | No gradients\")        \n",
    "        \n",
    "    scheduler.step()\n",
    "    train_loss /= len(train_loader.dataset)\n",
    "    \n",
    "    train_losses.append(train_loss)    \n",
    "    \n",
    "    val_loss = validation_epoch(model, criterion, test_loader)\n",
    "    val_losses.append(val_loss)\n",
    "    plot_losses(train_losses, val_losses)\n",
    "    \n",
    "    print(f\"Epoch [{epoch + 1}/{num_epochs}], Losses: {train_loss:.4f} / {val_loss:.4f} \")\n"
   ]
  },
  {
   "cell_type": "code",
   "execution_count": null,
   "id": "60da4d14",
   "metadata": {},
   "outputs": [],
   "source": []
  },
  {
   "cell_type": "code",
   "execution_count": 65,
   "id": "483a4039",
   "metadata": {},
   "outputs": [],
   "source": [
    "pad_id = len(vocab) \n",
    "\n",
    "@torch.inference_mode()\n",
    "def inference(text: str, model) -> int:\n",
    "\n",
    "    prep_text = prepare_text([text], full=False)\n",
    "    #print(prep_text)\n",
    "    \n",
    "    text_indices = [vocab[word] if word in vocab else 0 for word in prep_text[0].split()]\n",
    "    text_indices = text_indices + [pad_id] * (max_len - len(text_indices))  # Padding    \n",
    "        \n",
    "    #print(text_indices)\n",
    "        \n",
    "    model.eval()\n",
    "    device = next(model.parameters()).device\n",
    "    #print(f\"device {device}\")\n",
    "\n",
    "    input_tensor = torch.tensor(text_indices).unsqueeze(0)  # (1, len(prefix)+1)\n",
    "    #print(\"DIM:\",input_tensor.dim())\n",
    "    logits = model(input_tensor.to(device))\n",
    "    #print(logits)    \n",
    "    return np.argmax(logits)"
   ]
  },
  {
   "cell_type": "code",
   "execution_count": 66,
   "id": "41fd0f3f",
   "metadata": {
    "scrolled": false
   },
   "outputs": [
    {
     "data": {
      "text/plain": [
       "tensor(2)"
      ]
     },
     "execution_count": 66,
     "metadata": {},
     "output_type": "execute_result"
    }
   ],
   "source": [
    "inference(\"мама мыла раму, рама мыла маму\", model)"
   ]
  },
  {
   "cell_type": "code",
   "execution_count": 67,
   "id": "bfdeef2d",
   "metadata": {},
   "outputs": [
    {
     "data": {
      "text/plain": [
       "tensor(2)"
      ]
     },
     "execution_count": 67,
     "metadata": {},
     "output_type": "execute_result"
    }
   ],
   "source": [
    "text = '''Бинарная классификация, многоклассовая классификация - для всех \n",
    " этих алгоритмов встает одна и та же проблема: как оценить качество созданной модели? ... \n",
    " Помимо precision и recall, при оценке моделей классификации часто используют и другие метрики.\n",
    " '''\n",
    "inference(text, model)"
   ]
  },
  {
   "cell_type": "code",
   "execution_count": 68,
   "id": "b8ccaaeb",
   "metadata": {
    "scrolled": false
   },
   "outputs": [
    {
     "data": {
      "text/plain": [
       "tensor(2)"
      ]
     },
     "execution_count": 68,
     "metadata": {},
     "output_type": "execute_result"
    }
   ],
   "source": [
    "text = '''\n",
    "Узкими горными тропинками, от одного дачного поселка до другого, пробиралась вдоль \n",
    "южного берега Крыма маленькая бродячая труппа. Впереди обыкновенно бежал, \n",
    "свесив набок длинный розовый язык, белый пудель Арто, остриженный наподобие льва. \n",
    "У перекрестков он останавливался и, махая хвостом, вопросительно оглядывался назад. \n",
    "По каким-то ему одному известным признакам он всегда безошибочно узнавал дорогу и, \n",
    "весело болтая мохнатыми ушами, кидался галопом вперед. За собакой шел двенадцатилетний \n",
    "мальчик Сергей, который держал под левым локтем свернутый ковер для акробатических упражнений, \n",
    "а в правой нес тесную и грязную клетку со щеглом, обученным вытаскивать из ящика разноцветные бумажки \n",
    "с предсказаниями на будущую жизнь. Наконец сзади плелся старший член труппы – дедушка Мартын Лодыжкин, \n",
    "с шарманкой на скрюченной спине.\n",
    "'''\n",
    "inference(text, model)"
   ]
  },
  {
   "cell_type": "code",
   "execution_count": 69,
   "id": "47115b1c",
   "metadata": {},
   "outputs": [
    {
     "data": {
      "text/plain": [
       "2"
      ]
     },
     "execution_count": 69,
     "metadata": {},
     "output_type": "execute_result"
    }
   ],
   "source": [
    "text = '''\n",
    "копать поздать. есть рыть пить. драть петь взять.\n",
    "'''\n",
    "a = inference(text, model)\n",
    "int(a)"
   ]
  },
  {
   "cell_type": "code",
   "execution_count": 76,
   "id": "c629bf3c",
   "metadata": {
    "scrolled": false
   },
   "outputs": [],
   "source": [
    "predicts = []\n",
    "for text in df['text'][:200]:\n",
    "    predicts.append(int(inference(text, model)))"
   ]
  },
  {
   "cell_type": "code",
   "execution_count": 77,
   "id": "93ac045c",
   "metadata": {},
   "outputs": [
    {
     "data": {
      "text/plain": [
       "Counter({2: 154, 9: 46})"
      ]
     },
     "execution_count": 77,
     "metadata": {},
     "output_type": "execute_result"
    }
   ],
   "source": [
    "from collections import Counter\n",
    "Counter(predicts)\n"
   ]
  },
  {
   "cell_type": "code",
   "execution_count": null,
   "id": "a0ae581c",
   "metadata": {},
   "outputs": [],
   "source": []
  },
  {
   "cell_type": "code",
   "execution_count": 88,
   "id": "576b4c65",
   "metadata": {},
   "outputs": [],
   "source": [
    "device = next(model.parameters()).device\n",
    "\n",
    "preds = []\n",
    "\n",
    "model.eval()\n",
    "for texts, labels in test_loader:\n",
    "        \n",
    "    logits = model.forward(texts.to(device))\n",
    "    preds.extend(list(torch.argmax(logits, dim=1).numpy()))\n"
   ]
  },
  {
   "cell_type": "code",
   "execution_count": 93,
   "id": "06715d93",
   "metadata": {},
   "outputs": [
    {
     "data": {
      "text/plain": [
       "0.14642600408771214"
      ]
     },
     "execution_count": 93,
     "metadata": {},
     "output_type": "execute_result"
    }
   ],
   "source": [
    "f1_score(y_test, preds, average='weighted')"
   ]
  },
  {
   "cell_type": "code",
   "execution_count": null,
   "id": "12d56381",
   "metadata": {},
   "outputs": [],
   "source": []
  },
  {
   "cell_type": "code",
   "execution_count": null,
   "id": "8009ca31",
   "metadata": {},
   "outputs": [],
   "source": []
  },
  {
   "cell_type": "code",
   "execution_count": null,
   "id": "9b51d431",
   "metadata": {},
   "outputs": [],
   "source": []
  }
 ],
 "metadata": {
  "kernelspec": {
   "display_name": "Python 3 (ipykernel)",
   "language": "python",
   "name": "python3"
  },
  "language_info": {
   "codemirror_mode": {
    "name": "ipython",
    "version": 3
   },
   "file_extension": ".py",
   "mimetype": "text/x-python",
   "name": "python",
   "nbconvert_exporter": "python",
   "pygments_lexer": "ipython3",
   "version": "3.12.3"
  }
 },
 "nbformat": 4,
 "nbformat_minor": 5
}
