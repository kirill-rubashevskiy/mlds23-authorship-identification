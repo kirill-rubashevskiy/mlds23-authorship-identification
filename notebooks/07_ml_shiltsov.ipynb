{
 "cells": [
  {
   "cell_type": "markdown",
   "id": "a59f8ee2",
   "metadata": {},
   "source": [
    "## ML модели \n",
    "\n"
   ]
  },
  {
   "cell_type": "markdown",
   "id": "6d1c328e",
   "metadata": {},
   "source": [
    "### Импорты"
   ]
  },
  {
   "cell_type": "code",
   "execution_count": 52,
   "id": "4d7fd870",
   "metadata": {},
   "outputs": [],
   "source": [
    "# S3\n",
    "import boto3\n",
    "import optuna\n",
    "import pandas as pd\n",
    "from catboost import CatBoostClassifier\n",
    "from matplotlib import pyplot as plt\n",
    "from sklearn.decomposition import PCA\n",
    "from sklearn.ensemble import RandomForestClassifier\n",
    "from sklearn.feature_extraction.text import CountVectorizer, TfidfVectorizer\n",
    "from sklearn.linear_model import (  # можно заменить на любимый классификатор\n",
    "    LogisticRegression,\n",
    ")\n",
    "from sklearn.metrics import f1_score, make_scorer\n",
    "from sklearn.model_selection import StratifiedKFold, cross_val_score\n",
    "from sklearn.pipeline import Pipeline\n",
    "\n",
    "from mlds23_authorship_identification.preprocessing import prepare_text"
   ]
  },
  {
   "cell_type": "markdown",
   "id": "e33befb2",
   "metadata": {},
   "source": [
    "### Загрузка данных"
   ]
  },
  {
   "cell_type": "code",
   "execution_count": 2,
   "id": "2930ae27",
   "metadata": {
    "scrolled": false
   },
   "outputs": [],
   "source": [
    "session = boto3.session.Session()\n",
    "\n",
    "# splitted_data/splitted_df_1000.csv\n",
    "# splitted_data/splitted_df_2000.csv\n",
    "# splitted_data/splitted_df_3000.csv\n",
    "\n",
    "s3 = session.client(\n",
    "    service_name=\"s3\",\n",
    "    endpoint_url=\"https://storage.yandexcloud.net\",\n",
    "    aws_access_key_id=\"YCAJErlaldUmioGbHQSqJ70MR\",\n",
    "    aws_secret_access_key=\"YCPSba_JgloNYSNWcnKO2CYCEB8PFR1Iwgr2jIUy\",\n",
    "    region_name=\"ru-cental1\",\n",
    ")\n",
    "\n",
    "BUCKET_NAME = \"mlds23-authorship-identification\"\n",
    "BUCKET_DIR = \"splitted_data/\"\n",
    "FILENAME = \"splitted_df.csv\"\n",
    "# s3.download_file(Filename=\"data/\" + FILENAME, Bucket=BUCKET_NAME, Key=BUCKET_DIR + FILENAME)\n",
    "# загружает в локальную директорию, потом отдельно надо считывать\n",
    "for i in range(1, 4):\n",
    "    FNAME = f\"splitted_df_{i}000.csv\"\n",
    "#    s3.download_file(Filename=\"data/\" + FNAME, Bucket=BUCKET_NAME, Key=BUCKET_DIR + FNAME)"
   ]
  },
  {
   "cell_type": "code",
   "execution_count": 3,
   "id": "331692c2",
   "metadata": {},
   "outputs": [
    {
     "name": "stdout",
     "output_type": "stream",
     "text": [
      "(1794, 4)\n",
      "(399, 4)\n"
     ]
    },
    {
     "data": {
      "text/html": [
       "<div>\n",
       "<style scoped>\n",
       "    .dataframe tbody tr th:only-of-type {\n",
       "        vertical-align: middle;\n",
       "    }\n",
       "\n",
       "    .dataframe tbody tr th {\n",
       "        vertical-align: top;\n",
       "    }\n",
       "\n",
       "    .dataframe thead th {\n",
       "        text-align: right;\n",
       "    }\n",
       "</style>\n",
       "<table border=\"1\" class=\"dataframe\">\n",
       "  <thead>\n",
       "    <tr style=\"text-align: right;\">\n",
       "      <th></th>\n",
       "      <th>Unnamed: 0</th>\n",
       "      <th>target</th>\n",
       "      <th>text</th>\n",
       "      <th>book</th>\n",
       "    </tr>\n",
       "  </thead>\n",
       "  <tbody>\n",
       "    <tr>\n",
       "      <th>0</th>\n",
       "      <td>0</td>\n",
       "      <td>6</td>\n",
       "      <td>Узкими горными тропинками , от одного дачного ...</td>\n",
       "      <td>raw_data/aleksandr_kuprin_belyj_pudel'.txt</td>\n",
       "    </tr>\n",
       "    <tr>\n",
       "      <th>1</th>\n",
       "      <td>1</td>\n",
       "      <td>6</td>\n",
       "      <td>в вечных скитаниях : пуделя Арто и маленького ...</td>\n",
       "      <td>raw_data/aleksandr_kuprin_belyj_pudel'.txt</td>\n",
       "    </tr>\n",
       "    <tr>\n",
       "      <th>2</th>\n",
       "      <td>2</td>\n",
       "      <td>6</td>\n",
       "      <td>, когда весь Крым наполняется нарядной , богат...</td>\n",
       "      <td>raw_data/aleksandr_kuprin_belyj_pudel'.txt</td>\n",
       "    </tr>\n",
       "    <tr>\n",
       "      <th>3</th>\n",
       "      <td>3</td>\n",
       "      <td>6</td>\n",
       "      <td>махали на них с балконов руками , в третьих пр...</td>\n",
       "      <td>raw_data/aleksandr_kuprin_belyj_pudel'.txt</td>\n",
       "    </tr>\n",
       "    <tr>\n",
       "      <th>4</th>\n",
       "      <td>4</td>\n",
       "      <td>6</td>\n",
       "      <td>запыленных кипарисов , похожих на длинные черн...</td>\n",
       "      <td>raw_data/aleksandr_kuprin_belyj_pudel'.txt</td>\n",
       "    </tr>\n",
       "  </tbody>\n",
       "</table>\n",
       "</div>"
      ],
      "text/plain": [
       "   Unnamed: 0  target                                               text  \\\n",
       "0           0       6  Узкими горными тропинками , от одного дачного ...   \n",
       "1           1       6  в вечных скитаниях : пуделя Арто и маленького ...   \n",
       "2           2       6  , когда весь Крым наполняется нарядной , богат...   \n",
       "3           3       6  махали на них с балконов руками , в третьих пр...   \n",
       "4           4       6  запыленных кипарисов , похожих на длинные черн...   \n",
       "\n",
       "                                         book  \n",
       "0  raw_data/aleksandr_kuprin_belyj_pudel'.txt  \n",
       "1  raw_data/aleksandr_kuprin_belyj_pudel'.txt  \n",
       "2  raw_data/aleksandr_kuprin_belyj_pudel'.txt  \n",
       "3  raw_data/aleksandr_kuprin_belyj_pudel'.txt  \n",
       "4  raw_data/aleksandr_kuprin_belyj_pudel'.txt  "
      ]
     },
     "execution_count": 3,
     "metadata": {},
     "output_type": "execute_result"
    }
   ],
   "source": [
    "df = pd.read_csv(\"./data/split_3000_train.csv\")\n",
    "df_test = pd.read_csv(\"./data/split_3000_test.csv\")\n",
    "print(df.shape), print(df_test.shape)\n",
    "df.head()"
   ]
  },
  {
   "cell_type": "code",
   "execution_count": 4,
   "id": "55593674",
   "metadata": {},
   "outputs": [],
   "source": [
    "X = df[\"text\"]\n",
    "X_test = df_test[\"text\"]\n",
    "y = df[\"target\"]\n",
    "y_test = df_test[\"target\"]"
   ]
  },
  {
   "cell_type": "markdown",
   "id": "40489716",
   "metadata": {},
   "source": [
    "## Предобработка и кодирование признаков\n",
    "\n",
    "- исходим из предположения что знаки препинания являются важными признаками, поэтому закодируем некоторые из них в слова\n",
    "- закодируем слова как часть речи, для частей речи имеющих падеж добавим падеж (сущ, прил, местоимение), для частей речи имеющих спряжение добавим спряжение. Формат - ЧАСТЬРЕЧИ_ПАДЕЖ \n",
    "\n",
    "(пример `\"Мама. Мыла раму папе\"` -> `'S,жен,од PNT V,несов,пе S,жен,неод S,муж,од'`)\n",
    "\n",
    "\n",
    "Идея в принципе не нова - в частности похожий подход встречается в статьях\n",
    "\n",
    "О.В. КУКУШКИНА, А.А.ПОЛИКАРПОВ, Д.В. ХМЕЛЁВ - ОПРЕДЕЛЕНИЕ АВТОРСТВА ТЕКСТА С ИСПОЛЬЗОВАНИЕМ БУКВЕННОЙ И ГРАММАТИЧЕСКОЙ ИНФОРМАЦИИ\n",
    "\n",
    "https://www.philol.msu.ru/~lex/khmelev/published/gramcodes/gramcodeswin.html#tth_sEc2\n",
    "\n",
    "Кижаева Наталья Александровна, Шалымов Дмитрий Сергеевич\n",
    "\n",
    "ОПРЕДЕЛЕНИЕ АВТОРСКОГО СТИЛЯ ТЕКСТОВ НА ОСНОВЕ СТАТИСТИЧЕСКОГО ПОДХОДА ДВУХВЫБОРОЧНОГО ТЕСТИРОВАНИЯ И МЕТОДА K -БЛИЖАЙШИХ СОСЕДЕЙ (Компьютерные инструменты в образовании, 2015 No 5: 14–23)"
   ]
  },
  {
   "cell_type": "code",
   "execution_count": 5,
   "id": "8e5c188e",
   "metadata": {
    "scrolled": false
   },
   "outputs": [],
   "source": [
    "# X_f = prepare_text(X, full=True)\n",
    "# X_f_test = prepare_text(X_test, full=True)\n",
    "# X_b = prepare_text(X, full=False)\n",
    "# X_b_test = prepare_text(X_test, full=False)"
   ]
  },
  {
   "cell_type": "code",
   "execution_count": 6,
   "id": "6645c88d",
   "metadata": {
    "scrolled": false
   },
   "outputs": [],
   "source": [
    "# X_f = pd.DataFrame(X_f, columns = ['text'])\n",
    "# X_f_test = pd.DataFrame(X_f_test, columns = ['text'])\n",
    "# X_b = pd.DataFrame(X_b, columns = ['text'])\n",
    "# X_b_test = pd.DataFrame(X_b_test, columns = ['text'])"
   ]
  },
  {
   "cell_type": "code",
   "execution_count": 7,
   "id": "1962a429",
   "metadata": {},
   "outputs": [],
   "source": [
    "# X_f.to_csv('./data/f_prepared_df_3000_newsplit.csv')\n",
    "# X_f_test.to_csv('./data/f_prepared_df_3000_newsplit_test.csv')\n",
    "# X_b.to_csv('./data/b_prepared_df_3000_newsplit.csv')\n",
    "# X_b_test.to_csv('./data/b_prepared_df_3000_newsplit_test.csv')"
   ]
  },
  {
   "cell_type": "code",
   "execution_count": 8,
   "id": "88451a68",
   "metadata": {},
   "outputs": [],
   "source": [
    "X_f = pd.read_csv(\"./data/f_prepared_df_3000_newsplit.csv\")\n",
    "X_f_test = pd.read_csv(\"./data/f_prepared_df_3000_newsplit_test.csv\")\n",
    "X_b = pd.read_csv(\"./data/b_prepared_df_3000_newsplit.csv\")\n",
    "X_b_test = pd.read_csv(\"./data/b_prepared_df_3000_newsplit_test.csv\")"
   ]
  },
  {
   "cell_type": "code",
   "execution_count": 9,
   "id": "a4920c3e",
   "metadata": {},
   "outputs": [],
   "source": [
    "X_f = X_f[[\"text\"]]\n",
    "X_f_test = X_f_test[[\"text\"]]\n",
    "X_b = X_b[[\"text\"]]\n",
    "X_b_test = X_b_test[[\"text\"]]"
   ]
  },
  {
   "cell_type": "markdown",
   "id": "8980aae2",
   "metadata": {},
   "source": [
    "# Эксперименты с линейными моделями"
   ]
  },
  {
   "cell_type": "markdown",
   "id": "a5f6ad57",
   "metadata": {},
   "source": [
    "#### Подготовка BOW и обучение простейшей линейной модели на BOW\n",
    "\n",
    "сначала на урезанных граммах\n",
    "\n"
   ]
  },
  {
   "cell_type": "code",
   "execution_count": 15,
   "id": "b55588d6",
   "metadata": {
    "scrolled": false
   },
   "outputs": [],
   "source": [
    "myvec = CountVectorizer(\n",
    "    ngram_range=(1, 3),\n",
    "    stop_words=None,\n",
    "    lowercase=False,\n",
    "    encoding=\"utf-8\",\n",
    "    token_pattern=r\"(?u)\\b[a-zA-Zа-яА-ЯёЁ0-9,=90|\\-]+\\b\",\n",
    ")\n",
    "\n",
    "X_b_cv = myvec.fit_transform(X_b[\"text\"])\n",
    "X_b_cv_test = myvec.transform(X_b_test[\"text\"])\n",
    "# myvec.vocabulary_.items()"
   ]
  },
  {
   "cell_type": "code",
   "execution_count": 16,
   "id": "60378955",
   "metadata": {
    "scrolled": false
   },
   "outputs": [
    {
     "name": "stdout",
     "output_type": "stream",
     "text": [
      "Средняя F1-мера (weighted) по кросс-валидации: 0.85\n"
     ]
    }
   ],
   "source": [
    "scorer = make_scorer(f1_score, average=\"weighted\")\n",
    "\n",
    "clf = LogisticRegression(random_state=42, max_iter=1200)\n",
    "cv_strategy = StratifiedKFold(n_splits=5, shuffle=True, random_state=42)\n",
    "scores = cross_val_score(clf, X_b_cv, y, cv=cv_strategy, scoring=scorer)\n",
    "\n",
    "print(\"Средняя F1-мера (weighted) по кросс-валидации: {:.2f}\".format(scores.mean()))"
   ]
  },
  {
   "cell_type": "code",
   "execution_count": 17,
   "id": "becbe4c6",
   "metadata": {
    "scrolled": false
   },
   "outputs": [
    {
     "name": "stdout",
     "output_type": "stream",
     "text": [
      "На тесте f1-мера (weighted): 0.715092419814165\n"
     ]
    }
   ],
   "source": [
    "# f1 на тесте\n",
    "clf = LogisticRegression(random_state=42, max_iter=1200)\n",
    "clf.fit(X_b_cv, y)\n",
    "y_pred = clf.predict(X_b_cv_test)\n",
    "f1_test = f1_score(y_test, y_pred, average=\"weighted\")\n",
    "print(\"На тесте f1-мера (weighted):\", f1_test)"
   ]
  },
  {
   "cell_type": "markdown",
   "id": "8c064deb",
   "metadata": {},
   "source": [
    "Теперь на расширенных граммах"
   ]
  },
  {
   "cell_type": "code",
   "execution_count": 23,
   "id": "a4f23a22",
   "metadata": {},
   "outputs": [],
   "source": [
    "myvec = CountVectorizer(\n",
    "    ngram_range=(1, 3),\n",
    "    stop_words=None,\n",
    "    lowercase=False,\n",
    "    encoding=\"utf-8\",\n",
    "    token_pattern=r\"(?u)\\b[a-zA-Zа-яА-ЯёЁ0-9,=90|\\-]+\\b\",\n",
    ")\n",
    "\n",
    "X_f_cv = myvec.fit_transform(X_f[\"text\"])\n",
    "X_f_cv_test = myvec.transform(X_f_test[\"text\"])\n",
    "# myvec.vocabulary_.items()"
   ]
  },
  {
   "cell_type": "code",
   "execution_count": 19,
   "id": "869ab401",
   "metadata": {},
   "outputs": [
    {
     "name": "stdout",
     "output_type": "stream",
     "text": [
      "Средняя F1-мера (weighted) по кросс-валидации: 0.86\n"
     ]
    }
   ],
   "source": [
    "scorer = make_scorer(f1_score, average=\"weighted\")\n",
    "\n",
    "clf = LogisticRegression(random_state=42, max_iter=1200)\n",
    "cv_strategy = StratifiedKFold(n_splits=5, shuffle=True, random_state=42)\n",
    "scores = cross_val_score(clf, X_f_cv, y, cv=cv_strategy, scoring=scorer)\n",
    "\n",
    "print(\"Средняя F1-мера (weighted) по кросс-валидации: {:.2f}\".format(scores.mean()))"
   ]
  },
  {
   "cell_type": "code",
   "execution_count": 24,
   "id": "b5a5ab70",
   "metadata": {
    "scrolled": false
   },
   "outputs": [
    {
     "name": "stdout",
     "output_type": "stream",
     "text": [
      "На тесте f1-мера (weighted): 0.723693378522833\n"
     ]
    }
   ],
   "source": [
    "# f1 на тесте\n",
    "clf = LogisticRegression(random_state=42, max_iter=1200)\n",
    "clf.fit(X_f_cv, y)\n",
    "y_pred = clf.predict(X_f_cv_test)\n",
    "f1_test = f1_score(y_test, y_pred, average=\"weighted\")\n",
    "print(\"На тесте f1-мера (weighted):\", f1_test)"
   ]
  },
  {
   "cell_type": "markdown",
   "id": "1b4be135",
   "metadata": {},
   "source": [
    "#### Обучимся по схеме TF-IDF"
   ]
  },
  {
   "cell_type": "code",
   "execution_count": 25,
   "id": "48c3f857",
   "metadata": {},
   "outputs": [
    {
     "name": "stdout",
     "output_type": "stream",
     "text": [
      "Средняя F1-мера (weighted) по кросс-валидации: 0.37\n"
     ]
    }
   ],
   "source": [
    "vec = TfidfVectorizer(ngram_range=(1, 3))\n",
    "X_f_tf = vec.fit_transform(X_f[\"text\"])\n",
    "\n",
    "scorer = make_scorer(f1_score, average=\"weighted\")\n",
    "\n",
    "clf = LogisticRegression(random_state=42, max_iter=1200)\n",
    "cv_strategy = StratifiedKFold(n_splits=5, shuffle=True, random_state=42)\n",
    "scores = cross_val_score(clf, X_f_tf, y, cv=cv_strategy, scoring=scorer)\n",
    "\n",
    "print(\"Средняя F1-мера (weighted) по кросс-валидации: {:.2f}\".format(scores.mean()))"
   ]
  },
  {
   "cell_type": "code",
   "execution_count": 26,
   "id": "19ef4b2e",
   "metadata": {},
   "outputs": [
    {
     "name": "stdout",
     "output_type": "stream",
     "text": [
      "На тесте f1-мера (weighted): 0.2975289165381088\n"
     ]
    }
   ],
   "source": [
    "# f1 на тесте\n",
    "clf = LogisticRegression(random_state=42, max_iter=1200)\n",
    "clf.fit(X_f_tf, y)\n",
    "y_pred = clf.predict(vec.transform(X_f_test[\"text\"]))\n",
    "f1_test = f1_score(y_test, y_pred, average=\"weighted\")\n",
    "print(\"На тесте f1-мера (weighted):\", f1_test)"
   ]
  },
  {
   "cell_type": "code",
   "execution_count": 27,
   "id": "e253a0f4",
   "metadata": {},
   "outputs": [
    {
     "name": "stdout",
     "output_type": "stream",
     "text": [
      "Средняя F1-мера (weighted) по кросс-валидации: 0.53\n"
     ]
    }
   ],
   "source": [
    "vec = TfidfVectorizer(ngram_range=(1, 3))\n",
    "X_b_tf = vec.fit_transform(X_b[\"text\"])\n",
    "\n",
    "scorer = make_scorer(f1_score, average=\"weighted\")\n",
    "\n",
    "clf = LogisticRegression(random_state=42, max_iter=1200)\n",
    "cv_strategy = StratifiedKFold(n_splits=5, shuffle=True, random_state=42)\n",
    "scores = cross_val_score(clf, X_b_tf, y, cv=cv_strategy, scoring=scorer)\n",
    "\n",
    "print(\"Средняя F1-мера (weighted) по кросс-валидации: {:.2f}\".format(scores.mean()))"
   ]
  },
  {
   "cell_type": "code",
   "execution_count": 28,
   "id": "2757e6ad",
   "metadata": {},
   "outputs": [
    {
     "name": "stdout",
     "output_type": "stream",
     "text": [
      "На тесте f1-мера (weighted): 0.41180234581458325\n"
     ]
    }
   ],
   "source": [
    "# f1 на тесте\n",
    "clf = LogisticRegression(random_state=42, max_iter=1200)\n",
    "clf.fit(X_b_tf, y)\n",
    "y_pred = clf.predict(vec.transform(X_b_test[\"text\"]))\n",
    "f1_test = f1_score(y_test, y_pred, average=\"weighted\")\n",
    "print(\"На тесте f1-мера (weighted):\", f1_test)"
   ]
  },
  {
   "cell_type": "markdown",
   "id": "07cd062e",
   "metadata": {},
   "source": [
    "# Выводы по линейным моделям\n",
    "\n",
    "Линейные модели на простом BOW в целом дают неплохой результат по метрике f1 - модель на урезанных граммах работает чуть хуже чем на полных, TF-IDF полностью проваливается - что в общем-то объяснимо, мы же авторство определяем а не тематическим моделированием занимаемся"
   ]
  },
  {
   "cell_type": "markdown",
   "id": "6b9089d8",
   "metadata": {},
   "source": [
    "# Попробую подружить это все с Catboost\n",
    "\n",
    "сначала на параметрах по умолчанию и на полном датасете с урезанными граммами\n"
   ]
  },
  {
   "cell_type": "code",
   "execution_count": 29,
   "id": "5f65a834",
   "metadata": {
    "scrolled": false
   },
   "outputs": [],
   "source": [
    "scorer = make_scorer(f1_score, average=\"weighted\")\n",
    "model = CatBoostClassifier(silent=True)\n",
    "cvs_f1 = cross_val_score(model, X_b_cv, y, cv=5, scoring=scorer, n_jobs=-1).mean()"
   ]
  },
  {
   "cell_type": "code",
   "execution_count": 30,
   "id": "67e22f47",
   "metadata": {},
   "outputs": [
    {
     "name": "stdout",
     "output_type": "stream",
     "text": [
      "0.6815595710307475\n"
     ]
    }
   ],
   "source": [
    "print(cvs_f1)"
   ]
  },
  {
   "cell_type": "code",
   "execution_count": 33,
   "id": "0d45070a",
   "metadata": {},
   "outputs": [
    {
     "name": "stdout",
     "output_type": "stream",
     "text": [
      "На тесте f1-мера (weighted): 0.6346215430935443\n"
     ]
    }
   ],
   "source": [
    "model = CatBoostClassifier(silent=True)\n",
    "model.fit(X_b_cv, y)\n",
    "y_pred = model.predict(X_b_cv_test)\n",
    "f1_test = f1_score(y_test, y_pred, average=\"weighted\")\n",
    "print(\"На тесте f1-мера (weighted):\", f1_test)"
   ]
  },
  {
   "cell_type": "code",
   "execution_count": null,
   "id": "1b7d2014",
   "metadata": {},
   "outputs": [],
   "source": []
  },
  {
   "cell_type": "markdown",
   "id": "eea1afce",
   "metadata": {},
   "source": [
    "качество на полном наборе признаков для CatboostClassifier `0.6346215430935443` - прямо скажем не очень по сравн5ению с линейной моделью"
   ]
  },
  {
   "cell_type": "markdown",
   "id": "43496e71",
   "metadata": {},
   "source": [
    "вообще катбуст на больших матрицах работает долго и плохо, поэтому сделаю понижение размерности методом PCA"
   ]
  },
  {
   "cell_type": "code",
   "execution_count": 35,
   "id": "1f1dce1e",
   "metadata": {},
   "outputs": [],
   "source": [
    "dispesion_dict_b = {}\n",
    "dispesion_dict_f = {}\n",
    "\n",
    "for i in [10, 20, 30, 40, 50, 100, 150, 200, 500]:\n",
    "    pca = PCA(n_components=i, svd_solver=\"arpack\")\n",
    "    X_b_cv_pca = pca.fit_transform(X_b_cv)\n",
    "    X_b_cv_pca_test = pca.transform(X_b_cv_test)\n",
    "\n",
    "    dispesion_dict_b[i] = sum(pca.explained_variance_ratio_)\n",
    "    X_f_cv_pca = pca.fit_transform(X_f_cv)\n",
    "    X_f_cv_pca_test = pca.transform(X_f_cv_test)\n",
    "\n",
    "    dispesion_dict_f[i] = sum(pca.explained_variance_ratio_)"
   ]
  },
  {
   "cell_type": "code",
   "execution_count": 36,
   "id": "0caa57c0",
   "metadata": {},
   "outputs": [
    {
     "data": {
      "image/png": "[encoded data removed]",
      "text/plain": [
       "<Figure size 640x480 with 1 Axes>"
      ]
     },
     "metadata": {},
     "output_type": "display_data"
    }
   ],
   "source": [
    "plt.figure()\n",
    "\n",
    "plt.title(\"Зависимость сохраненной дисперсии от числа компонент\")\n",
    "plt.plot(dispesion_dict_b.keys(), dispesion_dict_b.values(), c=\"red\")\n",
    "plt.plot(dispesion_dict_f.keys(), dispesion_dict_f.values(), c=\"blue\")\n",
    "\n",
    "plt.xlabel(\"число компонент\")\n",
    "plt.ylabel(\"сохраненная дисперчия\")\n",
    "plt.show()"
   ]
  },
  {
   "cell_type": "markdown",
   "id": "85667311",
   "metadata": {},
   "source": [
    "Видим что для хорошего результата должно хватить 300-500 первых компонент"
   ]
  },
  {
   "cell_type": "code",
   "execution_count": 37,
   "id": "3eff66c4",
   "metadata": {},
   "outputs": [],
   "source": [
    "pca = PCA(n_components=300, svd_solver=\"arpack\")\n",
    "X_b_cv_pca = pca.fit_transform(X_b_cv)"
   ]
  },
  {
   "cell_type": "markdown",
   "id": "441e8ae2",
   "metadata": {},
   "source": [
    "## Настройка Catboot (optuna)"
   ]
  },
  {
   "cell_type": "code",
   "execution_count": 38,
   "id": "00c1f444",
   "metadata": {
    "scrolled": false
   },
   "outputs": [
    {
     "name": "stderr",
     "output_type": "stream",
     "text": [
      "[I 2024-02-29 02:56:39,475] A new study created in memory with name: no-name-a11b7e94-8f4b-48b1-bca2-00e2277af719\n",
      "[I 2024-02-29 02:57:10,646] Trial 0 finished with value: 0.4452299841453874 and parameters: {'iterations': 241, 'learning_rate': 0.026253225068657755, 'l2_leaf_reg': 0.04079796423794623, 'border_count': 3}. Best is trial 0 with value: 0.4452299841453874.\n"
     ]
    },
    {
     "name": "stdout",
     "output_type": "stream",
     "text": [
      "cvs_f1:  0.4452299841453874\n"
     ]
    },
    {
     "name": "stderr",
     "output_type": "stream",
     "text": [
      "[I 2024-02-29 04:35:53,431] Trial 1 finished with value: 0.3850061695508577 and parameters: {'iterations': 270, 'learning_rate': 0.03368142795906269, 'l2_leaf_reg': 0.23230302450310716, 'border_count': 10}. Best is trial 0 with value: 0.4452299841453874.\n"
     ]
    },
    {
     "name": "stdout",
     "output_type": "stream",
     "text": [
      "cvs_f1:  0.3850061695508577\n"
     ]
    },
    {
     "name": "stderr",
     "output_type": "stream",
     "text": [
      "[I 2024-02-29 04:36:03,706] Trial 2 finished with value: 0.5327199423077984 and parameters: {'iterations': 428, 'learning_rate': 0.07100172717867796, 'l2_leaf_reg': 0.0011589257581291741, 'border_count': 1}. Best is trial 2 with value: 0.5327199423077984.\n"
     ]
    },
    {
     "name": "stdout",
     "output_type": "stream",
     "text": [
      "cvs_f1:  0.5327199423077984\n"
     ]
    },
    {
     "name": "stderr",
     "output_type": "stream",
     "text": [
      "[I 2024-02-29 04:38:09,438] Trial 3 finished with value: 0.6042932021234266 and parameters: {'iterations': 457, 'learning_rate': 0.16219043155261925, 'l2_leaf_reg': 0.006095048072504868, 'border_count': 4}. Best is trial 3 with value: 0.6042932021234266.\n"
     ]
    },
    {
     "name": "stdout",
     "output_type": "stream",
     "text": [
      "cvs_f1:  0.6042932021234266\n"
     ]
    },
    {
     "name": "stderr",
     "output_type": "stream",
     "text": [
      "[I 2024-02-29 05:35:35,568] Trial 4 finished with value: 0.45879862795188425 and parameters: {'iterations': 321, 'learning_rate': 0.07146024131097835, 'l2_leaf_reg': 0.0032679474180794805, 'border_count': 9}. Best is trial 3 with value: 0.6042932021234266.\n"
     ]
    },
    {
     "name": "stdout",
     "output_type": "stream",
     "text": [
      "cvs_f1:  0.45879862795188425\n"
     ]
    },
    {
     "name": "stderr",
     "output_type": "stream",
     "text": [
      "[I 2024-02-29 05:44:37,680] Trial 5 finished with value: 0.5254273020466225 and parameters: {'iterations': 235, 'learning_rate': 0.09617597812712608, 'l2_leaf_reg': 0.46171505160801685, 'border_count': 7}. Best is trial 3 with value: 0.6042932021234266.\n"
     ]
    },
    {
     "name": "stdout",
     "output_type": "stream",
     "text": [
      "cvs_f1:  0.5254273020466225\n"
     ]
    },
    {
     "name": "stderr",
     "output_type": "stream",
     "text": [
      "[I 2024-02-29 05:50:52,324] Trial 6 finished with value: 0.5477420610437405 and parameters: {'iterations': 436, 'learning_rate': 0.031023229923340848, 'l2_leaf_reg': 1.073463954859143, 'border_count': 6}. Best is trial 3 with value: 0.6042932021234266.\n"
     ]
    },
    {
     "name": "stdout",
     "output_type": "stream",
     "text": [
      "cvs_f1:  0.5477420610437405\n"
     ]
    },
    {
     "name": "stderr",
     "output_type": "stream",
     "text": [
      "[I 2024-02-29 06:41:53,008] Trial 7 finished with value: 0.3645200992197382 and parameters: {'iterations': 285, 'learning_rate': 0.012571455411701188, 'l2_leaf_reg': 0.08568766822862353, 'border_count': 9}. Best is trial 3 with value: 0.6042932021234266.\n"
     ]
    },
    {
     "name": "stdout",
     "output_type": "stream",
     "text": [
      "cvs_f1:  0.3645200992197382\n"
     ]
    },
    {
     "name": "stderr",
     "output_type": "stream",
     "text": [
      "[I 2024-02-29 06:44:55,429] Trial 8 finished with value: 0.4457832988613129 and parameters: {'iterations': 278, 'learning_rate': 0.014046077630984954, 'l2_leaf_reg': 0.02183761630058956, 'border_count': 5}. Best is trial 3 with value: 0.6042932021234266.\n"
     ]
    },
    {
     "name": "stdout",
     "output_type": "stream",
     "text": [
      "cvs_f1:  0.4457832988613129\n"
     ]
    },
    {
     "name": "stderr",
     "output_type": "stream",
     "text": [
      "[I 2024-02-29 07:04:42,473] Trial 9 finished with value: 0.40830135946853 and parameters: {'iterations': 230, 'learning_rate': 0.0375383395486289, 'l2_leaf_reg': 0.0038110749112238397, 'border_count': 8}. Best is trial 3 with value: 0.6042932021234266.\n"
     ]
    },
    {
     "name": "stdout",
     "output_type": "stream",
     "text": [
      "cvs_f1:  0.40830135946853\n"
     ]
    },
    {
     "name": "stderr",
     "output_type": "stream",
     "text": [
      "[I 2024-02-29 07:05:10,709] Trial 10 finished with value: 0.5341174957165118 and parameters: {'iterations': 101, 'learning_rate': 0.17566583286098847, 'l2_leaf_reg': 7.014150993724178, 'border_count': 4}. Best is trial 3 with value: 0.6042932021234266.\n"
     ]
    },
    {
     "name": "stdout",
     "output_type": "stream",
     "text": [
      "cvs_f1:  0.5341174957165118\n"
     ]
    },
    {
     "name": "stderr",
     "output_type": "stream",
     "text": [
      "[I 2024-02-29 07:12:15,432] Trial 11 finished with value: 0.6160458094798533 and parameters: {'iterations': 497, 'learning_rate': 0.16355856842972372, 'l2_leaf_reg': 1.8478491911138304, 'border_count': 6}. Best is trial 11 with value: 0.6160458094798533.\n"
     ]
    },
    {
     "name": "stdout",
     "output_type": "stream",
     "text": [
      "cvs_f1:  0.6160458094798533\n"
     ]
    },
    {
     "name": "stderr",
     "output_type": "stream",
     "text": [
      "[I 2024-02-29 07:12:43,491] Trial 12 finished with value: 0.6117824295124673 and parameters: {'iterations': 498, 'learning_rate': 0.1968820513864568, 'l2_leaf_reg': 6.334007093935406, 'border_count': 2}. Best is trial 11 with value: 0.6160458094798533.\n"
     ]
    },
    {
     "name": "stdout",
     "output_type": "stream",
     "text": [
      "cvs_f1:  0.6117824295124673\n"
     ]
    },
    {
     "name": "stderr",
     "output_type": "stream",
     "text": [
      "[I 2024-02-29 07:12:55,942] Trial 13 finished with value: 0.5552259648569426 and parameters: {'iterations': 497, 'learning_rate': 0.12003130006860199, 'l2_leaf_reg': 8.638026560402322, 'border_count': 1}. Best is trial 11 with value: 0.6160458094798533.\n"
     ]
    },
    {
     "name": "stdout",
     "output_type": "stream",
     "text": [
      "cvs_f1:  0.5552259648569426\n"
     ]
    },
    {
     "name": "stderr",
     "output_type": "stream",
     "text": [
      "[I 2024-02-29 07:13:39,581] Trial 14 finished with value: 0.6151856177065304 and parameters: {'iterations': 359, 'learning_rate': 0.18838845607708526, 'l2_leaf_reg': 2.099749783265241, 'border_count': 3}. Best is trial 11 with value: 0.6160458094798533.\n"
     ]
    },
    {
     "name": "stdout",
     "output_type": "stream",
     "text": [
      "cvs_f1:  0.6151856177065304\n"
     ]
    },
    {
     "name": "stderr",
     "output_type": "stream",
     "text": [
      "[I 2024-02-29 07:17:31,438] Trial 15 finished with value: 0.6061099216302297 and parameters: {'iterations': 355, 'learning_rate': 0.11243242746689491, 'l2_leaf_reg': 1.4294527639613126, 'border_count': 5}. Best is trial 11 with value: 0.6160458094798533.\n"
     ]
    },
    {
     "name": "stdout",
     "output_type": "stream",
     "text": [
      "cvs_f1:  0.6061099216302297\n"
     ]
    },
    {
     "name": "stderr",
     "output_type": "stream",
     "text": [
      "[I 2024-02-29 07:18:15,631] Trial 16 finished with value: 0.5827446832110986 and parameters: {'iterations': 360, 'learning_rate': 0.06798441465476796, 'l2_leaf_reg': 1.7252058969778694, 'border_count': 3}. Best is trial 11 with value: 0.6160458094798533.\n"
     ]
    },
    {
     "name": "stdout",
     "output_type": "stream",
     "text": [
      "cvs_f1:  0.5827446832110986\n"
     ]
    },
    {
     "name": "stderr",
     "output_type": "stream",
     "text": [
      "[I 2024-02-29 07:23:50,106] Trial 17 finished with value: 0.5561093420273425 and parameters: {'iterations': 391, 'learning_rate': 0.05281475808210356, 'l2_leaf_reg': 0.41321902416184175, 'border_count': 6}. Best is trial 11 with value: 0.6160458094798533.\n"
     ]
    },
    {
     "name": "stdout",
     "output_type": "stream",
     "text": [
      "cvs_f1:  0.5561093420273425\n"
     ]
    },
    {
     "name": "stderr",
     "output_type": "stream",
     "text": [
      "[I 2024-02-29 07:30:56,029] Trial 18 finished with value: 0.38209767502966513 and parameters: {'iterations': 185, 'learning_rate': 0.02188603918810856, 'l2_leaf_reg': 3.1530449023143903, 'border_count': 7}. Best is trial 11 with value: 0.6160458094798533.\n"
     ]
    },
    {
     "name": "stdout",
     "output_type": "stream",
     "text": [
      "cvs_f1:  0.38209767502966513\n"
     ]
    },
    {
     "name": "stderr",
     "output_type": "stream",
     "text": [
      "[I 2024-02-29 07:31:45,499] Trial 19 finished with value: 0.620914395773473 and parameters: {'iterations': 403, 'learning_rate': 0.12494909622278769, 'l2_leaf_reg': 0.16303118040835743, 'border_count': 3}. Best is trial 19 with value: 0.620914395773473.\n"
     ]
    },
    {
     "name": "stdout",
     "output_type": "stream",
     "text": [
      "cvs_f1:  0.620914395773473\n"
     ]
    },
    {
     "name": "stderr",
     "output_type": "stream",
     "text": [
      "[I 2024-02-29 07:33:37,544] Trial 20 finished with value: 0.6069791857852688 and parameters: {'iterations': 410, 'learning_rate': 0.1309702518978046, 'l2_leaf_reg': 0.13332388539195053, 'border_count': 4}. Best is trial 19 with value: 0.620914395773473.\n"
     ]
    },
    {
     "name": "stdout",
     "output_type": "stream",
     "text": [
      "cvs_f1:  0.6069791857852688\n"
     ]
    },
    {
     "name": "stderr",
     "output_type": "stream",
     "text": [
      "[I 2024-02-29 07:34:22,528] Trial 21 finished with value: 0.6177739383631268 and parameters: {'iterations': 367, 'learning_rate': 0.1367508256001792, 'l2_leaf_reg': 0.8115156333675098, 'border_count': 3}. Best is trial 19 with value: 0.620914395773473.\n"
     ]
    },
    {
     "name": "stdout",
     "output_type": "stream",
     "text": [
      "cvs_f1:  0.6177739383631268\n"
     ]
    },
    {
     "name": "stderr",
     "output_type": "stream",
     "text": [
      "[I 2024-02-29 07:34:49,026] Trial 22 finished with value: 0.5976722136399838 and parameters: {'iterations': 470, 'learning_rate': 0.08695350488516744, 'l2_leaf_reg': 0.6582880725307003, 'border_count': 2}. Best is trial 19 with value: 0.620914395773473.\n"
     ]
    },
    {
     "name": "stdout",
     "output_type": "stream",
     "text": [
      "cvs_f1:  0.5976722136399838\n"
     ]
    },
    {
     "name": "stderr",
     "output_type": "stream",
     "text": [
      "[I 2024-02-29 07:35:11,047] Trial 23 finished with value: 0.5901509057360872 and parameters: {'iterations': 391, 'learning_rate': 0.14376076519179115, 'l2_leaf_reg': 0.2641791223294588, 'border_count': 2}. Best is trial 19 with value: 0.620914395773473.\n"
     ]
    },
    {
     "name": "stdout",
     "output_type": "stream",
     "text": [
      "cvs_f1:  0.5901509057360872\n"
     ]
    },
    {
     "name": "stderr",
     "output_type": "stream",
     "text": [
      "[I 2024-02-29 07:38:42,165] Trial 24 finished with value: 0.5777236394881602 and parameters: {'iterations': 322, 'learning_rate': 0.1028571287220747, 'l2_leaf_reg': 0.08670506606904832, 'border_count': 5}. Best is trial 19 with value: 0.620914395773473.\n"
     ]
    },
    {
     "name": "stdout",
     "output_type": "stream",
     "text": [
      "cvs_f1:  0.5777236394881602\n"
     ]
    },
    {
     "name": "stderr",
     "output_type": "stream",
     "text": [
      "[I 2024-02-29 07:56:13,389] Trial 25 finished with value: 0.5733819290898512 and parameters: {'iterations': 459, 'learning_rate': 0.138358171677915, 'l2_leaf_reg': 0.7440136482549596, 'border_count': 7}. Best is trial 19 with value: 0.620914395773473.\n"
     ]
    },
    {
     "name": "stdout",
     "output_type": "stream",
     "text": [
      "cvs_f1:  0.5733819290898512\n"
     ]
    },
    {
     "name": "stderr",
     "output_type": "stream",
     "text": [
      "[I 2024-02-29 07:57:57,092] Trial 26 finished with value: 0.5596931526498488 and parameters: {'iterations': 377, 'learning_rate': 0.051170177758127926, 'l2_leaf_reg': 4.125101159783158, 'border_count': 4}. Best is trial 19 with value: 0.620914395773473.\n"
     ]
    },
    {
     "name": "stdout",
     "output_type": "stream",
     "text": [
      "cvs_f1:  0.5596931526498488\n"
     ]
    },
    {
     "name": "stderr",
     "output_type": "stream",
     "text": [
      "[I 2024-02-29 08:02:36,511] Trial 27 finished with value: 0.5485306964121318 and parameters: {'iterations': 327, 'learning_rate': 0.0894926605164632, 'l2_leaf_reg': 0.03768292619039988, 'border_count': 6}. Best is trial 19 with value: 0.620914395773473.\n"
     ]
    },
    {
     "name": "stdout",
     "output_type": "stream",
     "text": [
      "cvs_f1:  0.5485306964121318\n"
     ]
    },
    {
     "name": "stderr",
     "output_type": "stream",
     "text": [
      "[I 2024-02-29 08:03:28,594] Trial 28 finished with value: 0.6132617222144442 and parameters: {'iterations': 427, 'learning_rate': 0.15867139773769987, 'l2_leaf_reg': 0.17280560510841492, 'border_count': 3}. Best is trial 19 with value: 0.620914395773473.\n"
     ]
    },
    {
     "name": "stdout",
     "output_type": "stream",
     "text": [
      "cvs_f1:  0.6132617222144442\n"
     ]
    },
    {
     "name": "stderr",
     "output_type": "stream",
     "text": [
      "[I 2024-02-29 08:03:55,795] Trial 29 finished with value: 0.5866527322347246 and parameters: {'iterations': 482, 'learning_rate': 0.07804534710224106, 'l2_leaf_reg': 0.01903863047264629, 'border_count': 2}. Best is trial 19 with value: 0.620914395773473.\n"
     ]
    },
    {
     "name": "stdout",
     "output_type": "stream",
     "text": [
      "cvs_f1:  0.5866527322347246\n"
     ]
    }
   ],
   "source": [
    "scorer = make_scorer(f1_score, average=\"weighted\")\n",
    "\n",
    "\n",
    "def objective(trial):\n",
    "    params = {\n",
    "        \"iterations\": trial.suggest_int(\"iterations\", 100, 500),\n",
    "        \"learning_rate\": trial.suggest_float(\"learning_rate\", 0.01, 0.2, log=True),\n",
    "        \"l2_leaf_reg\": trial.suggest_float(\"l2_leaf_reg\", 1e-3, 10, log=True),\n",
    "        \"max_depth\": trial.suggest_int(\"border_count\", 1, 10),\n",
    "    }\n",
    "\n",
    "    model = CatBoostClassifier(**params, silent=True)\n",
    "    cvs_f1 = cross_val_score(model, X_b_cv_pca, y, cv=5, scoring=scorer, n_jobs=-1).mean()\n",
    "    print(\"cvs_f1: \", cvs_f1)\n",
    "    return cvs_f1\n",
    "\n",
    "\n",
    "study = optuna.create_study(direction=\"maximize\")\n",
    "study.optimize(objective, n_trials=30)"
   ]
  },
  {
   "cell_type": "code",
   "execution_count": 39,
   "id": "29601404",
   "metadata": {
    "scrolled": false
   },
   "outputs": [
    {
     "name": "stdout",
     "output_type": "stream",
     "text": [
      "Best hyperparameters: {'iterations': 403, 'learning_rate': 0.12494909622278769, 'l2_leaf_reg': 0.16303118040835743, 'border_count': 3}\n",
      "Best f1: 0.620914395773473\n"
     ]
    }
   ],
   "source": [
    "print(\"Best hyperparameters:\", study.best_params)\n",
    "print(\"Best f1:\", study.best_value)"
   ]
  },
  {
   "cell_type": "markdown",
   "id": "ae42b0de",
   "metadata": {},
   "source": [
    "### Подбором параметров для CatBoost сильно улучшить модель не получилось, хотя работало примерно часов 20 \n",
    "\n",
    "возможно если бы аптюнили на полном наборе признаков - было бы лучше но мы этого на текущем круге сансары не узнаем потому что очень долго.\n",
    "\n",
    "`Best hyperparameters: {'iterations': 403, 'learning_rate': 0.12494909622278769, 'l2_leaf_reg': 0.16303118040835743, 'border_count': 3}\n",
    "Best f1: 0.620914395773473`"
   ]
  },
  {
   "cell_type": "markdown",
   "id": "4fd6309e",
   "metadata": {},
   "source": [
    "### RandomForest "
   ]
  },
  {
   "cell_type": "code",
   "execution_count": 40,
   "id": "fb37683b",
   "metadata": {},
   "outputs": [
    {
     "name": "stdout",
     "output_type": "stream",
     "text": [
      "0.3715402172649144\n"
     ]
    }
   ],
   "source": [
    "scorer = make_scorer(f1_score, average=\"weighted\")\n",
    "\n",
    "rfc = RandomForestClassifier(n_estimators=800)\n",
    "cvs_f1 = cross_val_score(rfc, X_f_cv, y, cv=5, scoring=scorer, n_jobs=-1).mean()\n",
    "print(cvs_f1)"
   ]
  },
  {
   "cell_type": "markdown",
   "id": "5d8811d6",
   "metadata": {},
   "source": [
    "результат не впечатляет. пробуем аптюнить"
   ]
  },
  {
   "cell_type": "code",
   "execution_count": 41,
   "id": "6cb5405d",
   "metadata": {
    "scrolled": false
   },
   "outputs": [
    {
     "name": "stderr",
     "output_type": "stream",
     "text": [
      "[I 2024-02-29 11:55:30,127] A new study created in memory with name: no-name-a2759df0-3535-44a0-98c7-bcac093f8fc1\n",
      "[I 2024-02-29 11:55:49,382] Trial 0 finished with value: 0.08959216495454334 and parameters: {'n_estimators': 1500, 'max_depth': 330, 'min_samples_split': 134, 'criterion': 'entropy', 'border_count': 0.04797376097297706}. Best is trial 0 with value: 0.08959216495454334.\n"
     ]
    },
    {
     "name": "stdout",
     "output_type": "stream",
     "text": [
      "cvs_f1:  0.08959216495454334\n"
     ]
    },
    {
     "name": "stderr",
     "output_type": "stream",
     "text": [
      "[I 2024-02-29 11:55:53,807] Trial 1 finished with value: 0.08959216495454334 and parameters: {'n_estimators': 300, 'max_depth': 461, 'min_samples_split': 57, 'criterion': 'entropy', 'border_count': 0.07969988467979479}. Best is trial 0 with value: 0.08959216495454334.\n"
     ]
    },
    {
     "name": "stdout",
     "output_type": "stream",
     "text": [
      "cvs_f1:  0.08959216495454334\n"
     ]
    },
    {
     "name": "stderr",
     "output_type": "stream",
     "text": [
      "[I 2024-02-29 11:56:20,974] Trial 2 finished with value: 0.08959216495454334 and parameters: {'n_estimators': 900, 'max_depth': 84, 'min_samples_split': 16, 'criterion': 'log_loss', 'border_count': 0.0470643793625172}. Best is trial 0 with value: 0.08959216495454334.\n"
     ]
    },
    {
     "name": "stdout",
     "output_type": "stream",
     "text": [
      "cvs_f1:  0.08959216495454334\n"
     ]
    },
    {
     "name": "stderr",
     "output_type": "stream",
     "text": [
      "[I 2024-02-29 11:56:28,313] Trial 3 finished with value: 0.08959216495454334 and parameters: {'n_estimators': 100, 'max_depth': 129, 'min_samples_split': 3, 'criterion': 'gini', 'border_count': 0.088776211582944}. Best is trial 0 with value: 0.08959216495454334.\n"
     ]
    },
    {
     "name": "stdout",
     "output_type": "stream",
     "text": [
      "cvs_f1:  0.08959216495454334\n"
     ]
    },
    {
     "name": "stderr",
     "output_type": "stream",
     "text": [
      "[I 2024-02-29 11:56:48,984] Trial 4 finished with value: 0.08959216495454334 and parameters: {'n_estimators': 1500, 'max_depth': 52, 'min_samples_split': 80, 'criterion': 'entropy', 'border_count': 0.08122067002314037}. Best is trial 0 with value: 0.08959216495454334.\n"
     ]
    },
    {
     "name": "stdout",
     "output_type": "stream",
     "text": [
      "cvs_f1:  0.08959216495454334\n"
     ]
    },
    {
     "name": "stderr",
     "output_type": "stream",
     "text": [
      "[I 2024-02-29 11:57:05,834] Trial 5 finished with value: 0.08959216495454334 and parameters: {'n_estimators': 1200, 'max_depth': 397, 'min_samples_split': 119, 'criterion': 'gini', 'border_count': 0.01979140742777621}. Best is trial 0 with value: 0.08959216495454334.\n"
     ]
    },
    {
     "name": "stdout",
     "output_type": "stream",
     "text": [
      "cvs_f1:  0.08959216495454334\n"
     ]
    },
    {
     "name": "stderr",
     "output_type": "stream",
     "text": [
      "[I 2024-02-29 11:57:35,570] Trial 6 finished with value: 0.08959216495454334 and parameters: {'n_estimators': 600, 'max_depth': 159, 'min_samples_split': 7, 'criterion': 'log_loss', 'border_count': 0.07414268409318868}. Best is trial 0 with value: 0.08959216495454334.\n"
     ]
    },
    {
     "name": "stdout",
     "output_type": "stream",
     "text": [
      "cvs_f1:  0.08959216495454334\n"
     ]
    },
    {
     "name": "stderr",
     "output_type": "stream",
     "text": [
      "[I 2024-02-29 11:57:42,738] Trial 7 finished with value: 0.08959216495454334 and parameters: {'n_estimators': 300, 'max_depth': 208, 'min_samples_split': 45, 'criterion': 'gini', 'border_count': 0.031181924507899174}. Best is trial 0 with value: 0.08959216495454334.\n"
     ]
    },
    {
     "name": "stdout",
     "output_type": "stream",
     "text": [
      "cvs_f1:  0.08959216495454334\n"
     ]
    },
    {
     "name": "stderr",
     "output_type": "stream",
     "text": [
      "[I 2024-02-29 11:58:20,336] Trial 8 finished with value: 0.08959216495454334 and parameters: {'n_estimators': 1500, 'max_depth': 402, 'min_samples_split': 21, 'criterion': 'entropy', 'border_count': 0.05422278833001037}. Best is trial 0 with value: 0.08959216495454334.\n"
     ]
    },
    {
     "name": "stdout",
     "output_type": "stream",
     "text": [
      "cvs_f1:  0.08959216495454334\n"
     ]
    },
    {
     "name": "stderr",
     "output_type": "stream",
     "text": [
      "[I 2024-02-29 11:58:33,258] Trial 9 finished with value: 0.09747385683464908 and parameters: {'n_estimators': 300, 'max_depth': 33, 'min_samples_split': 12, 'criterion': 'gini', 'border_count': 0.009545747773259472}. Best is trial 9 with value: 0.09747385683464908.\n"
     ]
    },
    {
     "name": "stdout",
     "output_type": "stream",
     "text": [
      "cvs_f1:  0.09747385683464908\n"
     ]
    },
    {
     "name": "stderr",
     "output_type": "stream",
     "text": [
      "[I 2024-02-29 11:58:51,061] Trial 10 finished with value: 0.3543327068460911 and parameters: {'n_estimators': 300, 'max_depth': 24, 'min_samples_split': 2, 'criterion': 'gini', 'border_count': 4.156846099287806e-05}. Best is trial 10 with value: 0.3543327068460911.\n"
     ]
    },
    {
     "name": "stdout",
     "output_type": "stream",
     "text": [
      "cvs_f1:  0.3543327068460911\n"
     ]
    },
    {
     "name": "stderr",
     "output_type": "stream",
     "text": [
      "[I 2024-02-29 11:58:54,664] Trial 11 finished with value: 0.11073472788400256 and parameters: {'n_estimators': 300, 'max_depth': 5, 'min_samples_split': 2, 'criterion': 'gini', 'border_count': 0.008646898317002964}. Best is trial 10 with value: 0.3543327068460911.\n"
     ]
    },
    {
     "name": "stdout",
     "output_type": "stream",
     "text": [
      "cvs_f1:  0.11073472788400256\n"
     ]
    },
    {
     "name": "stderr",
     "output_type": "stream",
     "text": [
      "[I 2024-02-29 11:59:15,322] Trial 12 finished with value: 0.3615247470138968 and parameters: {'n_estimators': 300, 'max_depth': 29, 'min_samples_split': 2, 'criterion': 'gini', 'border_count': 0.0012667413396045945}. Best is trial 12 with value: 0.3615247470138968.\n"
     ]
    },
    {
     "name": "stdout",
     "output_type": "stream",
     "text": [
      "cvs_f1:  0.3615247470138968\n"
     ]
    },
    {
     "name": "stderr",
     "output_type": "stream",
     "text": [
      "[I 2024-02-29 11:59:34,991] Trial 13 finished with value: 0.22245943052182687 and parameters: {'n_estimators': 300, 'max_depth': 270, 'min_samples_split': 4, 'criterion': 'gini', 'border_count': 0.004929716019363526}. Best is trial 12 with value: 0.3615247470138968.\n"
     ]
    },
    {
     "name": "stdout",
     "output_type": "stream",
     "text": [
      "cvs_f1:  0.22245943052182687\n"
     ]
    },
    {
     "name": "stderr",
     "output_type": "stream",
     "text": [
      "[I 2024-02-29 11:59:42,816] Trial 14 finished with value: 0.08959216495454334 and parameters: {'n_estimators': 100, 'max_depth': 117, 'min_samples_split': 2, 'criterion': 'gini', 'border_count': 0.02828739692420393}. Best is trial 12 with value: 0.3615247470138968.\n"
     ]
    },
    {
     "name": "stdout",
     "output_type": "stream",
     "text": [
      "cvs_f1:  0.08959216495454334\n"
     ]
    },
    {
     "name": "stderr",
     "output_type": "stream",
     "text": [
      "[I 2024-02-29 12:00:38,515] Trial 15 finished with value: 0.36581414675850044 and parameters: {'n_estimators': 900, 'max_depth': 192, 'min_samples_split': 5, 'criterion': 'gini', 'border_count': 0.0010970559958258165}. Best is trial 15 with value: 0.36581414675850044.\n"
     ]
    },
    {
     "name": "stdout",
     "output_type": "stream",
     "text": [
      "cvs_f1:  0.36581414675850044\n"
     ]
    },
    {
     "name": "stderr",
     "output_type": "stream",
     "text": [
      "[I 2024-02-29 12:01:26,748] Trial 16 finished with value: 0.21988925172561052 and parameters: {'n_estimators': 900, 'max_depth': 219, 'min_samples_split': 6, 'criterion': 'log_loss', 'border_count': 0.02048742854846049}. Best is trial 15 with value: 0.36581414675850044.\n"
     ]
    },
    {
     "name": "stdout",
     "output_type": "stream",
     "text": [
      "cvs_f1:  0.21988925172561052\n"
     ]
    },
    {
     "name": "stderr",
     "output_type": "stream",
     "text": [
      "[I 2024-02-29 12:02:12,264] Trial 17 finished with value: 0.08959216495454334 and parameters: {'n_estimators': 900, 'max_depth': 294, 'min_samples_split': 8, 'criterion': 'gini', 'border_count': 0.03757289469635601}. Best is trial 15 with value: 0.36581414675850044.\n"
     ]
    },
    {
     "name": "stdout",
     "output_type": "stream",
     "text": [
      "cvs_f1:  0.08959216495454334\n"
     ]
    },
    {
     "name": "stderr",
     "output_type": "stream",
     "text": [
      "[I 2024-02-29 12:03:31,280] Trial 18 finished with value: 0.08959216495454334 and parameters: {'n_estimators': 1200, 'max_depth': 174, 'min_samples_split': 4, 'criterion': 'gini', 'border_count': 0.06085881139943564}. Best is trial 15 with value: 0.36581414675850044.\n"
     ]
    },
    {
     "name": "stdout",
     "output_type": "stream",
     "text": [
      "cvs_f1:  0.08959216495454334\n"
     ]
    },
    {
     "name": "stderr",
     "output_type": "stream",
     "text": [
      "[I 2024-02-29 12:03:44,345] Trial 19 finished with value: 0.2389325408401183 and parameters: {'n_estimators': 600, 'max_depth': 91, 'min_samples_split': 29, 'criterion': 'log_loss', 'border_count': 0.014373549538159733}. Best is trial 15 with value: 0.36581414675850044.\n"
     ]
    },
    {
     "name": "stdout",
     "output_type": "stream",
     "text": [
      "cvs_f1:  0.2389325408401183\n"
     ]
    },
    {
     "name": "stderr",
     "output_type": "stream",
     "text": [
      "[I 2024-02-29 12:04:41,766] Trial 20 finished with value: 0.08959216495454334 and parameters: {'n_estimators': 900, 'max_depth': 331, 'min_samples_split': 4, 'criterion': 'gini', 'border_count': 0.03762054764060612}. Best is trial 15 with value: 0.36581414675850044.\n"
     ]
    },
    {
     "name": "stdout",
     "output_type": "stream",
     "text": [
      "cvs_f1:  0.08959216495454334\n"
     ]
    },
    {
     "name": "stderr",
     "output_type": "stream",
     "text": [
      "[I 2024-02-29 12:05:05,062] Trial 21 finished with value: 0.3673615204806674 and parameters: {'n_estimators': 300, 'max_depth': 52, 'min_samples_split': 2, 'criterion': 'gini', 'border_count': 0.0009182938332930469}. Best is trial 21 with value: 0.3673615204806674.\n"
     ]
    },
    {
     "name": "stdout",
     "output_type": "stream",
     "text": [
      "cvs_f1:  0.3673615204806674\n"
     ]
    },
    {
     "name": "stderr",
     "output_type": "stream",
     "text": [
      "[I 2024-02-29 12:05:25,743] Trial 22 finished with value: 0.3460174561960144 and parameters: {'n_estimators': 300, 'max_depth': 70, 'min_samples_split': 3, 'criterion': 'gini', 'border_count': 0.001522186157954535}. Best is trial 21 with value: 0.3673615204806674.\n"
     ]
    },
    {
     "name": "stdout",
     "output_type": "stream",
     "text": [
      "cvs_f1:  0.3460174561960144\n"
     ]
    },
    {
     "name": "stderr",
     "output_type": "stream",
     "text": [
      "[I 2024-02-29 12:06:33,927] Trial 23 finished with value: 0.08959216495454334 and parameters: {'n_estimators': 900, 'max_depth': 146, 'min_samples_split': 2, 'criterion': 'gini', 'border_count': 0.017879959501569093}. Best is trial 21 with value: 0.3673615204806674.\n"
     ]
    },
    {
     "name": "stdout",
     "output_type": "stream",
     "text": [
      "cvs_f1:  0.08959216495454334\n"
     ]
    },
    {
     "name": "stderr",
     "output_type": "stream",
     "text": [
      "[I 2024-02-29 12:06:56,995] Trial 24 finished with value: 0.08959216495454334 and parameters: {'n_estimators': 300, 'max_depth': 206, 'min_samples_split': 3, 'criterion': 'gini', 'border_count': 0.01176067096891476}. Best is trial 21 with value: 0.3673615204806674.\n"
     ]
    },
    {
     "name": "stdout",
     "output_type": "stream",
     "text": [
      "cvs_f1:  0.08959216495454334\n"
     ]
    },
    {
     "name": "stderr",
     "output_type": "stream",
     "text": [
      "[I 2024-02-29 12:07:14,860] Trial 25 finished with value: 0.08959216495454334 and parameters: {'n_estimators': 1200, 'max_depth': 6, 'min_samples_split': 10, 'criterion': 'gini', 'border_count': 0.026759025415573113}. Best is trial 21 with value: 0.3673615204806674.\n"
     ]
    },
    {
     "name": "stdout",
     "output_type": "stream",
     "text": [
      "cvs_f1:  0.08959216495454334\n"
     ]
    },
    {
     "name": "stderr",
     "output_type": "stream",
     "text": [
      "[I 2024-02-29 12:07:53,299] Trial 26 finished with value: 0.36712954833504224 and parameters: {'n_estimators': 600, 'max_depth': 109, 'min_samples_split': 5, 'criterion': 'gini', 'border_count': 0.0001450483413950528}. Best is trial 21 with value: 0.3673615204806674.\n"
     ]
    },
    {
     "name": "stdout",
     "output_type": "stream",
     "text": [
      "cvs_f1:  0.36712954833504224\n"
     ]
    },
    {
     "name": "stderr",
     "output_type": "stream",
     "text": [
      "[I 2024-02-29 12:08:32,940] Trial 27 finished with value: 0.08959216495454334 and parameters: {'n_estimators': 600, 'max_depth': 103, 'min_samples_split': 5, 'criterion': 'gini', 'border_count': 0.09654176239236333}. Best is trial 21 with value: 0.3673615204806674.\n"
     ]
    },
    {
     "name": "stdout",
     "output_type": "stream",
     "text": [
      "cvs_f1:  0.08959216495454334\n"
     ]
    },
    {
     "name": "stderr",
     "output_type": "stream",
     "text": [
      "[I 2024-02-29 12:08:56,459] Trial 28 finished with value: 0.28508511964157174 and parameters: {'n_estimators': 600, 'max_depth': 171, 'min_samples_split': 12, 'criterion': 'entropy', 'border_count': 0.008498359682794897}. Best is trial 21 with value: 0.3673615204806674.\n"
     ]
    },
    {
     "name": "stdout",
     "output_type": "stream",
     "text": [
      "cvs_f1:  0.28508511964157174\n"
     ]
    },
    {
     "name": "stderr",
     "output_type": "stream",
     "text": [
      "[I 2024-02-29 12:09:33,280] Trial 29 finished with value: 0.22089411865933323 and parameters: {'n_estimators': 600, 'max_depth': 259, 'min_samples_split': 5, 'criterion': 'log_loss', 'border_count': 0.021886225637876434}. Best is trial 21 with value: 0.3673615204806674.\n"
     ]
    },
    {
     "name": "stdout",
     "output_type": "stream",
     "text": [
      "cvs_f1:  0.22089411865933323\n"
     ]
    }
   ],
   "source": [
    "scorer = make_scorer(f1_score, average=\"weighted\")\n",
    "\n",
    "\n",
    "def objective(trial):\n",
    "    params = {\n",
    "        \"n_estimators\": trial.suggest_categorical(\n",
    "            \"n_estimators\", choices=[100, 300, 600, 900, 1200, 1500]\n",
    "        ),\n",
    "        \"max_depth\": trial.suggest_int(\"max_depth\", 1, 500),\n",
    "        \"min_samples_split\": trial.suggest_int(\"min_samples_split\", 2, 200, log=True),\n",
    "        \"criterion\": trial.suggest_categorical(\n",
    "            \"criterion\", choices=[\"gini\", \"entropy\", \"log_loss\"]\n",
    "        ),\n",
    "        \"ccp_alpha\": trial.suggest_float(\"border_count\", 0.0, 0.1),\n",
    "    }\n",
    "\n",
    "    model = RandomForestClassifier(**params)\n",
    "    cvs_f1 = cross_val_score(model, X_f_cv, y, cv=5, scoring=scorer, n_jobs=-1).mean()\n",
    "    print(\"cvs_f1: \", cvs_f1)\n",
    "    return cvs_f1\n",
    "\n",
    "\n",
    "study = optuna.create_study(direction=\"maximize\")\n",
    "study.optimize(objective, n_trials=30)"
   ]
  },
  {
   "cell_type": "code",
   "execution_count": 42,
   "id": "d873bafd",
   "metadata": {},
   "outputs": [
    {
     "name": "stdout",
     "output_type": "stream",
     "text": [
      "Best hyperparameters: {'n_estimators': 300, 'max_depth': 52, 'min_samples_split': 2, 'criterion': 'gini', 'border_count': 0.0009182938332930469}\n",
      "Best f1: 0.3673615204806674\n"
     ]
    }
   ],
   "source": [
    "print(\"Best hyperparameters:\", study.best_params)\n",
    "print(\"Best f1:\", study.best_value)"
   ]
  },
  {
   "cell_type": "markdown",
   "id": "4f9870d9",
   "metadata": {},
   "source": [
    "### Резюме: наилучший результат по-преждему у линейной модели обученной на BOW из полных грамматических форм\n",
    "\n",
    "можно завернуть это все в Pipeline"
   ]
  },
  {
   "cell_type": "markdown",
   "id": "f0b58e63",
   "metadata": {},
   "source": [
    "# Заворачиваем в Pipeline\n",
    "\n",
    "заворачиваем лучшую на данный момент модель - а именно логистическую регрессию на полных граммах "
   ]
  },
  {
   "cell_type": "code",
   "execution_count": 64,
   "id": "c62cbdc6",
   "metadata": {},
   "outputs": [],
   "source": [
    "class TextTransformer:\n",
    "    def __init__(self, full=True):\n",
    "        \"\"\"\n",
    "        кодировка текста, заменяет слова грамматическими формами и кодирует знаки препинания\n",
    "        Args:\n",
    "            full (bool, optional): тип кодировки грамм. Сокращенный или расширенный. Defaults to True.\n",
    "        \"\"\"\n",
    "        self.full = full\n",
    "\n",
    "    def fit(self, X, y):\n",
    "        return self\n",
    "\n",
    "    def transform(self, X, y=None):\n",
    "        return prepare_text(X, full=self.full)\n",
    "\n",
    "    def fit_transform(self, X, y):\n",
    "        return self.transform(X, y)\n",
    "\n",
    "\n",
    "if __name__ == \"__main__\":\n",
    "    import doctest\n",
    "\n",
    "    doctest.testmod()"
   ]
  },
  {
   "cell_type": "code",
   "execution_count": 65,
   "id": "d8534c6f",
   "metadata": {},
   "outputs": [],
   "source": [
    "pline = Pipeline(\n",
    "    [\n",
    "        (\"transformer\", TextTransformer(full=True)),\n",
    "        (\n",
    "            \"vectorizer\",\n",
    "            CountVectorizer(\n",
    "                ngram_range=(1, 3),\n",
    "                stop_words=None,\n",
    "                lowercase=False,\n",
    "                encoding=\"utf-8\",\n",
    "                token_pattern=r\"(?u)\\b[a-zA-Zа-яА-ЯёЁ0-9,=90|\\-]+\\b\",\n",
    "            ),\n",
    "        ),\n",
    "        (\"model\", LogisticRegression(random_state=42, max_iter=1200)),\n",
    "    ]\n",
    ")"
   ]
  },
  {
   "cell_type": "code",
   "execution_count": 66,
   "id": "aa042a37",
   "metadata": {},
   "outputs": [
    {
     "data": {
      "text/html": [
       "<style>#sk-container-id-2 {\n",
       "  /* Definition of color scheme common for light and dark mode */\n",
       "  --sklearn-color-text: black;\n",
       "  --sklearn-color-line: gray;\n",
       "  /* Definition of color scheme for unfitted estimators */\n",
       "  --sklearn-color-unfitted-level-0: #fff5e6;\n",
       "  --sklearn-color-unfitted-level-1: #f6e4d2;\n",
       "  --sklearn-color-unfitted-level-2: #ffe0b3;\n",
       "  --sklearn-color-unfitted-level-3: chocolate;\n",
       "  /* Definition of color scheme for fitted estimators */\n",
       "  --sklearn-color-fitted-level-0: #f0f8ff;\n",
       "  --sklearn-color-fitted-level-1: #d4ebff;\n",
       "  --sklearn-color-fitted-level-2: #b3dbfd;\n",
       "  --sklearn-color-fitted-level-3: cornflowerblue;\n",
       "\n",
       "  /* Specific color for light theme */\n",
       "  --sklearn-color-text-on-default-background: var(--sg-text-color, var(--theme-code-foreground, var(--jp-content-font-color1, black)));\n",
       "  --sklearn-color-background: var(--sg-background-color, var(--theme-background, var(--jp-layout-color0, white)));\n",
       "  --sklearn-color-border-box: var(--sg-text-color, var(--theme-code-foreground, var(--jp-content-font-color1, black)));\n",
       "  --sklearn-color-icon: #696969;\n",
       "\n",
       "  @media (prefers-color-scheme: dark) {\n",
       "    /* Redefinition of color scheme for dark theme */\n",
       "    --sklearn-color-text-on-default-background: var(--sg-text-color, var(--theme-code-foreground, var(--jp-content-font-color1, white)));\n",
       "    --sklearn-color-background: var(--sg-background-color, var(--theme-background, var(--jp-layout-color0, #111)));\n",
       "    --sklearn-color-border-box: var(--sg-text-color, var(--theme-code-foreground, var(--jp-content-font-color1, white)));\n",
       "    --sklearn-color-icon: #878787;\n",
       "  }\n",
       "}\n",
       "\n",
       "#sk-container-id-2 {\n",
       "  color: var(--sklearn-color-text);\n",
       "}\n",
       "\n",
       "#sk-container-id-2 pre {\n",
       "  padding: 0;\n",
       "}\n",
       "\n",
       "#sk-container-id-2 input.sk-hidden--visually {\n",
       "  border: 0;\n",
       "  clip: rect(1px 1px 1px 1px);\n",
       "  clip: rect(1px, 1px, 1px, 1px);\n",
       "  height: 1px;\n",
       "  margin: -1px;\n",
       "  overflow: hidden;\n",
       "  padding: 0;\n",
       "  position: absolute;\n",
       "  width: 1px;\n",
       "}\n",
       "\n",
       "#sk-container-id-2 div.sk-dashed-wrapped {\n",
       "  border: 1px dashed var(--sklearn-color-line);\n",
       "  margin: 0 0.4em 0.5em 0.4em;\n",
       "  box-sizing: border-box;\n",
       "  padding-bottom: 0.4em;\n",
       "  background-color: var(--sklearn-color-background);\n",
       "}\n",
       "\n",
       "#sk-container-id-2 div.sk-container {\n",
       "  /* jupyter's `normalize.less` sets `[hidden] { display: none; }`\n",
       "     but bootstrap.min.css set `[hidden] { display: none !important; }`\n",
       "     so we also need the `!important` here to be able to override the\n",
       "     default hidden behavior on the sphinx rendered scikit-learn.org.\n",
       "     See: https://github.com/scikit-learn/scikit-learn/issues/21755 */\n",
       "  display: inline-block !important;\n",
       "  position: relative;\n",
       "}\n",
       "\n",
       "#sk-container-id-2 div.sk-text-repr-fallback {\n",
       "  display: none;\n",
       "}\n",
       "\n",
       "div.sk-parallel-item,\n",
       "div.sk-serial,\n",
       "div.sk-item {\n",
       "  /* draw centered vertical line to link estimators */\n",
       "  background-image: linear-gradient(var(--sklearn-color-text-on-default-background), var(--sklearn-color-text-on-default-background));\n",
       "  background-size: 2px 100%;\n",
       "  background-repeat: no-repeat;\n",
       "  background-position: center center;\n",
       "}\n",
       "\n",
       "/* Parallel-specific style estimator block */\n",
       "\n",
       "#sk-container-id-2 div.sk-parallel-item::after {\n",
       "  content: \"\";\n",
       "  width: 100%;\n",
       "  border-bottom: 2px solid var(--sklearn-color-text-on-default-background);\n",
       "  flex-grow: 1;\n",
       "}\n",
       "\n",
       "#sk-container-id-2 div.sk-parallel {\n",
       "  display: flex;\n",
       "  align-items: stretch;\n",
       "  justify-content: center;\n",
       "  background-color: var(--sklearn-color-background);\n",
       "  position: relative;\n",
       "}\n",
       "\n",
       "#sk-container-id-2 div.sk-parallel-item {\n",
       "  display: flex;\n",
       "  flex-direction: column;\n",
       "}\n",
       "\n",
       "#sk-container-id-2 div.sk-parallel-item:first-child::after {\n",
       "  align-self: flex-end;\n",
       "  width: 50%;\n",
       "}\n",
       "\n",
       "#sk-container-id-2 div.sk-parallel-item:last-child::after {\n",
       "  align-self: flex-start;\n",
       "  width: 50%;\n",
       "}\n",
       "\n",
       "#sk-container-id-2 div.sk-parallel-item:only-child::after {\n",
       "  width: 0;\n",
       "}\n",
       "\n",
       "/* Serial-specific style estimator block */\n",
       "\n",
       "#sk-container-id-2 div.sk-serial {\n",
       "  display: flex;\n",
       "  flex-direction: column;\n",
       "  align-items: center;\n",
       "  background-color: var(--sklearn-color-background);\n",
       "  padding-right: 1em;\n",
       "  padding-left: 1em;\n",
       "}\n",
       "\n",
       "\n",
       "/* Toggleable style: style used for estimator/Pipeline/ColumnTransformer box that is\n",
       "clickable and can be expanded/collapsed.\n",
       "- Pipeline and ColumnTransformer use this feature and define the default style\n",
       "- Estimators will overwrite some part of the style using the `sk-estimator` class\n",
       "*/\n",
       "\n",
       "/* Pipeline and ColumnTransformer style (default) */\n",
       "\n",
       "#sk-container-id-2 div.sk-toggleable {\n",
       "  /* Default theme specific background. It is overwritten whether we have a\n",
       "  specific estimator or a Pipeline/ColumnTransformer */\n",
       "  background-color: var(--sklearn-color-background);\n",
       "}\n",
       "\n",
       "/* Toggleable label */\n",
       "#sk-container-id-2 label.sk-toggleable__label {\n",
       "  cursor: pointer;\n",
       "  display: block;\n",
       "  width: 100%;\n",
       "  margin-bottom: 0;\n",
       "  padding: 0.5em;\n",
       "  box-sizing: border-box;\n",
       "  text-align: center;\n",
       "}\n",
       "\n",
       "#sk-container-id-2 label.sk-toggleable__label-arrow:before {\n",
       "  /* Arrow on the left of the label */\n",
       "  content: \"▸\";\n",
       "  float: left;\n",
       "  margin-right: 0.25em;\n",
       "  color: var(--sklearn-color-icon);\n",
       "}\n",
       "\n",
       "#sk-container-id-2 label.sk-toggleable__label-arrow:hover:before {\n",
       "  color: var(--sklearn-color-text);\n",
       "}\n",
       "\n",
       "/* Toggleable content - dropdown */\n",
       "\n",
       "#sk-container-id-2 div.sk-toggleable__content {\n",
       "  max-height: 0;\n",
       "  max-width: 0;\n",
       "  overflow: hidden;\n",
       "  text-align: left;\n",
       "  /* unfitted */\n",
       "  background-color: var(--sklearn-color-unfitted-level-0);\n",
       "}\n",
       "\n",
       "#sk-container-id-2 div.sk-toggleable__content.fitted {\n",
       "  /* fitted */\n",
       "  background-color: var(--sklearn-color-fitted-level-0);\n",
       "}\n",
       "\n",
       "#sk-container-id-2 div.sk-toggleable__content pre {\n",
       "  margin: 0.2em;\n",
       "  border-radius: 0.25em;\n",
       "  color: var(--sklearn-color-text);\n",
       "  /* unfitted */\n",
       "  background-color: var(--sklearn-color-unfitted-level-0);\n",
       "}\n",
       "\n",
       "#sk-container-id-2 div.sk-toggleable__content.fitted pre {\n",
       "  /* unfitted */\n",
       "  background-color: var(--sklearn-color-fitted-level-0);\n",
       "}\n",
       "\n",
       "#sk-container-id-2 input.sk-toggleable__control:checked~div.sk-toggleable__content {\n",
       "  /* Expand drop-down */\n",
       "  max-height: 200px;\n",
       "  max-width: 100%;\n",
       "  overflow: auto;\n",
       "}\n",
       "\n",
       "#sk-container-id-2 input.sk-toggleable__control:checked~label.sk-toggleable__label-arrow:before {\n",
       "  content: \"▾\";\n",
       "}\n",
       "\n",
       "/* Pipeline/ColumnTransformer-specific style */\n",
       "\n",
       "#sk-container-id-2 div.sk-label input.sk-toggleable__control:checked~label.sk-toggleable__label {\n",
       "  color: var(--sklearn-color-text);\n",
       "  background-color: var(--sklearn-color-unfitted-level-2);\n",
       "}\n",
       "\n",
       "#sk-container-id-2 div.sk-label.fitted input.sk-toggleable__control:checked~label.sk-toggleable__label {\n",
       "  background-color: var(--sklearn-color-fitted-level-2);\n",
       "}\n",
       "\n",
       "/* Estimator-specific style */\n",
       "\n",
       "/* Colorize estimator box */\n",
       "#sk-container-id-2 div.sk-estimator input.sk-toggleable__control:checked~label.sk-toggleable__label {\n",
       "  /* unfitted */\n",
       "  background-color: var(--sklearn-color-unfitted-level-2);\n",
       "}\n",
       "\n",
       "#sk-container-id-2 div.sk-estimator.fitted input.sk-toggleable__control:checked~label.sk-toggleable__label {\n",
       "  /* fitted */\n",
       "  background-color: var(--sklearn-color-fitted-level-2);\n",
       "}\n",
       "\n",
       "#sk-container-id-2 div.sk-label label.sk-toggleable__label,\n",
       "#sk-container-id-2 div.sk-label label {\n",
       "  /* The background is the default theme color */\n",
       "  color: var(--sklearn-color-text-on-default-background);\n",
       "}\n",
       "\n",
       "/* On hover, darken the color of the background */\n",
       "#sk-container-id-2 div.sk-label:hover label.sk-toggleable__label {\n",
       "  color: var(--sklearn-color-text);\n",
       "  background-color: var(--sklearn-color-unfitted-level-2);\n",
       "}\n",
       "\n",
       "/* Label box, darken color on hover, fitted */\n",
       "#sk-container-id-2 div.sk-label.fitted:hover label.sk-toggleable__label.fitted {\n",
       "  color: var(--sklearn-color-text);\n",
       "  background-color: var(--sklearn-color-fitted-level-2);\n",
       "}\n",
       "\n",
       "/* Estimator label */\n",
       "\n",
       "#sk-container-id-2 div.sk-label label {\n",
       "  font-family: monospace;\n",
       "  font-weight: bold;\n",
       "  display: inline-block;\n",
       "  line-height: 1.2em;\n",
       "}\n",
       "\n",
       "#sk-container-id-2 div.sk-label-container {\n",
       "  text-align: center;\n",
       "}\n",
       "\n",
       "/* Estimator-specific */\n",
       "#sk-container-id-2 div.sk-estimator {\n",
       "  font-family: monospace;\n",
       "  border: 1px dotted var(--sklearn-color-border-box);\n",
       "  border-radius: 0.25em;\n",
       "  box-sizing: border-box;\n",
       "  margin-bottom: 0.5em;\n",
       "  /* unfitted */\n",
       "  background-color: var(--sklearn-color-unfitted-level-0);\n",
       "}\n",
       "\n",
       "#sk-container-id-2 div.sk-estimator.fitted {\n",
       "  /* fitted */\n",
       "  background-color: var(--sklearn-color-fitted-level-0);\n",
       "}\n",
       "\n",
       "/* on hover */\n",
       "#sk-container-id-2 div.sk-estimator:hover {\n",
       "  /* unfitted */\n",
       "  background-color: var(--sklearn-color-unfitted-level-2);\n",
       "}\n",
       "\n",
       "#sk-container-id-2 div.sk-estimator.fitted:hover {\n",
       "  /* fitted */\n",
       "  background-color: var(--sklearn-color-fitted-level-2);\n",
       "}\n",
       "\n",
       "/* Specification for estimator info (e.g. \"i\" and \"?\") */\n",
       "\n",
       "/* Common style for \"i\" and \"?\" */\n",
       "\n",
       ".sk-estimator-doc-link,\n",
       "a:link.sk-estimator-doc-link,\n",
       "a:visited.sk-estimator-doc-link {\n",
       "  float: right;\n",
       "  font-size: smaller;\n",
       "  line-height: 1em;\n",
       "  font-family: monospace;\n",
       "  background-color: var(--sklearn-color-background);\n",
       "  border-radius: 1em;\n",
       "  height: 1em;\n",
       "  width: 1em;\n",
       "  text-decoration: none !important;\n",
       "  margin-left: 1ex;\n",
       "  /* unfitted */\n",
       "  border: var(--sklearn-color-unfitted-level-1) 1pt solid;\n",
       "  color: var(--sklearn-color-unfitted-level-1);\n",
       "}\n",
       "\n",
       ".sk-estimator-doc-link.fitted,\n",
       "a:link.sk-estimator-doc-link.fitted,\n",
       "a:visited.sk-estimator-doc-link.fitted {\n",
       "  /* fitted */\n",
       "  border: var(--sklearn-color-fitted-level-1) 1pt solid;\n",
       "  color: var(--sklearn-color-fitted-level-1);\n",
       "}\n",
       "\n",
       "/* On hover */\n",
       "div.sk-estimator:hover .sk-estimator-doc-link:hover,\n",
       ".sk-estimator-doc-link:hover,\n",
       "div.sk-label-container:hover .sk-estimator-doc-link:hover,\n",
       ".sk-estimator-doc-link:hover {\n",
       "  /* unfitted */\n",
       "  background-color: var(--sklearn-color-unfitted-level-3);\n",
       "  color: var(--sklearn-color-background);\n",
       "  text-decoration: none;\n",
       "}\n",
       "\n",
       "div.sk-estimator.fitted:hover .sk-estimator-doc-link.fitted:hover,\n",
       ".sk-estimator-doc-link.fitted:hover,\n",
       "div.sk-label-container:hover .sk-estimator-doc-link.fitted:hover,\n",
       ".sk-estimator-doc-link.fitted:hover {\n",
       "  /* fitted */\n",
       "  background-color: var(--sklearn-color-fitted-level-3);\n",
       "  color: var(--sklearn-color-background);\n",
       "  text-decoration: none;\n",
       "}\n",
       "\n",
       "/* Span, style for the box shown on hovering the info icon */\n",
       ".sk-estimator-doc-link span {\n",
       "  display: none;\n",
       "  z-index: 9999;\n",
       "  position: relative;\n",
       "  font-weight: normal;\n",
       "  right: .2ex;\n",
       "  padding: .5ex;\n",
       "  margin: .5ex;\n",
       "  width: min-content;\n",
       "  min-width: 20ex;\n",
       "  max-width: 50ex;\n",
       "  color: var(--sklearn-color-text);\n",
       "  box-shadow: 2pt 2pt 4pt #999;\n",
       "  /* unfitted */\n",
       "  background: var(--sklearn-color-unfitted-level-0);\n",
       "  border: .5pt solid var(--sklearn-color-unfitted-level-3);\n",
       "}\n",
       "\n",
       ".sk-estimator-doc-link.fitted span {\n",
       "  /* fitted */\n",
       "  background: var(--sklearn-color-fitted-level-0);\n",
       "  border: var(--sklearn-color-fitted-level-3);\n",
       "}\n",
       "\n",
       ".sk-estimator-doc-link:hover span {\n",
       "  display: block;\n",
       "}\n",
       "\n",
       "/* \"?\"-specific style due to the `<a>` HTML tag */\n",
       "\n",
       "#sk-container-id-2 a.estimator_doc_link {\n",
       "  float: right;\n",
       "  font-size: 1rem;\n",
       "  line-height: 1em;\n",
       "  font-family: monospace;\n",
       "  background-color: var(--sklearn-color-background);\n",
       "  border-radius: 1rem;\n",
       "  height: 1rem;\n",
       "  width: 1rem;\n",
       "  text-decoration: none;\n",
       "  /* unfitted */\n",
       "  color: var(--sklearn-color-unfitted-level-1);\n",
       "  border: var(--sklearn-color-unfitted-level-1) 1pt solid;\n",
       "}\n",
       "\n",
       "#sk-container-id-2 a.estimator_doc_link.fitted {\n",
       "  /* fitted */\n",
       "  border: var(--sklearn-color-fitted-level-1) 1pt solid;\n",
       "  color: var(--sklearn-color-fitted-level-1);\n",
       "}\n",
       "\n",
       "/* On hover */\n",
       "#sk-container-id-2 a.estimator_doc_link:hover {\n",
       "  /* unfitted */\n",
       "  background-color: var(--sklearn-color-unfitted-level-3);\n",
       "  color: var(--sklearn-color-background);\n",
       "  text-decoration: none;\n",
       "}\n",
       "\n",
       "#sk-container-id-2 a.estimator_doc_link.fitted:hover {\n",
       "  /* fitted */\n",
       "  background-color: var(--sklearn-color-fitted-level-3);\n",
       "}\n",
       "</style><div id=\"sk-container-id-2\" class=\"sk-top-container\"><div class=\"sk-text-repr-fallback\"><pre>Pipeline(steps=[(&#x27;transformer&#x27;,\n",
       "                 &lt;__main__.TextTransformer object at 0x7f7b73f77450&gt;),\n",
       "                (&#x27;vectorizer&#x27;,\n",
       "                 CountVectorizer(lowercase=False, ngram_range=(1, 3),\n",
       "                                 token_pattern=&#x27;(?u)\\\\b[a-zA-Zа-яА-ЯёЁ0-9,=90|\\\\-]+\\\\b&#x27;)),\n",
       "                (&#x27;model&#x27;, LogisticRegression(max_iter=1200, random_state=42))])</pre><b>In a Jupyter environment, please rerun this cell to show the HTML representation or trust the notebook. <br />On GitHub, the HTML representation is unable to render, please try loading this page with nbviewer.org.</b></div><div class=\"sk-container\" hidden><div class=\"sk-item sk-dashed-wrapped\"><div class=\"sk-label-container\"><div class=\"sk-label fitted sk-toggleable\"><input class=\"sk-toggleable__control sk-hidden--visually\" id=\"sk-estimator-id-5\" type=\"checkbox\" ><label for=\"sk-estimator-id-5\" class=\"sk-toggleable__label fitted sk-toggleable__label-arrow fitted\">&nbsp;&nbsp;Pipeline<a class=\"sk-estimator-doc-link fitted\" rel=\"noreferrer\" target=\"_blank\" href=\"https://scikit-learn.org/1.4/modules/generated/sklearn.pipeline.Pipeline.html\">?<span>Documentation for Pipeline</span></a><span class=\"sk-estimator-doc-link fitted\">i<span>Fitted</span></span></label><div class=\"sk-toggleable__content fitted\"><pre>Pipeline(steps=[(&#x27;transformer&#x27;,\n",
       "                 &lt;__main__.TextTransformer object at 0x7f7b73f77450&gt;),\n",
       "                (&#x27;vectorizer&#x27;,\n",
       "                 CountVectorizer(lowercase=False, ngram_range=(1, 3),\n",
       "                                 token_pattern=&#x27;(?u)\\\\b[a-zA-Zа-яА-ЯёЁ0-9,=90|\\\\-]+\\\\b&#x27;)),\n",
       "                (&#x27;model&#x27;, LogisticRegression(max_iter=1200, random_state=42))])</pre></div> </div></div><div class=\"sk-serial\"><div class=\"sk-item\"><div class=\"sk-estimator fitted sk-toggleable\"><input class=\"sk-toggleable__control sk-hidden--visually\" id=\"sk-estimator-id-6\" type=\"checkbox\" ><label for=\"sk-estimator-id-6\" class=\"sk-toggleable__label fitted sk-toggleable__label-arrow fitted\">TextTransformer</label><div class=\"sk-toggleable__content fitted\"><pre>&lt;__main__.TextTransformer object at 0x7f7b73f77450&gt;</pre></div> </div></div><div class=\"sk-item\"><div class=\"sk-estimator fitted sk-toggleable\"><input class=\"sk-toggleable__control sk-hidden--visually\" id=\"sk-estimator-id-7\" type=\"checkbox\" ><label for=\"sk-estimator-id-7\" class=\"sk-toggleable__label fitted sk-toggleable__label-arrow fitted\">&nbsp;CountVectorizer<a class=\"sk-estimator-doc-link fitted\" rel=\"noreferrer\" target=\"_blank\" href=\"https://scikit-learn.org/1.4/modules/generated/sklearn.feature_extraction.text.CountVectorizer.html\">?<span>Documentation for CountVectorizer</span></a></label><div class=\"sk-toggleable__content fitted\"><pre>CountVectorizer(lowercase=False, ngram_range=(1, 3),\n",
       "                token_pattern=&#x27;(?u)\\\\b[a-zA-Zа-яА-ЯёЁ0-9,=90|\\\\-]+\\\\b&#x27;)</pre></div> </div></div><div class=\"sk-item\"><div class=\"sk-estimator fitted sk-toggleable\"><input class=\"sk-toggleable__control sk-hidden--visually\" id=\"sk-estimator-id-8\" type=\"checkbox\" ><label for=\"sk-estimator-id-8\" class=\"sk-toggleable__label fitted sk-toggleable__label-arrow fitted\">&nbsp;LogisticRegression<a class=\"sk-estimator-doc-link fitted\" rel=\"noreferrer\" target=\"_blank\" href=\"https://scikit-learn.org/1.4/modules/generated/sklearn.linear_model.LogisticRegression.html\">?<span>Documentation for LogisticRegression</span></a></label><div class=\"sk-toggleable__content fitted\"><pre>LogisticRegression(max_iter=1200, random_state=42)</pre></div> </div></div></div></div></div></div>"
      ],
      "text/plain": [
       "Pipeline(steps=[('transformer',\n",
       "                 <__main__.TextTransformer object at 0x7f7b73f77450>),\n",
       "                ('vectorizer',\n",
       "                 CountVectorizer(lowercase=False, ngram_range=(1, 3),\n",
       "                                 token_pattern='(?u)\\\\b[a-zA-Zа-яА-ЯёЁ0-9,=90|\\\\-]+\\\\b')),\n",
       "                ('model', LogisticRegression(max_iter=1200, random_state=42))])"
      ]
     },
     "execution_count": 66,
     "metadata": {},
     "output_type": "execute_result"
    }
   ],
   "source": [
    "pline.fit(X, y)"
   ]
  },
  {
   "cell_type": "code",
   "execution_count": 67,
   "id": "38ed284a",
   "metadata": {},
   "outputs": [
    {
     "name": "stdout",
     "output_type": "stream",
     "text": [
      "На тесте f1-мера (weighted): 0.723693378522833\n"
     ]
    }
   ],
   "source": [
    "y_pred = pline.predict(X_test)\n",
    "f1_test = f1_score(y_test, y_pred, average=\"weighted\")\n",
    "print(\"На тесте f1-мера (weighted):\", f1_test)"
   ]
  },
  {
   "cell_type": "markdown",
   "id": "a0ae05a4",
   "metadata": {},
   "source": [
    "# Резюме"
   ]
  },
  {
   "cell_type": "markdown",
   "id": "d9e57833",
   "metadata": {},
   "source": [
    "Били испробованы линейные модели, бустинг и случайный лес, для ускорения процесса обучения пробовал применять \n",
    "понижение размерности (PCA), таже для оптимизации catboost и random forest применялась optuna (правда получить результат лучший чем у линейной модели не получилось)\n",
    "\n",
    "по итогам лучший результат остается за линейной моделью на расширенном кодировании грамматических признаках\n",
    "\n",
    "итоговый результат лучшей модели на кросс-валидации - `0.86`, на отложенной выборке (\"честный сплит\" - \n",
    "выборка в которую не попали произведения на которых обучались) `0.72`\n",
    "\n",
    "#### лучшая модель завернута в pipeline"
   ]
  },
  {
   "cell_type": "code",
   "execution_count": null,
   "id": "3f54be11",
   "metadata": {},
   "outputs": [],
   "source": []
  },
  {
   "cell_type": "code",
   "execution_count": null,
   "id": "21b72246",
   "metadata": {},
   "outputs": [],
   "source": []
  }
 ],
 "metadata": {
  "kernelspec": {
   "display_name": "Python 3 (ipykernel)",
   "language": "python",
   "name": "python3"
  },
  "language_info": {
   "codemirror_mode": {
    "name": "ipython",
    "version": 3
   },
   "file_extension": ".py",
   "mimetype": "text/x-python",
   "name": "python",
   "nbconvert_exporter": "python",
   "pygments_lexer": "ipython3",
   "version": "3.11.5"
  }
 },
 "nbformat": 4,
 "nbformat_minor": 5
}
