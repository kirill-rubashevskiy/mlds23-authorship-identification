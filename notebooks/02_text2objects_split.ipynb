{
 "cells": [
  {
   "cell_type": "markdown",
   "id": "67846fd3-7b6b-45d5-93ac-d1813f58bdec",
   "metadata": {},
   "source": [
    "# импорты"
   ]
  },
  {
   "cell_type": "code",
   "execution_count": 1,
   "id": "dc361f77-47ae-4cd8-95d3-69c42644468c",
   "metadata": {},
   "outputs": [],
   "source": [
    "import boto3\n",
    "import pandas as pd\n",
    "\n",
    "from mlds23_authorship_identification.preprocessing import text_splitter"
   ]
  },
  {
   "cell_type": "code",
   "execution_count": 2,
   "id": "df78693a",
   "metadata": {
    "collapsed": false,
    "jupyter": {
     "outputs_hidden": false
    },
    "pycharm": {
     "name": "#%%\n"
    }
   },
   "outputs": [
    {
     "name": "stdout",
     "output_type": "stream",
     "text": [
      "['/Users/dariamishina/Documents/HSE/YearProject/mlds23-authorship-identification/data_preproc/notebooks', '/Library/Frameworks/Python.framework/Versions/3.11/lib/python311.zip', '/Library/Frameworks/Python.framework/Versions/3.11/lib/python3.11', '/Library/Frameworks/Python.framework/Versions/3.11/lib/python3.11/lib-dynload', '', '/Library/Frameworks/Python.framework/Versions/3.11/lib/python3.11/site-packages']\n"
     ]
    }
   ],
   "source": [
    "import sys\n",
    "\n",
    "\n",
    "print(sys.path)"
   ]
  },
  {
   "cell_type": "code",
   "execution_count": 3,
   "id": "db93979b",
   "metadata": {
    "collapsed": false,
    "jupyter": {
     "outputs_hidden": false
    },
    "pycharm": {
     "name": "#%%\n"
    }
   },
   "outputs": [],
   "source": [
    "# добавляем в path папку с тем файлом, откуда надо импортировать функции\n",
    "sys.path.append(\n",
    "    \"/Users/dariamishina/Documents/HSE/YearProject/mlds23-authorship-identification\"\n",
    ")"
   ]
  },
  {
   "cell_type": "code",
   "execution_count": null,
   "id": "1f3e8082",
   "metadata": {
    "collapsed": false,
    "jupyter": {
     "outputs_hidden": false
    },
    "pycharm": {
     "name": "#%%\n"
    }
   },
   "outputs": [],
   "source": [
    "# sys.path.remove('/Users/dariamishina/Documents/HSE/YearProject/mlds23-authorship-identification')"
   ]
  },
  {
   "cell_type": "code",
   "execution_count": null,
   "id": "64cd5ffd-5417-4ee3-b5ba-54bf386fc705",
   "metadata": {},
   "outputs": [],
   "source": [
    "import os\n",
    "\n",
    "from dotenv import load_dotenv\n",
    "\n",
    "\n",
    "load_dotenv()\n",
    "\n",
    "S3_KEY_ID = os.environ.get(\"S3_KEY_ID\")\n",
    "S3_SECRET_KEY = os.environ.get(\"S3_SECRET_KEY\")\n",
    "S3_BUCKET = os.environ.get(\"S3_BUCKET\")"
   ]
  },
  {
   "cell_type": "markdown",
   "id": "507900b5-1acd-4433-953a-447a7f8e3b7f",
   "metadata": {},
   "source": [
    "# загружаем тексты из s3"
   ]
  },
  {
   "cell_type": "code",
   "execution_count": 25,
   "id": "76e92278-f8b0-4d46-82d2-f19da9c6a417",
   "metadata": {},
   "outputs": [],
   "source": [
    "session = boto3.session.Session()"
   ]
  },
  {
   "cell_type": "code",
   "execution_count": 26,
   "id": "2e1a4be0-c35a-42c9-8683-3b3b9b7458df",
   "metadata": {},
   "outputs": [],
   "source": [
    "s3 = session.client(\n",
    "    service_name=\"s3\",\n",
    "    endpoint_url=\"https://storage.yandexcloud.net\",\n",
    "    aws_access_key_id=S3_KEY_ID,\n",
    "    aws_secret_access_key=S3_SECRET_KEY,\n",
    "    region_name=\"ru-cental1\",\n",
    ")"
   ]
  },
  {
   "cell_type": "code",
   "execution_count": 45,
   "id": "84f3b19d-dfbd-4f84-9706-ed56542fe445",
   "metadata": {
    "scrolled": true
   },
   "outputs": [
    {
     "name": "stdout",
     "output_type": "stream",
     "text": [
      "dmitry_data/0.pkl\n",
      "dmitry_data/1.pkl\n",
      "dmitry_data/2.pkl\n",
      "dmitry_data/3.pkl\n",
      "dmitry_data/4.pkl\n",
      "dmitry_data/5.pkl\n",
      "dmitry_data/6.pkl\n",
      "dmitry_data/7.pkl\n",
      "dmitry_data/8.pkl\n",
      "dmitry_data/9.pkl\n",
      "dmitry_data/aleksandr_kuprin_belyj_pudel'.pkl\n",
      "dmitry_data/aleksandr_kuprin_chudesnyj_doktor.pkl\n",
      "dmitry_data/aleksandr_kuprin_gambrinus.pkl\n",
      "dmitry_data/aleksandr_kuprin_granatovyj_braslet.pkl\n",
      "dmitry_data/aleksandr_kuprin_izumrud.pkl\n",
      "dmitry_data/aleksandr_kuprin_kust_sireni.pkl\n",
      "dmitry_data/aleksandr_kuprin_moloh.pkl\n",
      "dmitry_data/aleksandr_kuprin_osennie_tsvety.pkl\n",
      "dmitry_data/aleksandr_kuprin_sulamif'.pkl\n",
      "dmitry_data/aleksandr_kuprin_taper.pkl\n",
      "dmitry_data/aleksandr_pushkin_arap_petra_velikogo.pkl\n",
      "dmitry_data/aleksandr_pushkin_dubrovskij.pkl\n",
      "dmitry_data/aleksandr_pushkin_istorija_sela_gorjuhina.pkl\n",
      "dmitry_data/aleksandr_pushkin_kapitanskaja_dochka.pkl\n",
      "dmitry_data/aleksandr_pushkin_pikovaja_dama.pkl\n",
      "dmitry_data/aleksandr_pushkin_povesti_pokojnogo_ivana_petrovicha_belkina.pkl\n",
      "dmitry_data/aleksandr_pushkin_puteshestvie_v_arzrum_vo_vremja_pohoda_1829_goda.pkl\n",
      "dmitry_data/andrej_platonov_fro.pkl\n",
      "dmitry_data/andrej_platonov_ijul'skaja_groza.pkl\n",
      "dmitry_data/andrej_platonov_ivan_velikij.pkl\n",
      "dmitry_data/andrej_platonov_jushka.pkl\n",
      "dmitry_data/andrej_platonov_neizvestnyj_tsvetok.pkl\n",
      "dmitry_data/andrej_platonov_peschanaja_uchitel'nitsa.pkl\n",
      "dmitry_data/andrej_platonov_tsvetok_na_zemle.pkl\n",
      "dmitry_data/andrej_platonov_usomnivshijsja_makar.pkl\n",
      "dmitry_data/andrej_platonov_v_prekrasnom_i_jarostnom_mire.pkl\n",
      "dmitry_data/andrej_platonov_vozvraschenie.pkl\n",
      "dmitry_data/anton_chehov_chelovek_v_futljare.pkl\n",
      "dmitry_data/anton_chehov_chernyj_monah.pkl\n",
      "dmitry_data/anton_chehov_dvadtsat'_devjatoe_ijunja.pkl\n",
      "dmitry_data/anton_chehov_hameleon.pkl\n",
      "dmitry_data/anton_chehov_hirurgija.pkl\n",
      "dmitry_data/anton_chehov_jarmarka.pkl\n",
      "dmitry_data/anton_chehov_kryzhovnik.pkl\n",
      "dmitry_data/anton_chehov_o_ljubvi.pkl\n",
      "dmitry_data/anton_chehov_palata_№_6.pkl\n",
      "dmitry_data/anton_chehov_tri_goda.pkl\n",
      "dmitry_data/b.pkl\n",
      "dmitry_data/dmitrij_mamin-sibirjak_ak-bozat.pkl\n",
      "dmitry_data/dmitrij_mamin-sibirjak_bogach_i_eremka.pkl\n",
      "dmitry_data/dmitrij_mamin-sibirjak_postojko.pkl\n",
      "dmitry_data/dmitrij_mamin-sibirjak_priemysh.pkl\n",
      "dmitry_data/dmitrij_mamin-sibirjak_seraja_shejka.pkl\n",
      "dmitry_data/dmitrij_mamin-sibirjak_staryj_vorobej.pkl\n",
      "dmitry_data/dmitrij_mamin-sibirjak_v_glushi.pkl\n",
      "dmitry_data/dmitrij_mamin-sibirjak_vertel.pkl\n",
      "dmitry_data/dmitrij_mamin-sibirjak_zimov'e_na_studenoj.pkl\n",
      "dmitry_data/fedor_dostoevskij_bednye_ljudi.pkl\n",
      "dmitry_data/fedor_dostoevskij_chestnyj_vor.pkl\n",
      "dmitry_data/fedor_dostoevskij_elka_i_svad'ba.pkl\n",
      "dmitry_data/fedor_dostoevskij_gospodin_proharchin.pkl\n",
      "dmitry_data/fedor_dostoevskij_igrok.pkl\n",
      "dmitry_data/fedor_dostoevskij_malen'kij_geroj.pkl\n",
      "dmitry_data/fedor_dostoevskij_polzunkov.pkl\n",
      "dmitry_data/fedor_dostoevskij_skvernyj_anekdot.pkl\n",
      "dmitry_data/fedor_dostoevskij_vechnyj_muzh.pkl\n",
      "dmitry_data/fedor_dostoevskij_zimnie_zametki_o_letnih_vpechatlenijah.pkl\n",
      "dmitry_data/ivan_bunin_antonovskie_jabloki.pkl\n",
      "dmitry_data/ivan_bunin_bezumnyj_hudozhnik.pkl\n",
      "dmitry_data/ivan_bunin_chistyj_ponedel'nik.pkl\n",
      "dmitry_data/ivan_bunin_gospodin_iz_san-frantsisko.pkl\n",
      "dmitry_data/ivan_bunin_grammatika_ljubvi.pkl\n",
      "dmitry_data/ivan_bunin_legkoe_dyhanie.pkl\n",
      "dmitry_data/ivan_bunin_mitina_ljubov'.pkl\n",
      "dmitry_data/ivan_bunin_solnechnyj_udar.pkl\n",
      "dmitry_data/ivan_bunin_suhodol.pkl\n",
      "dmitry_data/ivan_bunin_tsifry.pkl\n",
      "dmitry_data/ivan_turgenev_andrej_kolosov.pkl\n",
      "dmitry_data/ivan_turgenev_asja.pkl\n",
      "dmitry_data/ivan_turgenev_mumu.pkl\n",
      "dmitry_data/ivan_turgenev_ottsy_i_deti.pkl\n",
      "dmitry_data/ivan_turgenev_rudin.pkl\n",
      "dmitry_data/ivan_turgenev_zapiski_ohotnika.pkl\n",
      "dmitry_data/nikolaj_gogol'_koljaska.pkl\n",
      "dmitry_data/nikolaj_gogol'_mirgorod.pkl\n",
      "dmitry_data/nikolaj_gogol'_nevskij_prospekt.pkl\n",
      "dmitry_data/nikolaj_gogol'_nos.pkl\n",
      "dmitry_data/nikolaj_gogol'_shinel'.pkl\n",
      "dmitry_data/nikolaj_gogol'_zapiski_sumasshedshego.pkl\n",
      "dmitry_data/vsevolod_garshin_attalea_princeps.pkl\n",
      "dmitry_data/vsevolod_garshin_chetyre_dnja.pkl\n",
      "dmitry_data/vsevolod_garshin_hudozhniki.pkl\n",
      "dmitry_data/vsevolod_garshin_krasnyj_tsvetok.pkl\n",
      "dmitry_data/vsevolod_garshin_nadezhda_nikolaevna.pkl\n",
      "dmitry_data/vsevolod_garshin_proisshestvie.pkl\n",
      "dmitry_data/vsevolod_garshin_signal.pkl\n",
      "dmitry_data/vsevolod_garshin_skazanie_o_gordom_aggee.pkl\n",
      "dmitry_data/vsevolod_garshin_skazka_o_zhabe_i_roze.pkl\n",
      "dmitry_data/vsevolod_garshin_trus.pkl\n",
      "index.html\n",
      "models/DeepPavlov/rubert-base-cased.pkl\n",
      "models/kr-05-12-23-exp-1_pipeline.pkl\n",
      "models/kr-05-12-23-exp-2_pipeline.pkl\n",
      "models/kr-05-12-23-exp-3_pipeline.pkl\n",
      "models/kr-05-12-23-exp-4_pipeline.pkl\n",
      "models/kr-05-12-23-exp-5_pipeline.pkl\n",
      "models/kr-05-12-23-exp-6_pipeline.pkl\n",
      "models/kr-05-12-23-exp-7_pipeline.pkl\n",
      "models/kr-06-12-23-exp-1_pipeline.pkl\n",
      "models/kr-06-12-23-exp-2_pipeline.pkl\n",
      "models/kr-06-12-23-exp-3_pipeline.pkl\n",
      "models/kr-26-11-23-exp-1_pipeline.pkl\n",
      "models/kr-27-11-23-exp-1_pipeline.pkl\n",
      "models/kr-27-11-23-exp-2_pipeline.pkl\n",
      "models/kr-27-11-23-exp-3_pipeline.pkl\n",
      "models/kr-27-11-23-exp-4_pipeline.pkl\n",
      "models/kr-27-11-23-exp-5_pipeline.pkl\n",
      "models/openchat_3.5.Q4_K_M.gguf\n",
      "models/tfidf_logit_pipeline.pkl\n",
      "models/tfidf_logreg_pipeline.pkl\n",
      "pos_data/pos_df.csv\n",
      "preproc_data/preproc_df.csv\n",
      "raw_data/aleksandr_kuprin_belyj_pudel'.txt\n",
      "raw_data/aleksandr_kuprin_chudesnyj_doktor.txt\n",
      "raw_data/aleksandr_kuprin_gambrinus.txt\n",
      "raw_data/aleksandr_kuprin_granatovyj_braslet.txt\n",
      "raw_data/aleksandr_kuprin_izumrud.txt\n",
      "raw_data/aleksandr_kuprin_kust_sireni.txt\n",
      "raw_data/aleksandr_kuprin_moloh.txt\n",
      "raw_data/aleksandr_kuprin_osennie_tsvety.txt\n",
      "raw_data/aleksandr_kuprin_sulamif'.txt\n",
      "raw_data/aleksandr_kuprin_taper.txt\n",
      "raw_data/aleksandr_pushkin_arap_petra_velikogo.txt\n",
      "raw_data/aleksandr_pushkin_dubrovskij.txt\n",
      "raw_data/aleksandr_pushkin_istorija_sela_gorjuhina.txt\n",
      "raw_data/aleksandr_pushkin_kapitanskaja_dochka.txt\n",
      "raw_data/aleksandr_pushkin_pikovaja_dama.txt\n",
      "raw_data/aleksandr_pushkin_povesti_pokojnogo_ivana_petrovicha_belkina.txt\n",
      "raw_data/aleksandr_pushkin_puteshestvie_v_arzrum_vo_vremja_pohoda_1829_goda.txt\n",
      "raw_data/andrej_platonov_fro.txt\n",
      "raw_data/andrej_platonov_ijul'skaja_groza.txt\n",
      "raw_data/andrej_platonov_ivan_velikij.txt\n",
      "raw_data/andrej_platonov_jushka.txt\n",
      "raw_data/andrej_platonov_neizvestnyj_tsvetok.txt\n",
      "raw_data/andrej_platonov_peschanaja_uchitel'nitsa.txt\n",
      "raw_data/andrej_platonov_tsvetok_na_zemle.txt\n",
      "raw_data/andrej_platonov_usomnivshijsja_makar.txt\n",
      "raw_data/andrej_platonov_v_prekrasnom_i_jarostnom_mire.txt\n",
      "raw_data/andrej_platonov_vozvraschenie.txt\n",
      "raw_data/anton_chehov_chelovek_v_futljare.txt\n",
      "raw_data/anton_chehov_chernyj_monah.txt\n",
      "raw_data/anton_chehov_dvadtsat'_devjatoe_ijunja.txt\n",
      "raw_data/anton_chehov_hameleon.txt\n",
      "raw_data/anton_chehov_hirurgija.txt\n",
      "raw_data/anton_chehov_jarmarka.txt\n",
      "raw_data/anton_chehov_kryzhovnik.txt\n",
      "raw_data/anton_chehov_o_ljubvi.txt\n",
      "raw_data/anton_chehov_palata_№_6.txt\n",
      "raw_data/anton_chehov_tri_goda.txt\n",
      "raw_data/dmitrij_mamin-sibirjak_ak-bozat.txt\n",
      "raw_data/dmitrij_mamin-sibirjak_bogach_i_eremka.txt\n",
      "raw_data/dmitrij_mamin-sibirjak_postojko.txt\n",
      "raw_data/dmitrij_mamin-sibirjak_priemysh.txt\n",
      "raw_data/dmitrij_mamin-sibirjak_seraja_shejka.txt\n",
      "raw_data/dmitrij_mamin-sibirjak_staryj_vorobej.txt\n",
      "raw_data/dmitrij_mamin-sibirjak_v_glushi.txt\n",
      "raw_data/dmitrij_mamin-sibirjak_vertel.txt\n",
      "raw_data/dmitrij_mamin-sibirjak_zimov'e_na_studenoj.txt\n",
      "raw_data/fedor_dostoevskij_bednye_ljudi.txt\n",
      "raw_data/fedor_dostoevskij_chestnyj_vor.txt\n",
      "raw_data/fedor_dostoevskij_elka_i_svad'ba.txt\n",
      "raw_data/fedor_dostoevskij_gospodin_proharchin.txt\n",
      "raw_data/fedor_dostoevskij_igrok.txt\n",
      "raw_data/fedor_dostoevskij_malen'kij_geroj.txt\n",
      "raw_data/fedor_dostoevskij_polzunkov.txt\n",
      "raw_data/fedor_dostoevskij_skvernyj_anekdot.txt\n",
      "raw_data/fedor_dostoevskij_vechnyj_muzh.txt\n",
      "raw_data/fedor_dostoevskij_zimnie_zametki_o_letnih_vpechatlenijah.txt\n",
      "raw_data/found_df.csv\n",
      "raw_data/ivan_bunin_antonovskie_jabloki.txt\n",
      "raw_data/ivan_bunin_bezumnyj_hudozhnik.txt\n",
      "raw_data/ivan_bunin_chistyj_ponedel'nik.txt\n",
      "raw_data/ivan_bunin_gospodin_iz_san-frantsisko.txt\n",
      "raw_data/ivan_bunin_grammatika_ljubvi.txt\n",
      "raw_data/ivan_bunin_legkoe_dyhanie.txt\n",
      "raw_data/ivan_bunin_mitina_ljubov'.txt\n",
      "raw_data/ivan_bunin_solnechnyj_udar.txt\n",
      "raw_data/ivan_bunin_suhodol.txt\n",
      "raw_data/ivan_bunin_tsifry.txt\n",
      "raw_data/ivan_turgenev_andrej_kolosov.txt\n",
      "raw_data/ivan_turgenev_asja.txt\n",
      "raw_data/ivan_turgenev_mumu.txt\n",
      "raw_data/ivan_turgenev_ottsy_i_deti.txt\n",
      "raw_data/ivan_turgenev_rudin.txt\n",
      "raw_data/ivan_turgenev_zapiski_ohotnika.txt\n",
      "raw_data/nikolaj_gogol'_koljaska.txt\n",
      "raw_data/nikolaj_gogol'_mirgorod.txt\n",
      "raw_data/nikolaj_gogol'_nevskij_prospekt.txt\n",
      "raw_data/nikolaj_gogol'_nos.txt\n",
      "raw_data/nikolaj_gogol'_shinel'.txt\n",
      "raw_data/nikolaj_gogol'_zapiski_sumasshedshego.txt\n",
      "raw_data/vsevolod_garshin_attalea_princeps.txt\n",
      "raw_data/vsevolod_garshin_chetyre_dnja.txt\n",
      "raw_data/vsevolod_garshin_hudozhniki.txt\n",
      "raw_data/vsevolod_garshin_krasnyj_tsvetok.txt\n",
      "raw_data/vsevolod_garshin_nadezhda_nikolaevna.txt\n",
      "raw_data/vsevolod_garshin_proisshestvie.txt\n",
      "raw_data/vsevolod_garshin_signal.txt\n",
      "raw_data/vsevolod_garshin_skazanie_o_gordom_aggee.txt\n",
      "raw_data/vsevolod_garshin_skazka_o_zhabe_i_roze.txt\n",
      "raw_data/vsevolod_garshin_trus.txt\n",
      "splitted_data/splitted_df.csv\n",
      "splitted_data/splitted_df_1000.csv\n",
      "splitted_data/splitted_df_2000.csv\n",
      "splitted_data/splitted_df_3000.csv\n",
      "splitted_data/splitted_w_ds_df.csv\n",
      "stat_data/count_words.csv\n",
      "stat_data/ruts_df.csv\n"
     ]
    }
   ],
   "source": [
    "for key in s3.list_objects(Bucket=S3_BUCKET)[\"Contents\"]:\n",
    "    print(key[\"Key\"])"
   ]
  },
  {
   "cell_type": "markdown",
   "id": "d2b1143d-2003-4d84-92a8-31a49c0d4235",
   "metadata": {},
   "source": [
    "# загружаем и сразу же сплиттим на токены"
   ]
  },
  {
   "cell_type": "markdown",
   "id": "b1fcb8ae-d4ec-41d8-a5ef-a7aa11de1fbd",
   "metadata": {},
   "source": [
    "Идея от Лены как разбивать произведения\n",
    "\n",
    "1) Токенизировать nltk/spacy\n",
    "2) Идем по списку токенов, как только набрали например 550 (это кстати точно гораздо больше, чем 5 предложений) — отрезаем все, которые были после последней запятой/точки/т.д. Т.е. если встреченный токен — пунктуация, то храним его индекс, потом срез до него"
   ]
  },
  {
   "cell_type": "code",
   "execution_count": 29,
   "id": "61eff8aa-e67e-4b7a-8ed7-b430eeb94b8d",
   "metadata": {},
   "outputs": [],
   "source": [
    "total_df = []\n",
    "for key in s3.list_objects(Bucket=S3_BUCKET)[\"Contents\"]:\n",
    "    # try:\n",
    "    #     if \"txt\" in key[\"Key\"]:  # фильтруем по расширению файла, нужны только txt\n",
    "    #         file = s3.get_object(Bucket=S3_BUCKET, Key=key[\"Key\"])[\"Body\"]\n",
    "    #         text = file.read().decode(\"utf-8\")\n",
    "    #         df = text_splitter(\n",
    "    #             text, number=3000\n",
    "    #         )  # вызываем функцию из utils для сплитования\n",
    "    #         df[\"book\"] = key[\"Key\"]  # добавляем название произведения в отдельный столбец\n",
    "    #         total_df.append(df)\n",
    "    # except:\n",
    "    #     print(\"не тот файл\", key[\"Key\"])\n",
    "    #     continue\n",
    "    if \"txt\" in key[\"Key\"]:  # фильтруем по расширению файла, нужны только txt\n",
    "        file = s3.get_object(Bucket=S3_BUCKET, Key=key[\"Key\"])[\"Body\"]\n",
    "        text = file.read().decode(\"utf-8\")\n",
    "        df = text_splitter(text, number=3000)  # вызываем функцию из utils для сплитования\n",
    "        df[\"book\"] = key[\"Key\"]  # добавляем название произведения в отдельный столбец\n",
    "        total_df.append(df)\n",
    "    else:\n",
    "        print(\"не тот файл\", key[\"Key\"])\n",
    "        continue"
   ]
  },
  {
   "cell_type": "code",
   "execution_count": 30,
   "id": "40b31265-b687-49e7-be43-39746319de94",
   "metadata": {},
   "outputs": [],
   "source": [
    "total_df = pd.concat(total_df)\n",
    "total_df.reset_index(drop=True, inplace=True)\n",
    "total_df.to_csv(\"splitted_df_3000.csv\", index=False)"
   ]
  },
  {
   "cell_type": "code",
   "execution_count": 31,
   "id": "c5f4bc98-06a8-4cf4-bfef-5c4b54fb691d",
   "metadata": {},
   "outputs": [
    {
     "data": {
      "text/html": [
       "<div>\n",
       "<style scoped>\n",
       "    .dataframe tbody tr th:only-of-type {\n",
       "        vertical-align: middle;\n",
       "    }\n",
       "\n",
       "    .dataframe tbody tr th {\n",
       "        vertical-align: top;\n",
       "    }\n",
       "\n",
       "    .dataframe thead th {\n",
       "        text-align: right;\n",
       "    }\n",
       "</style>\n",
       "<table border=\"1\" class=\"dataframe\">\n",
       "  <thead>\n",
       "    <tr style=\"text-align: right;\">\n",
       "      <th></th>\n",
       "      <th>target</th>\n",
       "      <th>text</th>\n",
       "      <th>book</th>\n",
       "    </tr>\n",
       "  </thead>\n",
       "  <tbody>\n",
       "    <tr>\n",
       "      <th>0</th>\n",
       "      <td>author_id_06</td>\n",
       "      <td>Узкими горными тропинками , от одного дачного ...</td>\n",
       "      <td>raw_data/aleksandr_kuprin_belyj_pudel'.txt</td>\n",
       "    </tr>\n",
       "    <tr>\n",
       "      <th>1</th>\n",
       "      <td>author_id_06</td>\n",
       "      <td>в вечных скитаниях : пуделя Арто и маленького ...</td>\n",
       "      <td>raw_data/aleksandr_kuprin_belyj_pudel'.txt</td>\n",
       "    </tr>\n",
       "    <tr>\n",
       "      <th>2</th>\n",
       "      <td>author_id_06</td>\n",
       "      <td>, когда весь Крым наполняется нарядной , богат...</td>\n",
       "      <td>raw_data/aleksandr_kuprin_belyj_pudel'.txt</td>\n",
       "    </tr>\n",
       "    <tr>\n",
       "      <th>3</th>\n",
       "      <td>author_id_06</td>\n",
       "      <td>махали на них с балконов руками , в третьих пр...</td>\n",
       "      <td>raw_data/aleksandr_kuprin_belyj_pudel'.txt</td>\n",
       "    </tr>\n",
       "    <tr>\n",
       "      <th>4</th>\n",
       "      <td>author_id_06</td>\n",
       "      <td>запыленных кипарисов , похожих на длинные черн...</td>\n",
       "      <td>raw_data/aleksandr_kuprin_belyj_pudel'.txt</td>\n",
       "    </tr>\n",
       "  </tbody>\n",
       "</table>\n",
       "</div>"
      ],
      "text/plain": [
       "         target                                               text  \\\n",
       "0  author_id_06  Узкими горными тропинками , от одного дачного ...   \n",
       "1  author_id_06  в вечных скитаниях : пуделя Арто и маленького ...   \n",
       "2  author_id_06  , когда весь Крым наполняется нарядной , богат...   \n",
       "3  author_id_06  махали на них с балконов руками , в третьих пр...   \n",
       "4  author_id_06  запыленных кипарисов , похожих на длинные черн...   \n",
       "\n",
       "                                         book  \n",
       "0  raw_data/aleksandr_kuprin_belyj_pudel'.txt  \n",
       "1  raw_data/aleksandr_kuprin_belyj_pudel'.txt  \n",
       "2  raw_data/aleksandr_kuprin_belyj_pudel'.txt  \n",
       "3  raw_data/aleksandr_kuprin_belyj_pudel'.txt  \n",
       "4  raw_data/aleksandr_kuprin_belyj_pudel'.txt  "
      ]
     },
     "execution_count": 31,
     "metadata": {},
     "output_type": "execute_result"
    }
   ],
   "source": [
    "total_df.head()"
   ]
  },
  {
   "cell_type": "code",
   "execution_count": 32,
   "id": "3ffbd622-c0e8-47f7-b365-bd11da0e3eb7",
   "metadata": {},
   "outputs": [
    {
     "data": {
      "text/plain": [
       "537"
      ]
     },
     "execution_count": 32,
     "metadata": {},
     "output_type": "execute_result"
    }
   ],
   "source": [
    "len(total_df.text[0].split())"
   ]
  },
  {
   "cell_type": "code",
   "execution_count": 43,
   "id": "2167a087-de5c-4ff2-9518-f6f0b1647156",
   "metadata": {},
   "outputs": [],
   "source": [
    "DATA_PATH = \"/Users/dariamishina/Documents/HSE/YearProject/mlds23-authorship-identification/data_preproc/notebooks/\"  # это локальный путь! Куда сохранился мой csv файл\n",
    "DF_FILE_NAME = \"splitted_df_3000.csv\""
   ]
  },
  {
   "cell_type": "markdown",
   "id": "d22da9aa-4bd2-4427-be34-110e6f748716",
   "metadata": {},
   "source": [
    "# загружаем в s3 "
   ]
  },
  {
   "cell_type": "code",
   "execution_count": 44,
   "id": "54d721e6-2e3e-4f7e-a624-4beef8f53dd4",
   "metadata": {
    "pycharm": {
     "name": "#%%\n"
    },
    "scrolled": true
   },
   "outputs": [],
   "source": [
    "s3.upload_file(f\"{DATA_PATH}{DF_FILE_NAME}\", S3_BUCKET, f\"splitted_data/{DF_FILE_NAME}\")"
   ]
  },
  {
   "cell_type": "code",
   "execution_count": null,
   "id": "855fa8e65767209c",
   "metadata": {
    "collapsed": false,
    "jupyter": {
     "outputs_hidden": false
    },
    "pycharm": {
     "name": "#%%\n"
    }
   },
   "outputs": [],
   "source": []
  }
 ],
 "metadata": {
  "kernelspec": {
   "display_name": "Python 3 (ipykernel)",
   "language": "python",
   "name": "python3"
  },
  "language_info": {
   "codemirror_mode": {
    "name": "ipython",
    "version": 3
   },
   "file_extension": ".py",
   "mimetype": "text/x-python",
   "name": "python",
   "nbconvert_exporter": "python",
   "pygments_lexer": "ipython3",
   "version": "3.11.5"
  }
 },
 "nbformat": 4,
 "nbformat_minor": 5
}
