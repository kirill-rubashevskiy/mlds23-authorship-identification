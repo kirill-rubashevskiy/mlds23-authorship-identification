{
 "cells": [
  {
   "cell_type": "code",
   "execution_count": 1,
   "id": "initial_id",
   "metadata": {
    "collapsed": true,
    "ExecuteTime": {
     "end_time": "2023-10-24T10:47:19.067235Z",
     "start_time": "2023-10-24T10:47:18.642704Z"
    }
   },
   "outputs": [
    {
     "name": "stderr",
     "output_type": "stream",
     "text": [
      "/Users/kirill.rubashevskiy/PycharmProjects/mlds23-authorship-identification/venv/lib/python3.9/site-packages/urllib3/__init__.py:34: NotOpenSSLWarning: urllib3 v2.0 only supports OpenSSL 1.1.1+, currently the 'ssl' module is compiled with 'LibreSSL 2.8.3'. See: https://github.com/urllib3/urllib3/issues/3020\n",
      "  warnings.warn(\n"
     ]
    }
   ],
   "source": [
    "# imports\n",
    "import os\n",
    "\n",
    "from IPython.core.display_functions import display\n",
    "\n",
    "from mlds23_authorship_identification.data.parser import IlibParser"
   ]
  },
  {
   "cell_type": "code",
   "execution_count": 2,
   "outputs": [],
   "source": [
    "# create variables for folder name to store parsed texts and .txt file with a list of titles to search\n",
    "FOUND_FOLDER_NAME = \"example_task_data\"\n",
    "TASK_FILE_NAME = \"example_task.txt\""
   ],
   "metadata": {
    "collapsed": false,
    "ExecuteTime": {
     "end_time": "2023-10-24T10:47:19.067957Z",
     "start_time": "2023-10-24T10:47:19.066186Z"
    }
   },
   "id": "cbf3d858369ceeb5"
  },
  {
   "cell_type": "code",
   "execution_count": 3,
   "outputs": [],
   "source": [
    "# create directory to store parsed texts\n",
    "os.mkdir(FOUND_FOLDER_NAME)\n",
    "\n",
    "# create IlibParser class instance\n",
    "parser = IlibParser()"
   ],
   "metadata": {
    "collapsed": false,
    "ExecuteTime": {
     "end_time": "2023-10-24T10:47:23.229496Z",
     "start_time": "2023-10-24T10:47:19.069258Z"
    }
   },
   "id": "dd7ec82fa57a8d53"
  },
  {
   "cell_type": "code",
   "execution_count": 4,
   "outputs": [],
   "source": [
    "search_task = open(TASK_FILE_NAME)"
   ],
   "metadata": {
    "collapsed": false,
    "ExecuteTime": {
     "end_time": "2023-10-24T10:47:23.236880Z",
     "start_time": "2023-10-24T10:47:23.231722Z"
    }
   },
   "id": "3895dda4ac776e3"
  },
  {
   "cell_type": "code",
   "execution_count": 5,
   "outputs": [],
   "source": [
    "# texts parsing\n",
    "for title in search_task:\n",
    "    found = parser.search_title(title.strip())\n",
    "    if found:\n",
    "        with open(f\"./{FOUND_FOLDER_NAME}/{found.file_name}.txt\", \"w\") as file:\n",
    "            file.write(found.text)\n",
    "            file.close()\n",
    "\n",
    "        parser.found_df.to_csv(f\"./{FOUND_FOLDER_NAME}/found_df.csv\")"
   ],
   "metadata": {
    "collapsed": false,
    "ExecuteTime": {
     "end_time": "2023-10-24T10:47:34.265640Z",
     "start_time": "2023-10-24T10:47:23.245137Z"
    }
   },
   "id": "591b379bb507bbf3"
  },
  {
   "cell_type": "code",
   "execution_count": 6,
   "outputs": [
    {
     "name": "stdout",
     "output_type": "stream",
     "text": [
      "Found and grabbed 2 title(s) from 3 searched. Not found titles include:\n",
      " - Generation «П»\n"
     ]
    }
   ],
   "source": [
    "# display parsing stats\n",
    "print(\n",
    "    f\"Found and grabbed {len(parser.found)} title(s) from {len(parser.searched)} searched. Not found titles include:\"\n",
    ")\n",
    "for title in parser.not_found:\n",
    "    print(f\" - {title}\")"
   ],
   "metadata": {
    "collapsed": false,
    "ExecuteTime": {
     "end_time": "2023-10-24T10:47:34.266819Z",
     "start_time": "2023-10-24T10:47:34.264811Z"
    }
   },
   "id": "49d0b936dae4ad02"
  },
  {
   "cell_type": "code",
   "execution_count": 7,
   "outputs": [
    {
     "name": "stdout",
     "output_type": "stream",
     "text": [
      "Titles found:\n"
     ]
    },
    {
     "data": {
      "text/plain": "               title             author  author_id  \\\n0  Капитанская дочка   Александр Пушкин          0   \n1        Бедные люди  Федор Достоевский          1   \n\n                               file_name  \\\n0  aleksandr_pushkin_kapitanskaja_dochka   \n1         fedor_dostoevskij_bednye_ljudi   \n\n                                      text_url  \n0  https://ilibrary.ru/text/107/p.1/index.html  \n1   https://ilibrary.ru/text/17/p.1/index.html  ",
      "text/html": "<div>\n<style scoped>\n    .dataframe tbody tr th:only-of-type {\n        vertical-align: middle;\n    }\n\n    .dataframe tbody tr th {\n        vertical-align: top;\n    }\n\n    .dataframe thead th {\n        text-align: right;\n    }\n</style>\n<table border=\"1\" class=\"dataframe\">\n  <thead>\n    <tr style=\"text-align: right;\">\n      <th></th>\n      <th>title</th>\n      <th>author</th>\n      <th>author_id</th>\n      <th>file_name</th>\n      <th>text_url</th>\n    </tr>\n  </thead>\n  <tbody>\n    <tr>\n      <th>0</th>\n      <td>Капитанская дочка</td>\n      <td>Александр Пушкин</td>\n      <td>0</td>\n      <td>aleksandr_pushkin_kapitanskaja_dochka</td>\n      <td>https://ilibrary.ru/text/107/p.1/index.html</td>\n    </tr>\n    <tr>\n      <th>1</th>\n      <td>Бедные люди</td>\n      <td>Федор Достоевский</td>\n      <td>1</td>\n      <td>fedor_dostoevskij_bednye_ljudi</td>\n      <td>https://ilibrary.ru/text/17/p.1/index.html</td>\n    </tr>\n  </tbody>\n</table>\n</div>"
     },
     "metadata": {},
     "output_type": "display_data"
    }
   ],
   "source": [
    "# display information on found titles\n",
    "print(\"Titles found:\")\n",
    "display(parser.found_df.sort_values(by=[\"author\", \"title\"]))"
   ],
   "metadata": {
    "collapsed": false,
    "ExecuteTime": {
     "end_time": "2023-10-24T10:47:34.285073Z",
     "start_time": "2023-10-24T10:47:34.266397Z"
    }
   },
   "id": "f4d24cb927d3cebb"
  },
  {
   "cell_type": "code",
   "execution_count": 8,
   "outputs": [
    {
     "data": {
      "text/plain": "'author_id_00Береги честь смолоду.— Был бы гвардии он завтра ж капитан.\\n— Того не надобно; пусть в армии послужит.\\n— Изрядно сказано! пускай его потужит...\\n\\nДа кто его отец?Отец мой Андрей Петрович Гринев в молодости своей служил при графе Минихе и вышел в отставку премьер-майором в 17.. году. С тех пор жил он в своей Симбирской деревне, где и женился на девице Авдотье Васильевне Ю., дочери бедного тамошнего дворянина. Нас было девять человек детей. Все мои братья и сестры умерли во младенчестве.Матушка была еще мною брюхата, как уже я был записан в Семеновский полк сержантом, по милости майора гвардии князя В., близкого нашего родственника. Если бы паче всякого чаяния матушка родила дочь, то батюшка объявил бы куда следовало о смерти неявившегося сержанта, и дело тем бы и кончилось. Я считался в отпуску до окончания наук. В то время воспитывались мы не по-нонешнему. С пятилетнего возраста отдан я был на руки стремянному Савельичу, за трезвое поведение пожалованному мне в дядьки. Под его надзором на двенадцатом году выучился я русской грамоте и мог очень здраво судить о свойствах борзого кобеля. В это время батюшка нанял для меня француза, мосье Бопре, которого выписали из Москвы вместе с годовым запасом вина и прованского масла. Приезд его сильно не понравился Савельичу. «Слава богу, — ворчал он про себя, — кажется, дитя умыт, причесан, накормлен. Куда как нужно тратить лишние деньги и нанимать мусье, как будто и своих людей не стало!»Бопре в отечестве своем был парикмахером, потом в Пруссии солдатом, потом приехал в Россию pour etre outchitel\\u202f1, не очень понимая значение этого слова. Он был добрый малый, но ветрен и беспутен до крайности. Главною его слабостию была страсть к прекрасному полу; нередко за свои нежности получал он толчки, от которых охал по целым суткам. К тому же не был он (по его выражению) и врагом бутылки, т.\\xa0е. (говоря по-русски) любил хлебнуть лишнее. Но как вино подавалось у нас только за обедом, и то по рюмочке, причем учителя обыкновенно и обносили, то мой Бопре очень скоро привык к русской настойке и даже стал предпочитать ее винам своего отечества, как не в пример более полезную для желудка. Мы тотчас поладили, и хотя по контракту обязан он был учить меня по-французски, по-немецки и всем наукам, но он предпочел наскоро выучиться от меня кое-как болтать по-русски, — и потом каждый из нас занимался уже своим делом. Мы жили душа в душу. Другого ментора я и не желал. Но вскоре судьба нас разлучила, и вот по какому случаю:Прачка Палашка, толстая и рябая девка, и кривая коровница Акулька как-то согласились в одно время кинуться матушке в ноги, винясь в преступной слабости и с плачем жалуясь на мусье, обольстившего их неопытность. Матушка шутить этим не любила и пожаловалась батюшке. У него расправа была коротка. Он тотчас потребовал каналью француза. Доложили, что мусье давал мне свой урок. Батюшка пошел в мою комнату. В это время Бопре спал на кровати сном невинности. Я был занят делом. Надобно знать, что для меня выписана бы'"
     },
     "execution_count": 8,
     "metadata": {},
     "output_type": "execute_result"
    }
   ],
   "source": [
    "# display sample of parsed text\n",
    "text_example = open(f\"./{FOUND_FOLDER_NAME}/{parser.found_df.file_name[0]}.txt\", \"r\")\n",
    "text_example.read(3000)"
   ],
   "metadata": {
    "collapsed": false,
    "ExecuteTime": {
     "end_time": "2023-10-24T10:47:34.285883Z",
     "start_time": "2023-10-24T10:47:34.277868Z"
    }
   },
   "id": "326fe72e6a40eae6"
  },
  {
   "cell_type": "code",
   "execution_count": 8,
   "outputs": [],
   "source": [],
   "metadata": {
    "collapsed": false,
    "ExecuteTime": {
     "end_time": "2023-10-24T10:47:34.285967Z",
     "start_time": "2023-10-24T10:47:34.281544Z"
    }
   },
   "id": "1d4314b96a8d6a28"
  }
 ],
 "metadata": {
  "kernelspec": {
   "display_name": "Python 3",
   "language": "python",
   "name": "python3"
  },
  "language_info": {
   "codemirror_mode": {
    "name": "ipython",
    "version": 2
   },
   "file_extension": ".py",
   "mimetype": "text/x-python",
   "name": "python",
   "nbconvert_exporter": "python",
   "pygments_lexer": "ipython2",
   "version": "2.7.6"
  }
 },
 "nbformat": 4,
 "nbformat_minor": 5
}
