{
 "cells": [
  {
   "cell_type": "code",
   "execution_count": null,
   "id": "60ec3fe3-ab53-431e-b556-93c46de390f5",
   "metadata": {},
   "outputs": [],
   "source": [
    "import boto3\n",
    "import pandas as pd\n",
    "from data_preproc.src.utils import preprocess_text1, preprocess_text2, preprocess_text3, preprocess_text4, tokenizing"
   ]
  },
  {
   "cell_type": "markdown",
   "id": "ff6f3ead-422e-495d-92ee-d284f463e0c9",
   "metadata": {},
   "source": [
    "# загружаем из s3"
   ]
  },
  {
   "cell_type": "code",
   "execution_count": null,
   "id": "52e3e5a4-7191-4862-b1a1-d88ceb3eadb4",
   "metadata": {},
   "outputs": [],
   "source": [
    "session = boto3.session.Session()"
   ]
  },
  {
   "cell_type": "code",
   "execution_count": null,
   "id": "982b6323-031c-4f56-8eca-db61e8b4fa78",
   "metadata": {},
   "outputs": [],
   "source": [
    "s3 = session.client(\n",
    "    service_name='s3',\n",
    "    endpoint_url='https://storage.yandexcloud.net',\n",
    "    aws_access_key_id='YCAJErlaldUmioGbHQSqJ70MR',\n",
    "    aws_secret_access_key='YCPSba_JgloNYSNWcnKO2CYCEB8PFR1Iwgr2jIUy',\n",
    "    region_name='ru-cental1'\n",
    ")"
   ]
  },
  {
   "cell_type": "code",
   "execution_count": null,
   "id": "bd1d22b1-342f-4f55-af5d-26ba327e1d57",
   "metadata": {},
   "outputs": [],
   "source": [
    "BUCKET_NAME = \"mlds23-authorship-identification\"\n",
    "BUCKET_DIR = \"splitted_data/\"\n",
    "FILENAME = 'splitted_df.csv'\n",
    "#загружает в локальную директорию, потом отдельно надо считывать\n",
    "s3.download_file(Filename=FILENAME, Bucket=BUCKET_NAME, Key=BUCKET_DIR + FILENAME)"
   ]
  },
  {
   "cell_type": "markdown",
   "id": "7aa75fad-6565-4eda-b9a9-3cc44cf1e2ba",
   "metadata": {},
   "source": [
    "# делаем предобработку "
   ]
  },
  {
   "cell_type": "code",
   "execution_count": null,
   "id": "22956504-187c-42cd-9224-8c4828f44f66",
   "metadata": {},
   "outputs": [],
   "source": [
    "df = pd.read_csv('splitted_df.csv')"
   ]
  },
  {
   "cell_type": "code",
   "execution_count": null,
   "id": "aa39b416-0678-45be-a75a-d0f274717e5d",
   "metadata": {},
   "outputs": [],
   "source": [
    "df['text_preproc1'] = df['text'].apply(preprocess_text1)\n",
    "df['text_preproc2'] = df['text'].apply(preprocess_text2)\n",
    "df['text_preproc3'] = df['text'].apply(preprocess_text3)\n",
    "df['text_preproc4'] = df['text'].apply(preprocess_text4)\n",
    "# можно потом применить функцию tokenizing для столбцов"
   ]
  },
  {
   "cell_type": "code",
   "execution_count": null,
   "id": "255768c6-e664-426c-a92a-2773ba7faa5a",
   "metadata": {},
   "outputs": [],
   "source": [
    "df.to_csv('preproc_df.csv', index=False)"
   ]
  },
  {
   "cell_type": "markdown",
   "id": "84e7d3ad-7363-4688-b67f-d0887bf5dd3a",
   "metadata": {},
   "source": [
    "# загружаем в s3"
   ]
  },
  {
   "cell_type": "code",
   "execution_count": null,
   "id": "cdaf28e5-4d8b-421e-b781-66901ad7ee27",
   "metadata": {},
   "outputs": [],
   "source": [
    "DATA_PATH = '/home/d-mishina/texts/' #это локальный путь! Куда сохранился мой csv файл\n",
    "NEW_FILE_NAME = 'preproc_df.csv'"
   ]
  },
  {
   "cell_type": "code",
   "execution_count": null,
   "id": "77871cc5-adcf-4f4a-984e-aea12a81258e",
   "metadata": {},
   "outputs": [],
   "source": [
    "s3.upload_file(f'{DATA_PATH}{NEW_FILE_NAME}', BUCKET_NAME, f'preproc_data/{NEW_FILE_NAME}')"
   ]
  }
 ],
 "metadata": {
  "kernelspec": {
   "display_name": "Python 3 (ipykernel)",
   "language": "python",
   "name": "python3"
  },
  "language_info": {
   "codemirror_mode": {
    "name": "ipython",
    "version": 3
   },
   "file_extension": ".py",
   "mimetype": "text/x-python",
   "name": "python",
   "nbconvert_exporter": "python",
   "pygments_lexer": "ipython3",
   "version": "3.8.10"
  }
 },
 "nbformat": 4,
 "nbformat_minor": 5
}
