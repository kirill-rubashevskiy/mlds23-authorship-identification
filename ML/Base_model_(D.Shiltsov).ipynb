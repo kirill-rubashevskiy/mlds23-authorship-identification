{
 "cells": [
  {
   "cell_type": "markdown",
   "id": "a59f8ee2",
   "metadata": {},
   "source": [
    "## Простейшая модель \n",
    "\n",
    "### План\n",
    "\n",
    "- преобразовать текст в ветор частей речи (+ падеж + спряжение там где это актуально)\n",
    "- построить модель на би и триграммах\n"
   ]
  },
  {
   "cell_type": "markdown",
   "id": "6d1c328e",
   "metadata": {},
   "source": [
    "### Загрузка данных"
   ]
  },
  {
   "cell_type": "code",
   "execution_count": 1,
   "id": "4d7fd870",
   "metadata": {},
   "outputs": [],
   "source": [
    "import boto3\n",
    "import pandas as pd\n",
    "import re\n",
    "import nltk\n",
    "\n",
    "from pymystem3 import Mystem\n",
    "from sklearn.model_selection import train_test_split\n",
    "from sklearn.metrics import classification_report\n",
    "from nltk import ngrams\n",
    "from sklearn.linear_model import LogisticRegression # можно заменить на любимый классификатор\n",
    "from sklearn.feature_extraction.text import CountVectorizer, TfidfVectorizer\n"
   ]
  },
  {
   "cell_type": "code",
   "execution_count": 2,
   "id": "2930ae27",
   "metadata": {
    "scrolled": false
   },
   "outputs": [],
   "source": [
    "session = boto3.session.Session()\n",
    "\n",
    "s3 = session.client(\n",
    "    service_name='s3',\n",
    "    endpoint_url='https://storage.yandexcloud.net',\n",
    "    aws_access_key_id='YCAJErlaldUmioGbHQSqJ70MR',\n",
    "    aws_secret_access_key='YCPSba_JgloNYSNWcnKO2CYCEB8PFR1Iwgr2jIUy',\n",
    "    region_name='ru-cental1'\n",
    ")\n",
    "\n",
    "BUCKET_NAME = \"mlds23-authorship-identification\"\n",
    "BUCKET_DIR = \"splitted_data/\"\n",
    "FILENAME = 'splitted_df.csv'\n",
    "#загружает в локальную директорию, потом отдельно надо считывать\n",
    "#s3.download_file(Filename=\"data/\" + FILENAME, Bucket=BUCKET_NAME, Key=BUCKET_DIR + FILENAME)"
   ]
  },
  {
   "cell_type": "code",
   "execution_count": 3,
   "id": "331692c2",
   "metadata": {},
   "outputs": [
    {
     "name": "stdout",
     "output_type": "stream",
     "text": [
      "(11715, 3)\n"
     ]
    },
    {
     "data": {
      "text/html": [
       "<div>\n",
       "<style scoped>\n",
       "    .dataframe tbody tr th:only-of-type {\n",
       "        vertical-align: middle;\n",
       "    }\n",
       "\n",
       "    .dataframe tbody tr th {\n",
       "        vertical-align: top;\n",
       "    }\n",
       "\n",
       "    .dataframe thead th {\n",
       "        text-align: right;\n",
       "    }\n",
       "</style>\n",
       "<table border=\"1\" class=\"dataframe\">\n",
       "  <thead>\n",
       "    <tr style=\"text-align: right;\">\n",
       "      <th></th>\n",
       "      <th>target</th>\n",
       "      <th>text</th>\n",
       "      <th>book</th>\n",
       "    </tr>\n",
       "  </thead>\n",
       "  <tbody>\n",
       "    <tr>\n",
       "      <th>0</th>\n",
       "      <td>author_id_06</td>\n",
       "      <td>Узкими горными тропинками , от одного дачного ...</td>\n",
       "      <td>raw_data/aleksandr_kuprin_belyj_pudel'.txt</td>\n",
       "    </tr>\n",
       "    <tr>\n",
       "      <th>1</th>\n",
       "      <td>author_id_06</td>\n",
       "      <td>свернутый ковер для акробатических упражнений ...</td>\n",
       "      <td>raw_data/aleksandr_kuprin_belyj_pudel'.txt</td>\n",
       "    </tr>\n",
       "    <tr>\n",
       "      <th>2</th>\n",
       "      <td>author_id_06</td>\n",
       "      <td>позабытые . Кроме того , были в шарманке две п...</td>\n",
       "      <td>raw_data/aleksandr_kuprin_belyj_pudel'.txt</td>\n",
       "    </tr>\n",
       "    <tr>\n",
       "      <th>3</th>\n",
       "      <td>author_id_06</td>\n",
       "      <td>тайной грусти : — Что поделаешь ? .. Древний о...</td>\n",
       "      <td>raw_data/aleksandr_kuprin_belyj_pudel'.txt</td>\n",
       "    </tr>\n",
       "    <tr>\n",
       "      <th>4</th>\n",
       "      <td>author_id_06</td>\n",
       "      <td>, да уж ладно ! Кормила она нас с тобой , Серг...</td>\n",
       "      <td>raw_data/aleksandr_kuprin_belyj_pudel'.txt</td>\n",
       "    </tr>\n",
       "  </tbody>\n",
       "</table>\n",
       "</div>"
      ],
      "text/plain": [
       "         target                                               text  \\\n",
       "0  author_id_06  Узкими горными тропинками , от одного дачного ...   \n",
       "1  author_id_06  свернутый ковер для акробатических упражнений ...   \n",
       "2  author_id_06  позабытые . Кроме того , были в шарманке две п...   \n",
       "3  author_id_06  тайной грусти : — Что поделаешь ? .. Древний о...   \n",
       "4  author_id_06  , да уж ладно ! Кормила она нас с тобой , Серг...   \n",
       "\n",
       "                                         book  \n",
       "0  raw_data/aleksandr_kuprin_belyj_pudel'.txt  \n",
       "1  raw_data/aleksandr_kuprin_belyj_pudel'.txt  \n",
       "2  raw_data/aleksandr_kuprin_belyj_pudel'.txt  \n",
       "3  raw_data/aleksandr_kuprin_belyj_pudel'.txt  \n",
       "4  raw_data/aleksandr_kuprin_belyj_pudel'.txt  "
      ]
     },
     "execution_count": 3,
     "metadata": {},
     "output_type": "execute_result"
    }
   ],
   "source": [
    "df = pd.read_csv('splitted_df.csv')\n",
    "print(df.shape)\n",
    "df.head()"
   ]
  },
  {
   "cell_type": "code",
   "execution_count": 4,
   "id": "c79f69f5",
   "metadata": {},
   "outputs": [],
   "source": [
    "X_train, X_test, y_train, y_test = train_test_split(df['text'], df['target'], test_size=.3, random_state=42)\n"
   ]
  },
  {
   "cell_type": "markdown",
   "id": "40489716",
   "metadata": {},
   "source": [
    "## Кодирование признаков\n",
    "\n",
    "- исходим из предположения что знаки препинания являются важными признаками, поэтому закодируем некоторые из них в слова\n",
    "- закодируем слова как часть речи, для частей речи имеющих падеж добавим падеж (сущ, прил, местоимение), для частей речи имеющих спряжение добавим спряжение. Формат - ЧАСТЬРЕЧИ_ПАДЕЖ "
   ]
  },
  {
   "cell_type": "code",
   "execution_count": 5,
   "id": "8698cc25",
   "metadata": {},
   "outputs": [
    {
     "data": {
      "text/plain": [
       "\"как-то - 'рано' ''? пела: лЕСОМ,  нифига(она) не ела\""
      ]
     },
     "execution_count": 5,
     "metadata": {},
     "output_type": "execute_result"
    }
   ],
   "source": [
    "def clean_sentence(sentence):\n",
    "    sentence = re.sub(r\"[^а-яА-ЯёЁ \\-\\\"!'(),.:;?]\", '', sentence) \n",
    "    return sentence\n",
    "\n",
    "# тест\n",
    "clean_sentence(\"как-то - 'рано' 'Marta'? пела: лЕСОМ, * &нифига(она) не ела\")"
   ]
  },
  {
   "cell_type": "code",
   "execution_count": 6,
   "id": "2f99f34e",
   "metadata": {},
   "outputs": [
    {
     "data": {
      "text/plain": [
       "\"как-то DASH 'рано' 'Marta' QST  пела COLON  лЕСОМ COMMA  * &нифига(она) не ела\""
      ]
     },
     "execution_count": 6,
     "metadata": {},
     "output_type": "execute_result"
    }
   ],
   "source": [
    "def make_punkt(sentence):\n",
    "    repl = [('.',' POINT '), (',',' COMMA '), ('?',' QST '), ('!',' EXCL '), \n",
    "            (':',' COLON '), (';',' SEMICOL '), (',',' DASH '),]\n",
    "    for p, r in repl:\n",
    "        sentence = sentence.replace(p,r)\n",
    "    sentence = re.sub(r\"\\s?-\\s|\\s-\\s?\", ' DASH ', sentence) # не трогать тире в слове (как-то)\n",
    "        \n",
    "    return sentence\n",
    "        \n",
    "# тест    \n",
    "make_punkt(\"как-то - 'рано' 'Marta'? пела: лЕСОМ, * &нифига(она) не ела\")    "
   ]
  },
  {
   "cell_type": "code",
   "execution_count": 7,
   "id": "a31f1071",
   "metadata": {},
   "outputs": [
    {
     "data": {
      "text/plain": [
       "'CONJ= POINT S,муж,неод=дат,ед CONJ= CONJ= A=(дат,мн,полн|твор,ед,полн,муж|твор,ед,полн,сред) S,муж,неод=твор,ед'"
      ]
     },
     "execution_count": 7,
     "metadata": {},
     "output_type": "execute_result"
    }
   ],
   "source": [
    "mystem_analyzer = Mystem()\n",
    "\n",
    "def make_grams(sentence):\n",
    "    morph = mystem_analyzer.analyze(sentence)\n",
    "    \n",
    "    ret = []\n",
    "    for lex in morph:\n",
    "        if lex['text'] in ['POINT', 'COMMA', 'QST', 'EXCL', 'COLON', 'SEMICOL', 'DASH']:\n",
    "            ret.append(lex['text'])\n",
    "            continue\n",
    "        \n",
    "        try:\n",
    "            if 'analysis' in lex.keys() and 'gr' in lex['analysis'][0].keys():\n",
    "                ret.append(lex['analysis'][0]['gr'])\n",
    "        except:\n",
    "            # встретил что-то непотребное в стиле ру-ру-ру\n",
    "            pass\n",
    "    return ' '.join(ret)\n",
    "\n",
    "# тест\n",
    "make_grams(\"и POINT столу но и тёплым снегом\")"
   ]
  },
  {
   "cell_type": "code",
   "execution_count": 8,
   "id": "9e065e19",
   "metadata": {},
   "outputs": [
    {
     "data": {
      "text/plain": [
       "'CONJ POINT S,муж,неод CONJ CONJ A S,муж,неод'"
      ]
     },
     "execution_count": 8,
     "metadata": {},
     "output_type": "execute_result"
    }
   ],
   "source": [
    "def make_grams_brief(sentence):\n",
    "    morph = mystem_analyzer.analyze(sentence)\n",
    "    \n",
    "    ret = []\n",
    "    for lex in morph:\n",
    "        if lex['text'] in ['POINT', 'COMMA', 'QST', 'EXCL', 'COLON', 'SEMICOL', 'DASH']:\n",
    "            ret.append(lex['text'])\n",
    "            continue\n",
    "        \n",
    "        try:\n",
    "            if 'analysis' in lex.keys() and 'gr' in lex['analysis'][0].keys():\n",
    "                ret.append(lex['analysis'][0]['gr'].split('=')[0])\n",
    "        except:\n",
    "            # встретил что-то непотребное в стиле ру-ру-ру\n",
    "            pass\n",
    "    return ' '.join(ret)\n",
    "\n",
    "# тест\n",
    "make_grams_brief(\"и POINT столу но и тёплым снегом\")"
   ]
  },
  {
   "cell_type": "code",
   "execution_count": 9,
   "id": "8e5c188e",
   "metadata": {
    "scrolled": false
   },
   "outputs": [],
   "source": [
    "def prepare_text(Text_corp):\n",
    "    res = []\n",
    "    for text in Text_corp:\n",
    "        text = clean_sentence(text)\n",
    "        text = make_punkt(text)\n",
    "        text = make_grams(text)\n",
    "        res.append(text)\n",
    "    return res\n",
    "\n",
    "X_tr = prepare_text(X_train)\n",
    "X_ts = prepare_text(X_test)\n"
   ]
  },
  {
   "cell_type": "code",
   "execution_count": 10,
   "id": "6645c88d",
   "metadata": {
    "scrolled": false
   },
   "outputs": [
    {
     "data": {
      "text/plain": [
       "list"
      ]
     },
     "execution_count": 10,
     "metadata": {},
     "output_type": "execute_result"
    }
   ],
   "source": [
    "type(X_tr)"
   ]
  },
  {
   "cell_type": "markdown",
   "id": "a5f6ad57",
   "metadata": {},
   "source": [
    "## Подготовка BOW и обучение простейшей линейной модели\n",
    "\n"
   ]
  },
  {
   "cell_type": "code",
   "execution_count": 11,
   "id": "0de64f46",
   "metadata": {
    "scrolled": false
   },
   "outputs": [],
   "source": [
    "myvec = CountVectorizer(ngram_range=(1, 3), \n",
    "                        stop_words=None, lowercase=False, \n",
    "                        token_pattern=r\"(?u)\\b[a-zA-Zа-яА-ЯёЁ0-9,=90|\\-]+\\b\")\n",
    "X_tr_bow  = myvec.fit_transform(X_tr)\n",
    "X_ts_bow  = myvec.transform(X_ts)\n",
    "#myvec.vocabulary_.items()"
   ]
  },
  {
   "cell_type": "code",
   "execution_count": 12,
   "id": "60378955",
   "metadata": {},
   "outputs": [
    {
     "data": {
      "text/html": [
       "<style>#sk-container-id-1 {color: black;}#sk-container-id-1 pre{padding: 0;}#sk-container-id-1 div.sk-toggleable {background-color: white;}#sk-container-id-1 label.sk-toggleable__label {cursor: pointer;display: block;width: 100%;margin-bottom: 0;padding: 0.3em;box-sizing: border-box;text-align: center;}#sk-container-id-1 label.sk-toggleable__label-arrow:before {content: \"▸\";float: left;margin-right: 0.25em;color: #696969;}#sk-container-id-1 label.sk-toggleable__label-arrow:hover:before {color: black;}#sk-container-id-1 div.sk-estimator:hover label.sk-toggleable__label-arrow:before {color: black;}#sk-container-id-1 div.sk-toggleable__content {max-height: 0;max-width: 0;overflow: hidden;text-align: left;background-color: #f0f8ff;}#sk-container-id-1 div.sk-toggleable__content pre {margin: 0.2em;color: black;border-radius: 0.25em;background-color: #f0f8ff;}#sk-container-id-1 input.sk-toggleable__control:checked~div.sk-toggleable__content {max-height: 200px;max-width: 100%;overflow: auto;}#sk-container-id-1 input.sk-toggleable__control:checked~label.sk-toggleable__label-arrow:before {content: \"▾\";}#sk-container-id-1 div.sk-estimator input.sk-toggleable__control:checked~label.sk-toggleable__label {background-color: #d4ebff;}#sk-container-id-1 div.sk-label input.sk-toggleable__control:checked~label.sk-toggleable__label {background-color: #d4ebff;}#sk-container-id-1 input.sk-hidden--visually {border: 0;clip: rect(1px 1px 1px 1px);clip: rect(1px, 1px, 1px, 1px);height: 1px;margin: -1px;overflow: hidden;padding: 0;position: absolute;width: 1px;}#sk-container-id-1 div.sk-estimator {font-family: monospace;background-color: #f0f8ff;border: 1px dotted black;border-radius: 0.25em;box-sizing: border-box;margin-bottom: 0.5em;}#sk-container-id-1 div.sk-estimator:hover {background-color: #d4ebff;}#sk-container-id-1 div.sk-parallel-item::after {content: \"\";width: 100%;border-bottom: 1px solid gray;flex-grow: 1;}#sk-container-id-1 div.sk-label:hover label.sk-toggleable__label {background-color: #d4ebff;}#sk-container-id-1 div.sk-serial::before {content: \"\";position: absolute;border-left: 1px solid gray;box-sizing: border-box;top: 0;bottom: 0;left: 50%;z-index: 0;}#sk-container-id-1 div.sk-serial {display: flex;flex-direction: column;align-items: center;background-color: white;padding-right: 0.2em;padding-left: 0.2em;position: relative;}#sk-container-id-1 div.sk-item {position: relative;z-index: 1;}#sk-container-id-1 div.sk-parallel {display: flex;align-items: stretch;justify-content: center;background-color: white;position: relative;}#sk-container-id-1 div.sk-item::before, #sk-container-id-1 div.sk-parallel-item::before {content: \"\";position: absolute;border-left: 1px solid gray;box-sizing: border-box;top: 0;bottom: 0;left: 50%;z-index: -1;}#sk-container-id-1 div.sk-parallel-item {display: flex;flex-direction: column;z-index: 1;position: relative;background-color: white;}#sk-container-id-1 div.sk-parallel-item:first-child::after {align-self: flex-end;width: 50%;}#sk-container-id-1 div.sk-parallel-item:last-child::after {align-self: flex-start;width: 50%;}#sk-container-id-1 div.sk-parallel-item:only-child::after {width: 0;}#sk-container-id-1 div.sk-dashed-wrapped {border: 1px dashed gray;margin: 0 0.4em 0.5em 0.4em;box-sizing: border-box;padding-bottom: 0.4em;background-color: white;}#sk-container-id-1 div.sk-label label {font-family: monospace;font-weight: bold;display: inline-block;line-height: 1.2em;}#sk-container-id-1 div.sk-label-container {text-align: center;}#sk-container-id-1 div.sk-container {/* jupyter's `normalize.less` sets `[hidden] { display: none; }` but bootstrap.min.css set `[hidden] { display: none !important; }` so we also need the `!important` here to be able to override the default hidden behavior on the sphinx rendered scikit-learn.org. See: https://github.com/scikit-learn/scikit-learn/issues/21755 */display: inline-block !important;position: relative;}#sk-container-id-1 div.sk-text-repr-fallback {display: none;}</style><div id=\"sk-container-id-1\" class=\"sk-top-container\"><div class=\"sk-text-repr-fallback\"><pre>LogisticRegression(max_iter=1000, random_state=42)</pre><b>In a Jupyter environment, please rerun this cell to show the HTML representation or trust the notebook. <br />On GitHub, the HTML representation is unable to render, please try loading this page with nbviewer.org.</b></div><div class=\"sk-container\" hidden><div class=\"sk-item\"><div class=\"sk-estimator sk-toggleable\"><input class=\"sk-toggleable__control sk-hidden--visually\" id=\"sk-estimator-id-1\" type=\"checkbox\" checked><label for=\"sk-estimator-id-1\" class=\"sk-toggleable__label sk-toggleable__label-arrow\">LogisticRegression</label><div class=\"sk-toggleable__content\"><pre>LogisticRegression(max_iter=1000, random_state=42)</pre></div></div></div></div></div>"
      ],
      "text/plain": [
       "LogisticRegression(max_iter=1000, random_state=42)"
      ]
     },
     "execution_count": 12,
     "metadata": {},
     "output_type": "execute_result"
    }
   ],
   "source": [
    "clf = LogisticRegression(random_state=42, max_iter=1000)\n",
    "clf.fit(X_tr_bow, y_train)"
   ]
  },
  {
   "cell_type": "code",
   "execution_count": 13,
   "id": "6e848443",
   "metadata": {},
   "outputs": [
    {
     "name": "stdout",
     "output_type": "stream",
     "text": [
      "              precision    recall  f1-score   support\n",
      "\n",
      "author_id_00       0.71      0.68      0.70       419\n",
      "author_id_01       0.69      0.70      0.70       110\n",
      "author_id_02       0.73      0.65      0.69       906\n",
      "author_id_03       0.44      0.57      0.50       192\n",
      "author_id_04       0.60      0.60      0.60       373\n",
      "author_id_05       0.56      0.62      0.59       192\n",
      "author_id_06       0.52      0.53      0.52       308\n",
      "author_id_07       0.50      0.65      0.57        99\n",
      "author_id_08       0.31      0.54      0.40       115\n",
      "author_id_09       0.75      0.68      0.71       801\n",
      "\n",
      "    accuracy                           0.64      3515\n",
      "   macro avg       0.58      0.62      0.60      3515\n",
      "weighted avg       0.66      0.64      0.64      3515\n",
      "\n"
     ]
    }
   ],
   "source": [
    "pred = clf.predict(X_ts_bow)\n",
    "print(classification_report(pred, y_test))"
   ]
  },
  {
   "cell_type": "markdown",
   "id": "1b4be135",
   "metadata": {},
   "source": [
    "### Обучимся по схеме TF-IDF"
   ]
  },
  {
   "cell_type": "code",
   "execution_count": 14,
   "id": "48c3f857",
   "metadata": {},
   "outputs": [
    {
     "name": "stdout",
     "output_type": "stream",
     "text": [
      "              precision    recall  f1-score   support\n",
      "\n",
      "author_id_00       0.65      0.61      0.63       431\n",
      "author_id_01       0.32      0.95      0.47        37\n",
      "author_id_02       0.76      0.52      0.62      1159\n",
      "author_id_03       0.25      0.58      0.35       110\n",
      "author_id_04       0.51      0.54      0.52       353\n",
      "author_id_05       0.35      0.55      0.43       136\n",
      "author_id_06       0.42      0.48      0.45       272\n",
      "author_id_07       0.20      0.86      0.32        29\n",
      "author_id_08       0.13      0.54      0.21        48\n",
      "author_id_09       0.76      0.58      0.66       940\n",
      "\n",
      "    accuracy                           0.56      3515\n",
      "   macro avg       0.43      0.62      0.47      3515\n",
      "weighted avg       0.64      0.56      0.58      3515\n",
      "\n"
     ]
    }
   ],
   "source": [
    "vec = TfidfVectorizer(ngram_range=(2, 3))\n",
    "X_tr_tfidf = vec.fit_transform(X_tr)\n",
    "X_ts_tfidf = vec.transform(X_ts)\n",
    "\n",
    "clf = LogisticRegression(random_state=42,  max_iter=1000)\n",
    "clf.fit(X_tr_tfidf, y_train)\n",
    "pred = clf.predict(X_ts_tfidf)\n",
    "\n",
    "print(classification_report(pred, y_test))"
   ]
  },
  {
   "cell_type": "markdown",
   "id": "6b9089d8",
   "metadata": {},
   "source": [
    "### Попробуем улучшить результат сократив информацию по частям речи"
   ]
  },
  {
   "cell_type": "code",
   "execution_count": 15,
   "id": "9275d86e",
   "metadata": {},
   "outputs": [],
   "source": [
    "def prepare_text(Text_corp):\n",
    "    res = []\n",
    "    for text in Text_corp:\n",
    "        text = clean_sentence(text)\n",
    "        text = make_punkt(text)\n",
    "        text = make_grams_brief(text)\n",
    "        res.append(text)\n",
    "    return res\n",
    "\n",
    "X_trb = prepare_text(X_train)\n",
    "X_tsb = prepare_text(X_test)\n"
   ]
  },
  {
   "cell_type": "code",
   "execution_count": 16,
   "id": "6080c495",
   "metadata": {},
   "outputs": [],
   "source": [
    "myvec = CountVectorizer(ngram_range=(1, 4), \n",
    "                        stop_words=None, lowercase=False, \n",
    "                        token_pattern=r\"(?u)\\b[a-zA-Zа-яА-ЯёЁ0-9,=90|\\-]+\\b\")\n",
    "X_trb_bow  = myvec.fit_transform(X_trb)\n",
    "X_tsb_bow  = myvec.transform(X_tsb)\n",
    "#myvec.vocabulary_.items()"
   ]
  },
  {
   "cell_type": "code",
   "execution_count": 20,
   "id": "8081f310",
   "metadata": {},
   "outputs": [
    {
     "data": {
      "text/html": [
       "<style>#sk-container-id-3 {color: black;}#sk-container-id-3 pre{padding: 0;}#sk-container-id-3 div.sk-toggleable {background-color: white;}#sk-container-id-3 label.sk-toggleable__label {cursor: pointer;display: block;width: 100%;margin-bottom: 0;padding: 0.3em;box-sizing: border-box;text-align: center;}#sk-container-id-3 label.sk-toggleable__label-arrow:before {content: \"▸\";float: left;margin-right: 0.25em;color: #696969;}#sk-container-id-3 label.sk-toggleable__label-arrow:hover:before {color: black;}#sk-container-id-3 div.sk-estimator:hover label.sk-toggleable__label-arrow:before {color: black;}#sk-container-id-3 div.sk-toggleable__content {max-height: 0;max-width: 0;overflow: hidden;text-align: left;background-color: #f0f8ff;}#sk-container-id-3 div.sk-toggleable__content pre {margin: 0.2em;color: black;border-radius: 0.25em;background-color: #f0f8ff;}#sk-container-id-3 input.sk-toggleable__control:checked~div.sk-toggleable__content {max-height: 200px;max-width: 100%;overflow: auto;}#sk-container-id-3 input.sk-toggleable__control:checked~label.sk-toggleable__label-arrow:before {content: \"▾\";}#sk-container-id-3 div.sk-estimator input.sk-toggleable__control:checked~label.sk-toggleable__label {background-color: #d4ebff;}#sk-container-id-3 div.sk-label input.sk-toggleable__control:checked~label.sk-toggleable__label {background-color: #d4ebff;}#sk-container-id-3 input.sk-hidden--visually {border: 0;clip: rect(1px 1px 1px 1px);clip: rect(1px, 1px, 1px, 1px);height: 1px;margin: -1px;overflow: hidden;padding: 0;position: absolute;width: 1px;}#sk-container-id-3 div.sk-estimator {font-family: monospace;background-color: #f0f8ff;border: 1px dotted black;border-radius: 0.25em;box-sizing: border-box;margin-bottom: 0.5em;}#sk-container-id-3 div.sk-estimator:hover {background-color: #d4ebff;}#sk-container-id-3 div.sk-parallel-item::after {content: \"\";width: 100%;border-bottom: 1px solid gray;flex-grow: 1;}#sk-container-id-3 div.sk-label:hover label.sk-toggleable__label {background-color: #d4ebff;}#sk-container-id-3 div.sk-serial::before {content: \"\";position: absolute;border-left: 1px solid gray;box-sizing: border-box;top: 0;bottom: 0;left: 50%;z-index: 0;}#sk-container-id-3 div.sk-serial {display: flex;flex-direction: column;align-items: center;background-color: white;padding-right: 0.2em;padding-left: 0.2em;position: relative;}#sk-container-id-3 div.sk-item {position: relative;z-index: 1;}#sk-container-id-3 div.sk-parallel {display: flex;align-items: stretch;justify-content: center;background-color: white;position: relative;}#sk-container-id-3 div.sk-item::before, #sk-container-id-3 div.sk-parallel-item::before {content: \"\";position: absolute;border-left: 1px solid gray;box-sizing: border-box;top: 0;bottom: 0;left: 50%;z-index: -1;}#sk-container-id-3 div.sk-parallel-item {display: flex;flex-direction: column;z-index: 1;position: relative;background-color: white;}#sk-container-id-3 div.sk-parallel-item:first-child::after {align-self: flex-end;width: 50%;}#sk-container-id-3 div.sk-parallel-item:last-child::after {align-self: flex-start;width: 50%;}#sk-container-id-3 div.sk-parallel-item:only-child::after {width: 0;}#sk-container-id-3 div.sk-dashed-wrapped {border: 1px dashed gray;margin: 0 0.4em 0.5em 0.4em;box-sizing: border-box;padding-bottom: 0.4em;background-color: white;}#sk-container-id-3 div.sk-label label {font-family: monospace;font-weight: bold;display: inline-block;line-height: 1.2em;}#sk-container-id-3 div.sk-label-container {text-align: center;}#sk-container-id-3 div.sk-container {/* jupyter's `normalize.less` sets `[hidden] { display: none; }` but bootstrap.min.css set `[hidden] { display: none !important; }` so we also need the `!important` here to be able to override the default hidden behavior on the sphinx rendered scikit-learn.org. See: https://github.com/scikit-learn/scikit-learn/issues/21755 */display: inline-block !important;position: relative;}#sk-container-id-3 div.sk-text-repr-fallback {display: none;}</style><div id=\"sk-container-id-3\" class=\"sk-top-container\"><div class=\"sk-text-repr-fallback\"><pre>LogisticRegression(max_iter=1500, random_state=42)</pre><b>In a Jupyter environment, please rerun this cell to show the HTML representation or trust the notebook. <br />On GitHub, the HTML representation is unable to render, please try loading this page with nbviewer.org.</b></div><div class=\"sk-container\" hidden><div class=\"sk-item\"><div class=\"sk-estimator sk-toggleable\"><input class=\"sk-toggleable__control sk-hidden--visually\" id=\"sk-estimator-id-3\" type=\"checkbox\" checked><label for=\"sk-estimator-id-3\" class=\"sk-toggleable__label sk-toggleable__label-arrow\">LogisticRegression</label><div class=\"sk-toggleable__content\"><pre>LogisticRegression(max_iter=1500, random_state=42)</pre></div></div></div></div></div>"
      ],
      "text/plain": [
       "LogisticRegression(max_iter=1500, random_state=42)"
      ]
     },
     "execution_count": 20,
     "metadata": {},
     "output_type": "execute_result"
    }
   ],
   "source": [
    "clf = LogisticRegression(random_state=42, max_iter=1500)\n",
    "clf.fit(X_trb_bow, y_train)"
   ]
  },
  {
   "cell_type": "code",
   "execution_count": 21,
   "id": "f6911271",
   "metadata": {},
   "outputs": [
    {
     "name": "stdout",
     "output_type": "stream",
     "text": [
      "              precision    recall  f1-score   support\n",
      "\n",
      "author_id_00       0.67      0.66      0.67       408\n",
      "author_id_01       0.56      0.62      0.59       100\n",
      "author_id_02       0.70      0.63      0.66       901\n",
      "author_id_03       0.39      0.53      0.45       187\n",
      "author_id_04       0.55      0.56      0.55       367\n",
      "author_id_05       0.53      0.58      0.55       197\n",
      "author_id_06       0.54      0.52      0.53       320\n",
      "author_id_07       0.51      0.61      0.56       107\n",
      "author_id_08       0.29      0.50      0.37       115\n",
      "author_id_09       0.74      0.65      0.69       813\n",
      "\n",
      "    accuracy                           0.61      3515\n",
      "   macro avg       0.55      0.59      0.56      3515\n",
      "weighted avg       0.63      0.61      0.61      3515\n",
      "\n"
     ]
    }
   ],
   "source": [
    "pred = clf.predict(X_tsb_bow)\n",
    "print(classification_report(pred, y_test))"
   ]
  },
  {
   "cell_type": "markdown",
   "id": "6ab412d5",
   "metadata": {},
   "source": [
    "### Тоже с использованием TF-IDF"
   ]
  },
  {
   "cell_type": "code",
   "execution_count": 19,
   "id": "573e0976",
   "metadata": {},
   "outputs": [
    {
     "name": "stdout",
     "output_type": "stream",
     "text": [
      "              precision    recall  f1-score   support\n",
      "\n",
      "author_id_00       0.61      0.61      0.61       406\n",
      "author_id_01       0.41      0.87      0.55        52\n",
      "author_id_02       0.75      0.53      0.62      1132\n",
      "author_id_03       0.27      0.52      0.36       130\n",
      "author_id_04       0.50      0.51      0.50       374\n",
      "author_id_05       0.43      0.60      0.50       155\n",
      "author_id_06       0.40      0.48      0.43       256\n",
      "author_id_07       0.29      0.73      0.42        51\n",
      "author_id_08       0.17      0.51      0.25        65\n",
      "author_id_09       0.74      0.59      0.66       894\n",
      "\n",
      "    accuracy                           0.56      3515\n",
      "   macro avg       0.46      0.59      0.49      3515\n",
      "weighted avg       0.62      0.56      0.58      3515\n",
      "\n"
     ]
    }
   ],
   "source": [
    "vec = TfidfVectorizer(ngram_range=(2, 3))\n",
    "X_trb_tfidf = vec.fit_transform(X_trb)\n",
    "X_tsb_tfidf = vec.transform(X_tsb)\n",
    "\n",
    "clf = LogisticRegression(random_state=42,  max_iter=1000)\n",
    "clf.fit(X_trb_tfidf, y_train)\n",
    "pred = clf.predict(X_tsb_tfidf)\n",
    "\n",
    "print(classification_report(pred, y_test))"
   ]
  },
  {
   "cell_type": "code",
   "execution_count": null,
   "id": "1f1dce1e",
   "metadata": {},
   "outputs": [],
   "source": []
  },
  {
   "cell_type": "code",
   "execution_count": null,
   "id": "0caa57c0",
   "metadata": {},
   "outputs": [],
   "source": []
  }
 ],
 "metadata": {
  "kernelspec": {
   "display_name": "Python 3 (ipykernel)",
   "language": "python",
   "name": "python3"
  },
  "language_info": {
   "codemirror_mode": {
    "name": "ipython",
    "version": 3
   },
   "file_extension": ".py",
   "mimetype": "text/x-python",
   "name": "python",
   "nbconvert_exporter": "python",
   "pygments_lexer": "ipython3",
   "version": "3.11.5"
  }
 },
 "nbformat": 4,
 "nbformat_minor": 5
}
