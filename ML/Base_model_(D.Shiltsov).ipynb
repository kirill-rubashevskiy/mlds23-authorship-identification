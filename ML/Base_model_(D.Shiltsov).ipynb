{
 "cells": [
  {
   "cell_type": "markdown",
   "id": "a59f8ee2",
   "metadata": {},
   "source": [
    "## Простейшая модель \n",
    "\n",
    "### План\n",
    "\n",
    "- преобразовать текст в ветор частей речи (+ падеж + спряжение там где это актуально)\n",
    "- построить модель на би и триграммах\n"
   ]
  },
  {
   "cell_type": "markdown",
   "id": "6d1c328e",
   "metadata": {},
   "source": [
    "### Загрузка данных"
   ]
  },
  {
   "cell_type": "code",
   "execution_count": 7,
   "id": "4d7fd870",
   "metadata": {},
   "outputs": [],
   "source": [
    "# S3\n",
    "import boto3\n",
    "import pickle\n",
    "from io import BytesIO, StringIO\n",
    "\n",
    "import pandas as pd\n",
    "import re\n",
    "import nltk\n",
    "\n",
    "from pymystem3 import Mystem\n",
    "from sklearn.model_selection import train_test_split\n",
    "from sklearn.metrics import classification_report\n",
    "from nltk import ngrams\n",
    "from sklearn.linear_model import LogisticRegression # можно заменить на любимый классификатор\n",
    "from sklearn.feature_extraction.text import CountVectorizer, TfidfVectorizer\n"
   ]
  },
  {
   "cell_type": "code",
   "execution_count": 8,
   "id": "b4b82ee3",
   "metadata": {},
   "outputs": [],
   "source": [
    "BUCKET_NAME = \"mlds23-authorship-identification\"\n",
    "DATA_DIR = \"splitted_data/\"\n",
    "DATA_FILE_NAME = 'splitted_df.csv'\n",
    "MODELS_DIR = 'models/'\n",
    "RANDOM_STATE = 12345\n",
    "RUN_NAME = 'kr-26-11-23-exp-1'"
   ]
  },
  {
   "cell_type": "code",
   "execution_count": 15,
   "id": "2930ae27",
   "metadata": {
    "scrolled": false
   },
   "outputs": [],
   "source": [
    "session = boto3.session.Session()\n",
    "\n",
    "s3 = session.client(\n",
    "    service_name='s3',\n",
    "    endpoint_url='https://storage.yandexcloud.net',\n",
    "    aws_access_key_id='YCAJErlaldUmioGbHQSqJ70MR',\n",
    "    aws_secret_access_key='YCPSba_JgloNYSNWcnKO2CYCEB8PFR1Iwgr2jIUy',\n",
    "    region_name='ru-cental1'\n",
    ")\n",
    "\n",
    "#загружает в локальную директорию, потом отдельно надо считывать\n",
    "#s3.download_file(Filename=\"data/\" + FILENAME, Bucket=BUCKET_NAME, Key=BUCKET_DIR + FILENAME)\n",
    "#csv_obj = s3.get_object(Bucket=BUCKET_NAME, Key=DATA_DIR + DATA_FILE_NAME)\n",
    "#data = pd.read_csv(StringIO(csv_obj['Body'].read().decode('utf-8')))\n",
    "\n",
    "#data.to_csv('./tmp_data/splitted_df.csv')\n",
    "\n",
    "df = pd.read_csv('./tmp_data/splitted_df.csv')"
   ]
  },
  {
   "cell_type": "code",
   "execution_count": 17,
   "id": "b06c976a",
   "metadata": {},
   "outputs": [],
   "source": []
  },
  {
   "cell_type": "code",
   "execution_count": 16,
   "id": "331692c2",
   "metadata": {},
   "outputs": [
    {
     "name": "stdout",
     "output_type": "stream",
     "text": [
      "(11715, 4)\n"
     ]
    },
    {
     "data": {
      "text/html": [
       "<div>\n",
       "<style scoped>\n",
       "    .dataframe tbody tr th:only-of-type {\n",
       "        vertical-align: middle;\n",
       "    }\n",
       "\n",
       "    .dataframe tbody tr th {\n",
       "        vertical-align: top;\n",
       "    }\n",
       "\n",
       "    .dataframe thead th {\n",
       "        text-align: right;\n",
       "    }\n",
       "</style>\n",
       "<table border=\"1\" class=\"dataframe\">\n",
       "  <thead>\n",
       "    <tr style=\"text-align: right;\">\n",
       "      <th></th>\n",
       "      <th>Unnamed: 0</th>\n",
       "      <th>target</th>\n",
       "      <th>text</th>\n",
       "      <th>book</th>\n",
       "    </tr>\n",
       "  </thead>\n",
       "  <tbody>\n",
       "    <tr>\n",
       "      <th>0</th>\n",
       "      <td>0</td>\n",
       "      <td>author_id_06</td>\n",
       "      <td>Узкими горными тропинками , от одного дачного ...</td>\n",
       "      <td>raw_data/aleksandr_kuprin_belyj_pudel'.txt</td>\n",
       "    </tr>\n",
       "    <tr>\n",
       "      <th>1</th>\n",
       "      <td>1</td>\n",
       "      <td>author_id_06</td>\n",
       "      <td>свернутый ковер для акробатических упражнений ...</td>\n",
       "      <td>raw_data/aleksandr_kuprin_belyj_pudel'.txt</td>\n",
       "    </tr>\n",
       "    <tr>\n",
       "      <th>2</th>\n",
       "      <td>2</td>\n",
       "      <td>author_id_06</td>\n",
       "      <td>позабытые . Кроме того , были в шарманке две п...</td>\n",
       "      <td>raw_data/aleksandr_kuprin_belyj_pudel'.txt</td>\n",
       "    </tr>\n",
       "    <tr>\n",
       "      <th>3</th>\n",
       "      <td>3</td>\n",
       "      <td>author_id_06</td>\n",
       "      <td>тайной грусти : — Что поделаешь ? .. Древний о...</td>\n",
       "      <td>raw_data/aleksandr_kuprin_belyj_pudel'.txt</td>\n",
       "    </tr>\n",
       "    <tr>\n",
       "      <th>4</th>\n",
       "      <td>4</td>\n",
       "      <td>author_id_06</td>\n",
       "      <td>, да уж ладно ! Кормила она нас с тобой , Серг...</td>\n",
       "      <td>raw_data/aleksandr_kuprin_belyj_pudel'.txt</td>\n",
       "    </tr>\n",
       "  </tbody>\n",
       "</table>\n",
       "</div>"
      ],
      "text/plain": [
       "   Unnamed: 0        target  \\\n",
       "0           0  author_id_06   \n",
       "1           1  author_id_06   \n",
       "2           2  author_id_06   \n",
       "3           3  author_id_06   \n",
       "4           4  author_id_06   \n",
       "\n",
       "                                                text  \\\n",
       "0  Узкими горными тропинками , от одного дачного ...   \n",
       "1  свернутый ковер для акробатических упражнений ...   \n",
       "2  позабытые . Кроме того , были в шарманке две п...   \n",
       "3  тайной грусти : — Что поделаешь ? .. Древний о...   \n",
       "4  , да уж ладно ! Кормила она нас с тобой , Серг...   \n",
       "\n",
       "                                         book  \n",
       "0  raw_data/aleksandr_kuprin_belyj_pudel'.txt  \n",
       "1  raw_data/aleksandr_kuprin_belyj_pudel'.txt  \n",
       "2  raw_data/aleksandr_kuprin_belyj_pudel'.txt  \n",
       "3  raw_data/aleksandr_kuprin_belyj_pudel'.txt  \n",
       "4  raw_data/aleksandr_kuprin_belyj_pudel'.txt  "
      ]
     },
     "execution_count": 16,
     "metadata": {},
     "output_type": "execute_result"
    }
   ],
   "source": [
    "df = pd.read_csv('./tmp_data/splitted_df.csv')\n",
    "print(df.shape)\n",
    "df.head()"
   ]
  },
  {
   "cell_type": "code",
   "execution_count": 18,
   "id": "96130288",
   "metadata": {},
   "outputs": [],
   "source": [
    "# сохранение признаков и целевого признака в отдельные переменные\n",
    "X = data['text']\n",
    "y = data['target'].map(lambda x: int(x[-2:]))"
   ]
  },
  {
   "cell_type": "code",
   "execution_count": 19,
   "id": "c79f69f5",
   "metadata": {},
   "outputs": [],
   "source": [
    "X_train, X_test, y_train, y_test = train_test_split(df['text'], df['target'], test_size=.3, random_state=42)\n"
   ]
  },
  {
   "cell_type": "markdown",
   "id": "40489716",
   "metadata": {},
   "source": [
    "## Кодирование признаков\n",
    "\n",
    "- исходим из предположения что знаки препинания являются важными признаками, поэтому закодируем некоторые из них в слова\n",
    "- закодируем слова как часть речи, для частей речи имеющих падеж добавим падеж (сущ, прил, местоимение), для частей речи имеющих спряжение добавим спряжение. Формат - ЧАСТЬРЕЧИ_ПАДЕЖ "
   ]
  },
  {
   "cell_type": "code",
   "execution_count": 20,
   "id": "8698cc25",
   "metadata": {},
   "outputs": [
    {
     "data": {
      "text/plain": [
       "\"как-то - 'рано' ''? пела: лЕСОМ,  нифига(она) не ела\""
      ]
     },
     "execution_count": 20,
     "metadata": {},
     "output_type": "execute_result"
    }
   ],
   "source": [
    "def clean_sentence(sentence):\n",
    "    sentence = re.sub(r\"[^а-яА-ЯёЁ \\-\\\"!'(),.:;?]\", '', sentence) \n",
    "    return sentence\n",
    "\n",
    "# тест\n",
    "clean_sentence(\"как-то - 'рано' 'Marta'? пела: лЕСОМ, * &нифига(она) не ела\")"
   ]
  },
  {
   "cell_type": "code",
   "execution_count": 21,
   "id": "2f99f34e",
   "metadata": {},
   "outputs": [
    {
     "data": {
      "text/plain": [
       "\"как-то DASH 'рано' 'Marta' QST  пела COLON  лЕСОМ COMMA  * &нифига(она) не ела\""
      ]
     },
     "execution_count": 21,
     "metadata": {},
     "output_type": "execute_result"
    }
   ],
   "source": [
    "def make_punkt(sentence):\n",
    "    repl = [('.',' POINT '), (',',' COMMA '), ('?',' QST '), ('!',' EXCL '), \n",
    "            (':',' COLON '), (';',' SEMICOL '), (',',' DASH '),]\n",
    "    for p, r in repl:\n",
    "        sentence = sentence.replace(p,r)\n",
    "    sentence = re.sub(r\"\\s?-\\s|\\s-\\s?\", ' DASH ', sentence) # не трогать тире в слове (как-то)\n",
    "        \n",
    "    return sentence\n",
    "        \n",
    "# тест    \n",
    "make_punkt(\"как-то - 'рано' 'Marta'? пела: лЕСОМ, * &нифига(она) не ела\")    "
   ]
  },
  {
   "cell_type": "code",
   "execution_count": 22,
   "id": "a31f1071",
   "metadata": {},
   "outputs": [
    {
     "data": {
      "text/plain": [
       "'CONJ= POINT S,муж,неод=дат,ед CONJ= CONJ= A=(дат,мн,полн|твор,ед,полн,муж|твор,ед,полн,сред) S,муж,неод=твор,ед'"
      ]
     },
     "execution_count": 22,
     "metadata": {},
     "output_type": "execute_result"
    }
   ],
   "source": [
    "mystem_analyzer = Mystem()\n",
    "\n",
    "def make_grams(sentence):\n",
    "    morph = mystem_analyzer.analyze(sentence)\n",
    "    \n",
    "    ret = []\n",
    "    for lex in morph:\n",
    "        if lex['text'] in ['POINT', 'COMMA', 'QST', 'EXCL', 'COLON', 'SEMICOL', 'DASH']:\n",
    "            ret.append(lex['text'])\n",
    "            continue\n",
    "        \n",
    "        try:\n",
    "            if 'analysis' in lex.keys() and 'gr' in lex['analysis'][0].keys():\n",
    "                ret.append(lex['analysis'][0]['gr'])\n",
    "        except:\n",
    "            # встретил что-то непотребное в стиле ру-ру-ру\n",
    "            pass\n",
    "    return ' '.join(ret)\n",
    "\n",
    "# тест\n",
    "make_grams(\"и POINT столу но и тёплым снегом\")"
   ]
  },
  {
   "cell_type": "code",
   "execution_count": 23,
   "id": "9e065e19",
   "metadata": {},
   "outputs": [
    {
     "data": {
      "text/plain": [
       "'CONJ POINT S,муж,неод CONJ CONJ A S,муж,неод'"
      ]
     },
     "execution_count": 23,
     "metadata": {},
     "output_type": "execute_result"
    }
   ],
   "source": [
    "def make_grams_brief(sentence):\n",
    "    morph = mystem_analyzer.analyze(sentence)\n",
    "    \n",
    "    ret = []\n",
    "    for lex in morph:\n",
    "        if lex['text'] in ['POINT', 'COMMA', 'QST', 'EXCL', 'COLON', 'SEMICOL', 'DASH']:\n",
    "            ret.append(lex['text'])\n",
    "            continue\n",
    "        \n",
    "        try:\n",
    "            if 'analysis' in lex.keys() and 'gr' in lex['analysis'][0].keys():\n",
    "                ret.append(lex['analysis'][0]['gr'].split('=')[0])\n",
    "        except:\n",
    "            # встретил что-то непотребное в стиле ру-ру-ру\n",
    "            pass\n",
    "    return ' '.join(ret)\n",
    "\n",
    "# тест\n",
    "make_grams_brief(\"и POINT столу но и тёплым снегом\")"
   ]
  },
  {
   "cell_type": "code",
   "execution_count": 24,
   "id": "8e5c188e",
   "metadata": {
    "scrolled": false
   },
   "outputs": [],
   "source": [
    "def prepare_text(Text_corp):\n",
    "    res = []\n",
    "    for text in Text_corp:\n",
    "        text = clean_sentence(text)\n",
    "        text = make_punkt(text)\n",
    "        text = make_grams(text)\n",
    "        res.append(text)\n",
    "    return res\n",
    "\n",
    "X_tr = prepare_text(X_train)\n",
    "X_ts = prepare_text(X_test)\n"
   ]
  },
  {
   "cell_type": "code",
   "execution_count": 25,
   "id": "6645c88d",
   "metadata": {
    "scrolled": false
   },
   "outputs": [
    {
     "data": {
      "text/plain": [
       "list"
      ]
     },
     "execution_count": 25,
     "metadata": {},
     "output_type": "execute_result"
    }
   ],
   "source": [
    "type(X_tr)"
   ]
  },
  {
   "cell_type": "markdown",
   "id": "a5f6ad57",
   "metadata": {},
   "source": [
    "## Подготовка BOW и обучение простейшей линейной модели\n",
    "\n"
   ]
  },
  {
   "cell_type": "code",
   "execution_count": 26,
   "id": "0de64f46",
   "metadata": {
    "scrolled": false
   },
   "outputs": [],
   "source": [
    "myvec = CountVectorizer(ngram_range=(1, 3), \n",
    "                        stop_words=None, lowercase=False, \n",
    "                        token_pattern=r\"(?u)\\b[a-zA-Zа-яА-ЯёЁ0-9,=90|\\-]+\\b\")\n",
    "X_tr_bow  = myvec.fit_transform(X_tr)\n",
    "X_ts_bow  = myvec.transform(X_ts)\n",
    "#myvec.vocabulary_.items()"
   ]
  },
  {
   "cell_type": "code",
   "execution_count": 27,
   "id": "60378955",
   "metadata": {},
   "outputs": [
    {
     "data": {
      "text/html": [
       "<style>#sk-container-id-1 {\n",
       "  /* Definition of color scheme common for light and dark mode */\n",
       "  --sklearn-color-text: black;\n",
       "  --sklearn-color-line: gray;\n",
       "  /* Definition of color scheme for unfitted estimators */\n",
       "  --sklearn-color-unfitted-level-0: #fff5e6;\n",
       "  --sklearn-color-unfitted-level-1: #f6e4d2;\n",
       "  --sklearn-color-unfitted-level-2: #ffe0b3;\n",
       "  --sklearn-color-unfitted-level-3: chocolate;\n",
       "  /* Definition of color scheme for fitted estimators */\n",
       "  --sklearn-color-fitted-level-0: #f0f8ff;\n",
       "  --sklearn-color-fitted-level-1: #d4ebff;\n",
       "  --sklearn-color-fitted-level-2: #b3dbfd;\n",
       "  --sklearn-color-fitted-level-3: cornflowerblue;\n",
       "\n",
       "  /* Specific color for light theme */\n",
       "  --sklearn-color-text-on-default-background: var(--sg-text-color, var(--theme-code-foreground, var(--jp-content-font-color1, black)));\n",
       "  --sklearn-color-background: var(--sg-background-color, var(--theme-background, var(--jp-layout-color0, white)));\n",
       "  --sklearn-color-border-box: var(--sg-text-color, var(--theme-code-foreground, var(--jp-content-font-color1, black)));\n",
       "  --sklearn-color-icon: #696969;\n",
       "\n",
       "  @media (prefers-color-scheme: dark) {\n",
       "    /* Redefinition of color scheme for dark theme */\n",
       "    --sklearn-color-text-on-default-background: var(--sg-text-color, var(--theme-code-foreground, var(--jp-content-font-color1, white)));\n",
       "    --sklearn-color-background: var(--sg-background-color, var(--theme-background, var(--jp-layout-color0, #111)));\n",
       "    --sklearn-color-border-box: var(--sg-text-color, var(--theme-code-foreground, var(--jp-content-font-color1, white)));\n",
       "    --sklearn-color-icon: #878787;\n",
       "  }\n",
       "}\n",
       "\n",
       "#sk-container-id-1 {\n",
       "  color: var(--sklearn-color-text);\n",
       "}\n",
       "\n",
       "#sk-container-id-1 pre {\n",
       "  padding: 0;\n",
       "}\n",
       "\n",
       "#sk-container-id-1 input.sk-hidden--visually {\n",
       "  border: 0;\n",
       "  clip: rect(1px 1px 1px 1px);\n",
       "  clip: rect(1px, 1px, 1px, 1px);\n",
       "  height: 1px;\n",
       "  margin: -1px;\n",
       "  overflow: hidden;\n",
       "  padding: 0;\n",
       "  position: absolute;\n",
       "  width: 1px;\n",
       "}\n",
       "\n",
       "#sk-container-id-1 div.sk-dashed-wrapped {\n",
       "  border: 1px dashed var(--sklearn-color-line);\n",
       "  margin: 0 0.4em 0.5em 0.4em;\n",
       "  box-sizing: border-box;\n",
       "  padding-bottom: 0.4em;\n",
       "  background-color: var(--sklearn-color-background);\n",
       "}\n",
       "\n",
       "#sk-container-id-1 div.sk-container {\n",
       "  /* jupyter's `normalize.less` sets `[hidden] { display: none; }`\n",
       "     but bootstrap.min.css set `[hidden] { display: none !important; }`\n",
       "     so we also need the `!important` here to be able to override the\n",
       "     default hidden behavior on the sphinx rendered scikit-learn.org.\n",
       "     See: https://github.com/scikit-learn/scikit-learn/issues/21755 */\n",
       "  display: inline-block !important;\n",
       "  position: relative;\n",
       "}\n",
       "\n",
       "#sk-container-id-1 div.sk-text-repr-fallback {\n",
       "  display: none;\n",
       "}\n",
       "\n",
       "div.sk-parallel-item,\n",
       "div.sk-serial,\n",
       "div.sk-item {\n",
       "  /* draw centered vertical line to link estimators */\n",
       "  background-image: linear-gradient(var(--sklearn-color-text-on-default-background), var(--sklearn-color-text-on-default-background));\n",
       "  background-size: 2px 100%;\n",
       "  background-repeat: no-repeat;\n",
       "  background-position: center center;\n",
       "}\n",
       "\n",
       "/* Parallel-specific style estimator block */\n",
       "\n",
       "#sk-container-id-1 div.sk-parallel-item::after {\n",
       "  content: \"\";\n",
       "  width: 100%;\n",
       "  border-bottom: 2px solid var(--sklearn-color-text-on-default-background);\n",
       "  flex-grow: 1;\n",
       "}\n",
       "\n",
       "#sk-container-id-1 div.sk-parallel {\n",
       "  display: flex;\n",
       "  align-items: stretch;\n",
       "  justify-content: center;\n",
       "  background-color: var(--sklearn-color-background);\n",
       "  position: relative;\n",
       "}\n",
       "\n",
       "#sk-container-id-1 div.sk-parallel-item {\n",
       "  display: flex;\n",
       "  flex-direction: column;\n",
       "}\n",
       "\n",
       "#sk-container-id-1 div.sk-parallel-item:first-child::after {\n",
       "  align-self: flex-end;\n",
       "  width: 50%;\n",
       "}\n",
       "\n",
       "#sk-container-id-1 div.sk-parallel-item:last-child::after {\n",
       "  align-self: flex-start;\n",
       "  width: 50%;\n",
       "}\n",
       "\n",
       "#sk-container-id-1 div.sk-parallel-item:only-child::after {\n",
       "  width: 0;\n",
       "}\n",
       "\n",
       "/* Serial-specific style estimator block */\n",
       "\n",
       "#sk-container-id-1 div.sk-serial {\n",
       "  display: flex;\n",
       "  flex-direction: column;\n",
       "  align-items: center;\n",
       "  background-color: var(--sklearn-color-background);\n",
       "  padding-right: 1em;\n",
       "  padding-left: 1em;\n",
       "}\n",
       "\n",
       "\n",
       "/* Toggleable style: style used for estimator/Pipeline/ColumnTransformer box that is\n",
       "clickable and can be expanded/collapsed.\n",
       "- Pipeline and ColumnTransformer use this feature and define the default style\n",
       "- Estimators will overwrite some part of the style using the `sk-estimator` class\n",
       "*/\n",
       "\n",
       "/* Pipeline and ColumnTransformer style (default) */\n",
       "\n",
       "#sk-container-id-1 div.sk-toggleable {\n",
       "  /* Default theme specific background. It is overwritten whether we have a\n",
       "  specific estimator or a Pipeline/ColumnTransformer */\n",
       "  background-color: var(--sklearn-color-background);\n",
       "}\n",
       "\n",
       "/* Toggleable label */\n",
       "#sk-container-id-1 label.sk-toggleable__label {\n",
       "  cursor: pointer;\n",
       "  display: block;\n",
       "  width: 100%;\n",
       "  margin-bottom: 0;\n",
       "  padding: 0.5em;\n",
       "  box-sizing: border-box;\n",
       "  text-align: center;\n",
       "}\n",
       "\n",
       "#sk-container-id-1 label.sk-toggleable__label-arrow:before {\n",
       "  /* Arrow on the left of the label */\n",
       "  content: \"▸\";\n",
       "  float: left;\n",
       "  margin-right: 0.25em;\n",
       "  color: var(--sklearn-color-icon);\n",
       "}\n",
       "\n",
       "#sk-container-id-1 label.sk-toggleable__label-arrow:hover:before {\n",
       "  color: var(--sklearn-color-text);\n",
       "}\n",
       "\n",
       "/* Toggleable content - dropdown */\n",
       "\n",
       "#sk-container-id-1 div.sk-toggleable__content {\n",
       "  max-height: 0;\n",
       "  max-width: 0;\n",
       "  overflow: hidden;\n",
       "  text-align: left;\n",
       "  /* unfitted */\n",
       "  background-color: var(--sklearn-color-unfitted-level-0);\n",
       "}\n",
       "\n",
       "#sk-container-id-1 div.sk-toggleable__content.fitted {\n",
       "  /* fitted */\n",
       "  background-color: var(--sklearn-color-fitted-level-0);\n",
       "}\n",
       "\n",
       "#sk-container-id-1 div.sk-toggleable__content pre {\n",
       "  margin: 0.2em;\n",
       "  border-radius: 0.25em;\n",
       "  color: var(--sklearn-color-text);\n",
       "  /* unfitted */\n",
       "  background-color: var(--sklearn-color-unfitted-level-0);\n",
       "}\n",
       "\n",
       "#sk-container-id-1 div.sk-toggleable__content.fitted pre {\n",
       "  /* unfitted */\n",
       "  background-color: var(--sklearn-color-fitted-level-0);\n",
       "}\n",
       "\n",
       "#sk-container-id-1 input.sk-toggleable__control:checked~div.sk-toggleable__content {\n",
       "  /* Expand drop-down */\n",
       "  max-height: 200px;\n",
       "  max-width: 100%;\n",
       "  overflow: auto;\n",
       "}\n",
       "\n",
       "#sk-container-id-1 input.sk-toggleable__control:checked~label.sk-toggleable__label-arrow:before {\n",
       "  content: \"▾\";\n",
       "}\n",
       "\n",
       "/* Pipeline/ColumnTransformer-specific style */\n",
       "\n",
       "#sk-container-id-1 div.sk-label input.sk-toggleable__control:checked~label.sk-toggleable__label {\n",
       "  color: var(--sklearn-color-text);\n",
       "  background-color: var(--sklearn-color-unfitted-level-2);\n",
       "}\n",
       "\n",
       "#sk-container-id-1 div.sk-label.fitted input.sk-toggleable__control:checked~label.sk-toggleable__label {\n",
       "  background-color: var(--sklearn-color-fitted-level-2);\n",
       "}\n",
       "\n",
       "/* Estimator-specific style */\n",
       "\n",
       "/* Colorize estimator box */\n",
       "#sk-container-id-1 div.sk-estimator input.sk-toggleable__control:checked~label.sk-toggleable__label {\n",
       "  /* unfitted */\n",
       "  background-color: var(--sklearn-color-unfitted-level-2);\n",
       "}\n",
       "\n",
       "#sk-container-id-1 div.sk-estimator.fitted input.sk-toggleable__control:checked~label.sk-toggleable__label {\n",
       "  /* fitted */\n",
       "  background-color: var(--sklearn-color-fitted-level-2);\n",
       "}\n",
       "\n",
       "#sk-container-id-1 div.sk-label label.sk-toggleable__label,\n",
       "#sk-container-id-1 div.sk-label label {\n",
       "  /* The background is the default theme color */\n",
       "  color: var(--sklearn-color-text-on-default-background);\n",
       "}\n",
       "\n",
       "/* On hover, darken the color of the background */\n",
       "#sk-container-id-1 div.sk-label:hover label.sk-toggleable__label {\n",
       "  color: var(--sklearn-color-text);\n",
       "  background-color: var(--sklearn-color-unfitted-level-2);\n",
       "}\n",
       "\n",
       "/* Label box, darken color on hover, fitted */\n",
       "#sk-container-id-1 div.sk-label.fitted:hover label.sk-toggleable__label.fitted {\n",
       "  color: var(--sklearn-color-text);\n",
       "  background-color: var(--sklearn-color-fitted-level-2);\n",
       "}\n",
       "\n",
       "/* Estimator label */\n",
       "\n",
       "#sk-container-id-1 div.sk-label label {\n",
       "  font-family: monospace;\n",
       "  font-weight: bold;\n",
       "  display: inline-block;\n",
       "  line-height: 1.2em;\n",
       "}\n",
       "\n",
       "#sk-container-id-1 div.sk-label-container {\n",
       "  text-align: center;\n",
       "}\n",
       "\n",
       "/* Estimator-specific */\n",
       "#sk-container-id-1 div.sk-estimator {\n",
       "  font-family: monospace;\n",
       "  border: 1px dotted var(--sklearn-color-border-box);\n",
       "  border-radius: 0.25em;\n",
       "  box-sizing: border-box;\n",
       "  margin-bottom: 0.5em;\n",
       "  /* unfitted */\n",
       "  background-color: var(--sklearn-color-unfitted-level-0);\n",
       "}\n",
       "\n",
       "#sk-container-id-1 div.sk-estimator.fitted {\n",
       "  /* fitted */\n",
       "  background-color: var(--sklearn-color-fitted-level-0);\n",
       "}\n",
       "\n",
       "/* on hover */\n",
       "#sk-container-id-1 div.sk-estimator:hover {\n",
       "  /* unfitted */\n",
       "  background-color: var(--sklearn-color-unfitted-level-2);\n",
       "}\n",
       "\n",
       "#sk-container-id-1 div.sk-estimator.fitted:hover {\n",
       "  /* fitted */\n",
       "  background-color: var(--sklearn-color-fitted-level-2);\n",
       "}\n",
       "\n",
       "/* Specification for estimator info (e.g. \"i\" and \"?\") */\n",
       "\n",
       "/* Common style for \"i\" and \"?\" */\n",
       "\n",
       ".sk-estimator-doc-link,\n",
       "a:link.sk-estimator-doc-link,\n",
       "a:visited.sk-estimator-doc-link {\n",
       "  float: right;\n",
       "  font-size: smaller;\n",
       "  line-height: 1em;\n",
       "  font-family: monospace;\n",
       "  background-color: var(--sklearn-color-background);\n",
       "  border-radius: 1em;\n",
       "  height: 1em;\n",
       "  width: 1em;\n",
       "  text-decoration: none !important;\n",
       "  margin-left: 1ex;\n",
       "  /* unfitted */\n",
       "  border: var(--sklearn-color-unfitted-level-1) 1pt solid;\n",
       "  color: var(--sklearn-color-unfitted-level-1);\n",
       "}\n",
       "\n",
       ".sk-estimator-doc-link.fitted,\n",
       "a:link.sk-estimator-doc-link.fitted,\n",
       "a:visited.sk-estimator-doc-link.fitted {\n",
       "  /* fitted */\n",
       "  border: var(--sklearn-color-fitted-level-1) 1pt solid;\n",
       "  color: var(--sklearn-color-fitted-level-1);\n",
       "}\n",
       "\n",
       "/* On hover */\n",
       "div.sk-estimator:hover .sk-estimator-doc-link:hover,\n",
       ".sk-estimator-doc-link:hover,\n",
       "div.sk-label-container:hover .sk-estimator-doc-link:hover,\n",
       ".sk-estimator-doc-link:hover {\n",
       "  /* unfitted */\n",
       "  background-color: var(--sklearn-color-unfitted-level-3);\n",
       "  color: var(--sklearn-color-background);\n",
       "  text-decoration: none;\n",
       "}\n",
       "\n",
       "div.sk-estimator.fitted:hover .sk-estimator-doc-link.fitted:hover,\n",
       ".sk-estimator-doc-link.fitted:hover,\n",
       "div.sk-label-container:hover .sk-estimator-doc-link.fitted:hover,\n",
       ".sk-estimator-doc-link.fitted:hover {\n",
       "  /* fitted */\n",
       "  background-color: var(--sklearn-color-fitted-level-3);\n",
       "  color: var(--sklearn-color-background);\n",
       "  text-decoration: none;\n",
       "}\n",
       "\n",
       "/* Span, style for the box shown on hovering the info icon */\n",
       ".sk-estimator-doc-link span {\n",
       "  display: none;\n",
       "  z-index: 9999;\n",
       "  position: relative;\n",
       "  font-weight: normal;\n",
       "  right: .2ex;\n",
       "  padding: .5ex;\n",
       "  margin: .5ex;\n",
       "  width: min-content;\n",
       "  min-width: 20ex;\n",
       "  max-width: 50ex;\n",
       "  color: var(--sklearn-color-text);\n",
       "  box-shadow: 2pt 2pt 4pt #999;\n",
       "  /* unfitted */\n",
       "  background: var(--sklearn-color-unfitted-level-0);\n",
       "  border: .5pt solid var(--sklearn-color-unfitted-level-3);\n",
       "}\n",
       "\n",
       ".sk-estimator-doc-link.fitted span {\n",
       "  /* fitted */\n",
       "  background: var(--sklearn-color-fitted-level-0);\n",
       "  border: var(--sklearn-color-fitted-level-3);\n",
       "}\n",
       "\n",
       ".sk-estimator-doc-link:hover span {\n",
       "  display: block;\n",
       "}\n",
       "\n",
       "/* \"?\"-specific style due to the `<a>` HTML tag */\n",
       "\n",
       "#sk-container-id-1 a.estimator_doc_link {\n",
       "  float: right;\n",
       "  font-size: 1rem;\n",
       "  line-height: 1em;\n",
       "  font-family: monospace;\n",
       "  background-color: var(--sklearn-color-background);\n",
       "  border-radius: 1rem;\n",
       "  height: 1rem;\n",
       "  width: 1rem;\n",
       "  text-decoration: none;\n",
       "  /* unfitted */\n",
       "  color: var(--sklearn-color-unfitted-level-1);\n",
       "  border: var(--sklearn-color-unfitted-level-1) 1pt solid;\n",
       "}\n",
       "\n",
       "#sk-container-id-1 a.estimator_doc_link.fitted {\n",
       "  /* fitted */\n",
       "  border: var(--sklearn-color-fitted-level-1) 1pt solid;\n",
       "  color: var(--sklearn-color-fitted-level-1);\n",
       "}\n",
       "\n",
       "/* On hover */\n",
       "#sk-container-id-1 a.estimator_doc_link:hover {\n",
       "  /* unfitted */\n",
       "  background-color: var(--sklearn-color-unfitted-level-3);\n",
       "  color: var(--sklearn-color-background);\n",
       "  text-decoration: none;\n",
       "}\n",
       "\n",
       "#sk-container-id-1 a.estimator_doc_link.fitted:hover {\n",
       "  /* fitted */\n",
       "  background-color: var(--sklearn-color-fitted-level-3);\n",
       "}\n",
       "</style><div id=\"sk-container-id-1\" class=\"sk-top-container\"><div class=\"sk-text-repr-fallback\"><pre>LogisticRegression(max_iter=1000, random_state=42)</pre><b>In a Jupyter environment, please rerun this cell to show the HTML representation or trust the notebook. <br />On GitHub, the HTML representation is unable to render, please try loading this page with nbviewer.org.</b></div><div class=\"sk-container\" hidden><div class=\"sk-item\"><div class=\"sk-estimator fitted sk-toggleable\"><input class=\"sk-toggleable__control sk-hidden--visually\" id=\"sk-estimator-id-1\" type=\"checkbox\" checked><label for=\"sk-estimator-id-1\" class=\"sk-toggleable__label fitted sk-toggleable__label-arrow fitted\">&nbsp;&nbsp;LogisticRegression<a class=\"sk-estimator-doc-link fitted\" rel=\"noreferrer\" target=\"_blank\" href=\"https://scikit-learn.org/1.4/modules/generated/sklearn.linear_model.LogisticRegression.html\">?<span>Documentation for LogisticRegression</span></a><span class=\"sk-estimator-doc-link fitted\">i<span>Fitted</span></span></label><div class=\"sk-toggleable__content fitted\"><pre>LogisticRegression(max_iter=1000, random_state=42)</pre></div> </div></div></div></div>"
      ],
      "text/plain": [
       "LogisticRegression(max_iter=1000, random_state=42)"
      ]
     },
     "execution_count": 27,
     "metadata": {},
     "output_type": "execute_result"
    }
   ],
   "source": [
    "clf = LogisticRegression(random_state=42, max_iter=1000)\n",
    "clf.fit(X_tr_bow, y_train)"
   ]
  },
  {
   "cell_type": "code",
   "execution_count": 28,
   "id": "6e848443",
   "metadata": {},
   "outputs": [
    {
     "name": "stdout",
     "output_type": "stream",
     "text": [
      "              precision    recall  f1-score   support\n",
      "\n",
      "author_id_00       0.71      0.68      0.70       417\n",
      "author_id_01       0.70      0.70      0.70       111\n",
      "author_id_02       0.74      0.65      0.69       910\n",
      "author_id_03       0.44      0.58      0.50       190\n",
      "author_id_04       0.60      0.60      0.60       374\n",
      "author_id_05       0.57      0.63      0.59       193\n",
      "author_id_06       0.52      0.53      0.52       305\n",
      "author_id_07       0.50      0.65      0.57        98\n",
      "author_id_08       0.31      0.54      0.40       114\n",
      "author_id_09       0.76      0.68      0.72       803\n",
      "\n",
      "    accuracy                           0.64      3515\n",
      "   macro avg       0.59      0.63      0.60      3515\n",
      "weighted avg       0.66      0.64      0.65      3515\n",
      "\n"
     ]
    }
   ],
   "source": [
    "pred = clf.predict(X_ts_bow)\n",
    "print(classification_report(pred, y_test))"
   ]
  },
  {
   "cell_type": "markdown",
   "id": "1b4be135",
   "metadata": {},
   "source": [
    "### Обучимся по схеме TF-IDF"
   ]
  },
  {
   "cell_type": "code",
   "execution_count": 29,
   "id": "48c3f857",
   "metadata": {},
   "outputs": [
    {
     "name": "stdout",
     "output_type": "stream",
     "text": [
      "              precision    recall  f1-score   support\n",
      "\n",
      "author_id_00       0.65      0.61      0.63       430\n",
      "author_id_01       0.30      0.94      0.45        35\n",
      "author_id_02       0.76      0.52      0.62      1161\n",
      "author_id_03       0.25      0.58      0.35       110\n",
      "author_id_04       0.51      0.54      0.52       353\n",
      "author_id_05       0.35      0.56      0.43       135\n",
      "author_id_06       0.42      0.48      0.45       274\n",
      "author_id_07       0.20      0.86      0.32        29\n",
      "author_id_08       0.13      0.54      0.21        48\n",
      "author_id_09       0.76      0.58      0.66       940\n",
      "\n",
      "    accuracy                           0.56      3515\n",
      "   macro avg       0.43      0.62      0.46      3515\n",
      "weighted avg       0.64      0.56      0.58      3515\n",
      "\n"
     ]
    }
   ],
   "source": [
    "vec = TfidfVectorizer(ngram_range=(2, 3))\n",
    "X_tr_tfidf = vec.fit_transform(X_tr)\n",
    "X_ts_tfidf = vec.transform(X_ts)\n",
    "\n",
    "clf = LogisticRegression(random_state=42,  max_iter=1000)\n",
    "clf.fit(X_tr_tfidf, y_train)\n",
    "pred = clf.predict(X_ts_tfidf)\n",
    "\n",
    "print(classification_report(pred, y_test))"
   ]
  },
  {
   "cell_type": "markdown",
   "id": "6b9089d8",
   "metadata": {},
   "source": [
    "### Попробуем улучшить результат сократив информацию по частям речи"
   ]
  },
  {
   "cell_type": "code",
   "execution_count": 15,
   "id": "9275d86e",
   "metadata": {},
   "outputs": [],
   "source": [
    "def prepare_text(Text_corp):\n",
    "    res = []\n",
    "    for text in Text_corp:\n",
    "        text = clean_sentence(text)\n",
    "        text = make_punkt(text)\n",
    "        text = make_grams_brief(text)\n",
    "        res.append(text)\n",
    "    return res\n",
    "\n",
    "X_trb = prepare_text(X_train)\n",
    "X_tsb = prepare_text(X_test)\n"
   ]
  },
  {
   "cell_type": "code",
   "execution_count": 16,
   "id": "6080c495",
   "metadata": {},
   "outputs": [],
   "source": [
    "myvec = CountVectorizer(ngram_range=(1, 4), \n",
    "                        stop_words=None, lowercase=False, \n",
    "                        token_pattern=r\"(?u)\\b[a-zA-Zа-яА-ЯёЁ0-9,=90|\\-]+\\b\")\n",
    "X_trb_bow  = myvec.fit_transform(X_trb)\n",
    "X_tsb_bow  = myvec.transform(X_tsb)\n",
    "#myvec.vocabulary_.items()"
   ]
  },
  {
   "cell_type": "code",
   "execution_count": 20,
   "id": "8081f310",
   "metadata": {},
   "outputs": [
    {
     "data": {
      "text/html": [
       "<style>#sk-container-id-3 {color: black;}#sk-container-id-3 pre{padding: 0;}#sk-container-id-3 div.sk-toggleable {background-color: white;}#sk-container-id-3 label.sk-toggleable__label {cursor: pointer;display: block;width: 100%;margin-bottom: 0;padding: 0.3em;box-sizing: border-box;text-align: center;}#sk-container-id-3 label.sk-toggleable__label-arrow:before {content: \"▸\";float: left;margin-right: 0.25em;color: #696969;}#sk-container-id-3 label.sk-toggleable__label-arrow:hover:before {color: black;}#sk-container-id-3 div.sk-estimator:hover label.sk-toggleable__label-arrow:before {color: black;}#sk-container-id-3 div.sk-toggleable__content {max-height: 0;max-width: 0;overflow: hidden;text-align: left;background-color: #f0f8ff;}#sk-container-id-3 div.sk-toggleable__content pre {margin: 0.2em;color: black;border-radius: 0.25em;background-color: #f0f8ff;}#sk-container-id-3 input.sk-toggleable__control:checked~div.sk-toggleable__content {max-height: 200px;max-width: 100%;overflow: auto;}#sk-container-id-3 input.sk-toggleable__control:checked~label.sk-toggleable__label-arrow:before {content: \"▾\";}#sk-container-id-3 div.sk-estimator input.sk-toggleable__control:checked~label.sk-toggleable__label {background-color: #d4ebff;}#sk-container-id-3 div.sk-label input.sk-toggleable__control:checked~label.sk-toggleable__label {background-color: #d4ebff;}#sk-container-id-3 input.sk-hidden--visually {border: 0;clip: rect(1px 1px 1px 1px);clip: rect(1px, 1px, 1px, 1px);height: 1px;margin: -1px;overflow: hidden;padding: 0;position: absolute;width: 1px;}#sk-container-id-3 div.sk-estimator {font-family: monospace;background-color: #f0f8ff;border: 1px dotted black;border-radius: 0.25em;box-sizing: border-box;margin-bottom: 0.5em;}#sk-container-id-3 div.sk-estimator:hover {background-color: #d4ebff;}#sk-container-id-3 div.sk-parallel-item::after {content: \"\";width: 100%;border-bottom: 1px solid gray;flex-grow: 1;}#sk-container-id-3 div.sk-label:hover label.sk-toggleable__label {background-color: #d4ebff;}#sk-container-id-3 div.sk-serial::before {content: \"\";position: absolute;border-left: 1px solid gray;box-sizing: border-box;top: 0;bottom: 0;left: 50%;z-index: 0;}#sk-container-id-3 div.sk-serial {display: flex;flex-direction: column;align-items: center;background-color: white;padding-right: 0.2em;padding-left: 0.2em;position: relative;}#sk-container-id-3 div.sk-item {position: relative;z-index: 1;}#sk-container-id-3 div.sk-parallel {display: flex;align-items: stretch;justify-content: center;background-color: white;position: relative;}#sk-container-id-3 div.sk-item::before, #sk-container-id-3 div.sk-parallel-item::before {content: \"\";position: absolute;border-left: 1px solid gray;box-sizing: border-box;top: 0;bottom: 0;left: 50%;z-index: -1;}#sk-container-id-3 div.sk-parallel-item {display: flex;flex-direction: column;z-index: 1;position: relative;background-color: white;}#sk-container-id-3 div.sk-parallel-item:first-child::after {align-self: flex-end;width: 50%;}#sk-container-id-3 div.sk-parallel-item:last-child::after {align-self: flex-start;width: 50%;}#sk-container-id-3 div.sk-parallel-item:only-child::after {width: 0;}#sk-container-id-3 div.sk-dashed-wrapped {border: 1px dashed gray;margin: 0 0.4em 0.5em 0.4em;box-sizing: border-box;padding-bottom: 0.4em;background-color: white;}#sk-container-id-3 div.sk-label label {font-family: monospace;font-weight: bold;display: inline-block;line-height: 1.2em;}#sk-container-id-3 div.sk-label-container {text-align: center;}#sk-container-id-3 div.sk-container {/* jupyter's `normalize.less` sets `[hidden] { display: none; }` but bootstrap.min.css set `[hidden] { display: none !important; }` so we also need the `!important` here to be able to override the default hidden behavior on the sphinx rendered scikit-learn.org. See: https://github.com/scikit-learn/scikit-learn/issues/21755 */display: inline-block !important;position: relative;}#sk-container-id-3 div.sk-text-repr-fallback {display: none;}</style><div id=\"sk-container-id-3\" class=\"sk-top-container\"><div class=\"sk-text-repr-fallback\"><pre>LogisticRegression(max_iter=1500, random_state=42)</pre><b>In a Jupyter environment, please rerun this cell to show the HTML representation or trust the notebook. <br />On GitHub, the HTML representation is unable to render, please try loading this page with nbviewer.org.</b></div><div class=\"sk-container\" hidden><div class=\"sk-item\"><div class=\"sk-estimator sk-toggleable\"><input class=\"sk-toggleable__control sk-hidden--visually\" id=\"sk-estimator-id-3\" type=\"checkbox\" checked><label for=\"sk-estimator-id-3\" class=\"sk-toggleable__label sk-toggleable__label-arrow\">LogisticRegression</label><div class=\"sk-toggleable__content\"><pre>LogisticRegression(max_iter=1500, random_state=42)</pre></div></div></div></div></div>"
      ],
      "text/plain": [
       "LogisticRegression(max_iter=1500, random_state=42)"
      ]
     },
     "execution_count": 20,
     "metadata": {},
     "output_type": "execute_result"
    }
   ],
   "source": [
    "clf = LogisticRegression(random_state=42, max_iter=1500)\n",
    "clf.fit(X_trb_bow, y_train)"
   ]
  },
  {
   "cell_type": "code",
   "execution_count": 21,
   "id": "f6911271",
   "metadata": {},
   "outputs": [
    {
     "name": "stdout",
     "output_type": "stream",
     "text": [
      "              precision    recall  f1-score   support\n",
      "\n",
      "author_id_00       0.67      0.66      0.67       408\n",
      "author_id_01       0.56      0.62      0.59       100\n",
      "author_id_02       0.70      0.63      0.66       901\n",
      "author_id_03       0.39      0.53      0.45       187\n",
      "author_id_04       0.55      0.56      0.55       367\n",
      "author_id_05       0.53      0.58      0.55       197\n",
      "author_id_06       0.54      0.52      0.53       320\n",
      "author_id_07       0.51      0.61      0.56       107\n",
      "author_id_08       0.29      0.50      0.37       115\n",
      "author_id_09       0.74      0.65      0.69       813\n",
      "\n",
      "    accuracy                           0.61      3515\n",
      "   macro avg       0.55      0.59      0.56      3515\n",
      "weighted avg       0.63      0.61      0.61      3515\n",
      "\n"
     ]
    }
   ],
   "source": [
    "pred = clf.predict(X_tsb_bow)\n",
    "print(classification_report(pred, y_test))"
   ]
  },
  {
   "cell_type": "markdown",
   "id": "6ab412d5",
   "metadata": {},
   "source": [
    "### Тоже с использованием TF-IDF"
   ]
  },
  {
   "cell_type": "code",
   "execution_count": 19,
   "id": "573e0976",
   "metadata": {},
   "outputs": [
    {
     "name": "stdout",
     "output_type": "stream",
     "text": [
      "              precision    recall  f1-score   support\n",
      "\n",
      "author_id_00       0.61      0.61      0.61       406\n",
      "author_id_01       0.41      0.87      0.55        52\n",
      "author_id_02       0.75      0.53      0.62      1132\n",
      "author_id_03       0.27      0.52      0.36       130\n",
      "author_id_04       0.50      0.51      0.50       374\n",
      "author_id_05       0.43      0.60      0.50       155\n",
      "author_id_06       0.40      0.48      0.43       256\n",
      "author_id_07       0.29      0.73      0.42        51\n",
      "author_id_08       0.17      0.51      0.25        65\n",
      "author_id_09       0.74      0.59      0.66       894\n",
      "\n",
      "    accuracy                           0.56      3515\n",
      "   macro avg       0.46      0.59      0.49      3515\n",
      "weighted avg       0.62      0.56      0.58      3515\n",
      "\n"
     ]
    }
   ],
   "source": [
    "vec = TfidfVectorizer(ngram_range=(2, 3))\n",
    "X_trb_tfidf = vec.fit_transform(X_trb)\n",
    "X_tsb_tfidf = vec.transform(X_tsb)\n",
    "\n",
    "clf = LogisticRegression(random_state=42,  max_iter=1000)\n",
    "clf.fit(X_trb_tfidf, y_train)\n",
    "pred = clf.predict(X_tsb_tfidf)\n",
    "\n",
    "print(classification_report(pred, y_test))"
   ]
  },
  {
   "cell_type": "code",
   "execution_count": null,
   "id": "1f1dce1e",
   "metadata": {},
   "outputs": [],
   "source": []
  },
  {
   "cell_type": "code",
   "execution_count": null,
   "id": "0caa57c0",
   "metadata": {},
   "outputs": [],
   "source": []
  }
 ],
 "metadata": {
  "kernelspec": {
   "display_name": "Python 3 (ipykernel)",
   "language": "python",
   "name": "python3"
  },
  "language_info": {
   "codemirror_mode": {
    "name": "ipython",
    "version": 3
   },
   "file_extension": ".py",
   "mimetype": "text/x-python",
   "name": "python",
   "nbconvert_exporter": "python",
   "pygments_lexer": "ipython3",
   "version": "3.11.5"
  }
 },
 "nbformat": 4,
 "nbformat_minor": 5
}
