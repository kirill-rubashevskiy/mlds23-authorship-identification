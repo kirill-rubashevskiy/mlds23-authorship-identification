{
 "cells": [
  {
   "cell_type": "markdown",
   "source": [
    "# Импорт библиотек"
   ],
   "metadata": {
    "collapsed": false
   },
   "id": "713013a19fbc7bcc"
  },
  {
   "cell_type": "code",
   "execution_count": 1,
   "id": "initial_id",
   "metadata": {
    "collapsed": true,
    "ExecuteTime": {
     "end_time": "2023-11-27T09:16:52.819137Z",
     "start_time": "2023-11-27T09:16:51.642625Z"
    }
   },
   "outputs": [
    {
     "name": "stderr",
     "output_type": "stream",
     "text": [
      "[nltk_data] Downloading package stopwords to\n",
      "[nltk_data]     /Users/kirill.rubashevskiy/nltk_data...\n",
      "[nltk_data]   Package stopwords is already up-to-date!\n",
      "[nltk_data] Downloading package wordnet to\n",
      "[nltk_data]     /Users/kirill.rubashevskiy/nltk_data...\n",
      "[nltk_data]   Package wordnet is already up-to-date!\n"
     ]
    }
   ],
   "source": [
    "import pandas as pd\n",
    "\n",
    "# треккинг экспериментов\n",
    "import wandb\n",
    "\n",
    "# работа с S3\n",
    "import boto3\n",
    "import pickle\n",
    "from io import BytesIO, StringIO\n",
    "\n",
    "# предобработка данных\n",
    "from sklearn.pipeline import Pipeline\n",
    "from sklearn.feature_extraction.text import TfidfVectorizer\n",
    "from sklearn.model_selection import StratifiedKFold, train_test_split\n",
    "\n",
    "from data_preproc.src.utils import preprocess_text5\n",
    "\n",
    "# ML-модели\n",
    "from sklearn.linear_model import LogisticRegression\n",
    "\n",
    "# оценка моделей\n",
    "from sklearn.metrics import precision_recall_fscore_support, f1_score\n",
    "from sklearn.model_selection import cross_validate"
   ]
  },
  {
   "cell_type": "code",
   "execution_count": 2,
   "outputs": [],
   "source": [
    "BUCKET_NAME = \"mlds23-authorship-identification\"\n",
    "DATA_DIR = \"splitted_data/\"\n",
    "DATA_FILE_NAME = 'splitted_df.csv'\n",
    "MODELS_DIR = 'models/'\n",
    "RANDOM_STATE = 12345\n",
    "RUN_NAME = 'kr-26-11-23-exp-1'"
   ],
   "metadata": {
    "collapsed": false,
    "ExecuteTime": {
     "end_time": "2023-11-27T09:16:52.824933Z",
     "start_time": "2023-11-27T09:16:52.821124Z"
    }
   },
   "id": "b511c74208179519"
  },
  {
   "cell_type": "code",
   "execution_count": 3,
   "outputs": [
    {
     "name": "stderr",
     "output_type": "stream",
     "text": [
      "\u001B[34m\u001B[1mwandb\u001B[0m: Currently logged in as: \u001B[33mkirill-rubashevskiy\u001B[0m. Use \u001B[1m`wandb login --relogin`\u001B[0m to force relogin\n"
     ]
    },
    {
     "data": {
      "text/plain": "True"
     },
     "execution_count": 3,
     "metadata": {},
     "output_type": "execute_result"
    }
   ],
   "source": [
    "wandb.login()"
   ],
   "metadata": {
    "collapsed": false,
    "ExecuteTime": {
     "end_time": "2023-11-27T09:16:54.148982Z",
     "start_time": "2023-11-27T09:16:52.843587Z"
    }
   },
   "id": "dc05be0f8d27db38"
  },
  {
   "cell_type": "code",
   "execution_count": 4,
   "outputs": [
    {
     "name": "stderr",
     "output_type": "stream",
     "text": [
      "\u001B[34m\u001B[1mwandb\u001B[0m: Currently logged in as: \u001B[33mkirill-rubashevskiy\u001B[0m (\u001B[33mmlds23_ai\u001B[0m). Use \u001B[1m`wandb login --relogin`\u001B[0m to force relogin\n"
     ]
    },
    {
     "data": {
      "text/plain": "<IPython.core.display.HTML object>",
      "text/html": "Tracking run with wandb version 0.16.0"
     },
     "metadata": {},
     "output_type": "display_data"
    },
    {
     "data": {
      "text/plain": "<IPython.core.display.HTML object>",
      "text/html": "Run data is saved locally in <code>/Users/kirill.rubashevskiy/PycharmProjects/mlds23-authorship-identification/ML/wandb/run-20231127_111654-ccmkn30i</code>"
     },
     "metadata": {},
     "output_type": "display_data"
    },
    {
     "data": {
      "text/plain": "<IPython.core.display.HTML object>",
      "text/html": "Syncing run <strong><a href='https://wandb.ai/mlds23_ai/authorship_identification/runs/ccmkn30i' target=\"_blank\">kr-26-11-23-exp-1</a></strong> to <a href='https://wandb.ai/mlds23_ai/authorship_identification' target=\"_blank\">Weights & Biases</a> (<a href='https://wandb.me/run' target=\"_blank\">docs</a>)<br/>"
     },
     "metadata": {},
     "output_type": "display_data"
    },
    {
     "data": {
      "text/plain": "<IPython.core.display.HTML object>",
      "text/html": " View project at <a href='https://wandb.ai/mlds23_ai/authorship_identification' target=\"_blank\">https://wandb.ai/mlds23_ai/authorship_identification</a>"
     },
     "metadata": {},
     "output_type": "display_data"
    },
    {
     "data": {
      "text/plain": "<IPython.core.display.HTML object>",
      "text/html": " View run at <a href='https://wandb.ai/mlds23_ai/authorship_identification/runs/ccmkn30i' target=\"_blank\">https://wandb.ai/mlds23_ai/authorship_identification/runs/ccmkn30i</a>"
     },
     "metadata": {},
     "output_type": "display_data"
    },
    {
     "data": {
      "text/html": "<button onClick=\"this.nextSibling.style.display='block';this.style.display='none';\">Display W&B run</button><iframe src='https://wandb.ai/mlds23_ai/authorship_identification/runs/ccmkn30i?jupyter=true' style='border:none;width:100%;height:420px;display:none;'></iframe>",
      "text/plain": "<wandb.sdk.wandb_run.Run at 0x1680431f0>"
     },
     "execution_count": 4,
     "metadata": {},
     "output_type": "execute_result"
    }
   ],
   "source": [
    "# создание эксперимента\n",
    "wandb.init(\n",
    "    entity='mlds23_ai',\n",
    "    project='authorship_identification',\n",
    "    name=RUN_NAME,\n",
    "    tags=['baseline']\n",
    ")"
   ],
   "metadata": {
    "collapsed": false,
    "ExecuteTime": {
     "end_time": "2023-11-27T09:16:55.137759Z",
     "start_time": "2023-11-27T09:16:54.150183Z"
    }
   },
   "id": "a635c5f14fc08745"
  },
  {
   "cell_type": "code",
   "execution_count": 5,
   "outputs": [],
   "source": [
    "wandb.config['random_state'] = 12345"
   ],
   "metadata": {
    "collapsed": false,
    "ExecuteTime": {
     "end_time": "2023-11-27T09:16:55.147419Z",
     "start_time": "2023-11-27T09:16:55.139216Z"
    }
   },
   "id": "c7692e51f860a51"
  },
  {
   "cell_type": "markdown",
   "source": [
    "# Загрузка данных с S3"
   ],
   "metadata": {
    "collapsed": false
   },
   "id": "d5bf09af9b12d51e"
  },
  {
   "cell_type": "code",
   "execution_count": 6,
   "outputs": [],
   "source": [
    "session = boto3.session.Session()"
   ],
   "metadata": {
    "collapsed": false,
    "ExecuteTime": {
     "end_time": "2023-11-27T09:16:55.157961Z",
     "start_time": "2023-11-27T09:16:55.141782Z"
    }
   },
   "id": "862a43a94a034216"
  },
  {
   "cell_type": "code",
   "execution_count": 7,
   "outputs": [],
   "source": [
    "s3 = session.client(\n",
    "    service_name='s3',\n",
    "    endpoint_url='https://storage.yandexcloud.net',\n",
    "    aws_access_key_id='YCAJErlaldUmioGbHQSqJ70MR',\n",
    "    aws_secret_access_key='YCPSba_JgloNYSNWcnKO2CYCEB8PFR1Iwgr2jIUy',\n",
    "    region_name='ru-cental1'\n",
    ")"
   ],
   "metadata": {
    "collapsed": false,
    "ExecuteTime": {
     "end_time": "2023-11-27T09:16:55.250033Z",
     "start_time": "2023-11-27T09:16:55.152402Z"
    }
   },
   "id": "e37503836d040d6a"
  },
  {
   "cell_type": "code",
   "execution_count": 8,
   "outputs": [],
   "source": [
    "csv_obj = s3.get_object(Bucket=BUCKET_NAME, Key=DATA_DIR + DATA_FILE_NAME)"
   ],
   "metadata": {
    "collapsed": false,
    "ExecuteTime": {
     "end_time": "2023-11-27T09:16:55.861077Z",
     "start_time": "2023-11-27T09:16:55.252659Z"
    }
   },
   "id": "767e564a3274cd98"
  },
  {
   "cell_type": "code",
   "execution_count": 9,
   "outputs": [],
   "source": [
    "data = pd.read_csv(StringIO(csv_obj['Body'].read().decode('utf-8')))"
   ],
   "metadata": {
    "collapsed": false,
    "ExecuteTime": {
     "end_time": "2023-11-27T09:16:57.331831Z",
     "start_time": "2023-11-27T09:16:55.861486Z"
    }
   },
   "id": "aaf63f242000ecfc"
  },
  {
   "cell_type": "markdown",
   "source": [
    "# Предобработка данных"
   ],
   "metadata": {
    "collapsed": false
   },
   "id": "33a88d0fb767e37c"
  },
  {
   "cell_type": "code",
   "execution_count": 10,
   "outputs": [],
   "source": [
    "# сохранение признаков и целевого признака в отдельные переменные\n",
    "X = data['text'].apply(preprocess_text5)\n",
    "y = data['target'].map(lambda x: int(x[-2:]))"
   ],
   "metadata": {
    "collapsed": false,
    "ExecuteTime": {
     "end_time": "2023-11-27T09:16:57.537957Z",
     "start_time": "2023-11-27T09:16:57.334316Z"
    }
   },
   "id": "3302cdb38afed787"
  },
  {
   "cell_type": "code",
   "execution_count": 11,
   "outputs": [],
   "source": [
    "# создание словаря для конвертации номеров классов в фамилии авторов\n",
    "label2name = {\n",
    "    0: 'А. Пушкин',\n",
    "    1: 'Д. Мамин-Сибиряк',\n",
    "    2: 'И. Тургенев',\n",
    "    3: 'А. Чехов',\n",
    "    4: 'Н. Гоголь',\n",
    "    5: 'И. Бунин',\n",
    "    6: 'А. Куприн',\n",
    "    7: 'А. Платонов',\n",
    "    8: 'В. Гаршин',\n",
    "    9: 'Ф. Достоевский'\n",
    "}"
   ],
   "metadata": {
    "collapsed": false,
    "ExecuteTime": {
     "end_time": "2023-11-27T09:16:57.545628Z",
     "start_time": "2023-11-27T09:16:57.539249Z"
    }
   },
   "id": "84b7a9d6ea54f3d3"
  },
  {
   "cell_type": "code",
   "execution_count": 12,
   "outputs": [],
   "source": [
    "# разделение данных на обучающую и тестовую выборки\n",
    "X_train, X_test, y_train, y_test = train_test_split(X, y, test_size=0.25, random_state=RANDOM_STATE)"
   ],
   "metadata": {
    "collapsed": false,
    "ExecuteTime": {
     "end_time": "2023-11-27T09:16:57.554121Z",
     "start_time": "2023-11-27T09:16:57.544845Z"
    }
   },
   "id": "cdf8064262ee9f93"
  },
  {
   "cell_type": "code",
   "execution_count": 13,
   "outputs": [],
   "source": [
    "# разбиение обучающих данных на фолды\n",
    "skf = StratifiedKFold(n_splits=5, shuffle=True, random_state=RANDOM_STATE)"
   ],
   "metadata": {
    "collapsed": false,
    "ExecuteTime": {
     "end_time": "2023-11-27T09:16:57.560919Z",
     "start_time": "2023-11-27T09:16:57.554261Z"
    }
   },
   "id": "67b49b97d9e937b9"
  },
  {
   "cell_type": "code",
   "execution_count": 14,
   "outputs": [],
   "source": [
    "# создание объекта для TF-IDF\n",
    "vectorizer = TfidfVectorizer()"
   ],
   "metadata": {
    "collapsed": false,
    "ExecuteTime": {
     "end_time": "2023-11-27T09:16:57.567332Z",
     "start_time": "2023-11-27T09:16:57.561885Z"
    }
   },
   "id": "f926fc323c3c7ccc"
  },
  {
   "cell_type": "code",
   "execution_count": 15,
   "outputs": [],
   "source": [
    "# создание модели логистической регрессии\n",
    "lr = LogisticRegression(penalty=None, random_state=RANDOM_STATE, solver='sag', max_iter=1000)"
   ],
   "metadata": {
    "collapsed": false,
    "ExecuteTime": {
     "end_time": "2023-11-27T09:16:57.576245Z",
     "start_time": "2023-11-27T09:16:57.566174Z"
    }
   },
   "id": "ab74db7276e7ff68"
  },
  {
   "cell_type": "code",
   "execution_count": 16,
   "outputs": [],
   "source": [
    "# создание пайплайна модели\n",
    "model = Pipeline([\n",
    "    ('preprocessing', vectorizer),\n",
    "    ('classifier', lr)\n",
    "])"
   ],
   "metadata": {
    "collapsed": false,
    "ExecuteTime": {
     "end_time": "2023-11-27T09:16:57.576413Z",
     "start_time": "2023-11-27T09:16:57.571296Z"
    }
   },
   "id": "a39b2ab42705862d"
  },
  {
   "cell_type": "code",
   "execution_count": 17,
   "outputs": [],
   "source": [
    "# логирование гиперпараметров данных, предобработки и модели\n",
    "wandb.config['dataset'] = DATA_FILE_NAME\n",
    "\n",
    "wandb.config['preprocessing'] = {\n",
    "    'lowercase': True,\n",
    "    'remove_punct': True,\n",
    "    'remove_html_tags': True,\n",
    "    'remove_numbers': True,\n",
    "    'lemmatization': False,\n",
    "    'remove_stop_words': False,\n",
    "}\n",
    "wandb.config['embedding'] = {\n",
    "    'embedding_type': 'TF-IDF'    \n",
    "}\n",
    "\n",
    "wandb.config['classifier'] = {\n",
    "    'classifier_name': model['classifier'].__class__.__name__,\n",
    "    'penalty': None,\n",
    "    'solver': 'sag',\n",
    "    'max_iter': 1000\n",
    "}\n",
    "\n",
    "wandb.config['evaluation'] = {\n",
    "    'test_size': 0.25,\n",
    "    'train_cv': 5\n",
    "}"
   ],
   "metadata": {
    "collapsed": false,
    "ExecuteTime": {
     "end_time": "2023-11-27T09:16:57.585555Z",
     "start_time": "2023-11-27T09:16:57.577457Z"
    }
   },
   "id": "7335721b0dcb7f16"
  },
  {
   "cell_type": "markdown",
   "source": [
    "# Обучение и оценка модели на трейне"
   ],
   "metadata": {
    "collapsed": false
   },
   "id": "d7190a6c02df2208"
  },
  {
   "cell_type": "code",
   "execution_count": 18,
   "outputs": [],
   "source": [
    "# расчет метрик на обучающей выборке при помощи кросс-валидации\n",
    "cv_results = cross_validate(\n",
    "    model,\n",
    "    X_train, \n",
    "    y_train,\n",
    "    scoring=['f1_micro', 'f1_macro', 'f1_weighted'],\n",
    "    cv=skf\n",
    ")"
   ],
   "metadata": {
    "collapsed": false,
    "ExecuteTime": {
     "end_time": "2023-11-27T09:18:02.439024Z",
     "start_time": "2023-11-27T09:16:57.581768Z"
    }
   },
   "id": "bea90a32dacac7bc"
  },
  {
   "cell_type": "code",
   "execution_count": 19,
   "outputs": [],
   "source": [
    "# логирование метрик\n",
    "metrics_train = dict()\n",
    "\n",
    "for metric in ['test_f1_micro', 'test_f1_macro', 'test_f1_weighted']:\n",
    "    metrics_train[f'{metric[5:]}_mean'] = cv_results[metric].mean()\n",
    "    metrics_train[f'{metric[5:]}_std'] = cv_results[metric].std()\n",
    "    \n",
    "\n",
    "wandb.log({\n",
    "    'train': metrics_train\n",
    "    })"
   ],
   "metadata": {
    "collapsed": false,
    "ExecuteTime": {
     "end_time": "2023-11-27T09:18:02.462400Z",
     "start_time": "2023-11-27T09:18:02.453514Z"
    }
   },
   "id": "f59267d9cc3ac4f3"
  },
  {
   "cell_type": "markdown",
   "source": [
    "# Оценка модели на тесте"
   ],
   "metadata": {
    "collapsed": false
   },
   "id": "f4e36d8f1b27d26c"
  },
  {
   "cell_type": "code",
   "execution_count": 20,
   "outputs": [],
   "source": [
    "# обучение модели на трейне и получение предсказаний на тесте\n",
    "preds_test = model.fit(X_train, y_train).predict(X_test)"
   ],
   "metadata": {
    "collapsed": false,
    "ExecuteTime": {
     "end_time": "2023-11-27T09:18:19.091611Z",
     "start_time": "2023-11-27T09:18:02.454260Z"
    }
   },
   "id": "d30f5700360acee0"
  },
  {
   "cell_type": "code",
   "execution_count": 21,
   "outputs": [],
   "source": [
    "# логирование метрик на тесте\n",
    "metrics_test = dict()\n",
    "\n",
    "for average in ['micro', 'weighted', 'macro']:\n",
    "    metrics_test[f'f1_{average}'] = f1_score(y_test, preds_test, average=average)\n",
    "    \n",
    "wandb.log({\n",
    "    'test': metrics_test\n",
    "})"
   ],
   "metadata": {
    "collapsed": false,
    "ExecuteTime": {
     "end_time": "2023-11-27T09:18:19.128891Z",
     "start_time": "2023-11-27T09:18:19.088938Z"
    }
   },
   "id": "fe601c58347347e1"
  },
  {
   "cell_type": "code",
   "execution_count": 22,
   "outputs": [],
   "source": [
    "# логирование метрик на тесте с разбивкой по классу\n",
    "precision_recall_f1_test_df = pd.DataFrame(\n",
    "    precision_recall_fscore_support(y_test, preds_test),\n",
    "    columns=list(label2name.values()),\n",
    "    index = ['precision_test', 'recall_test', 'f1_test', 'support']).T.drop(columns=['support']).reset_index()\n",
    "\n",
    "precision_recall_f1_test_df.rename(columns={'index': 'author'}, inplace=True)\n",
    "\n",
    "wandb.log({\n",
    "    'precision_recall_f1_table_test': wandb.Table(dataframe=precision_recall_f1_test_df)   \n",
    "})"
   ],
   "metadata": {
    "collapsed": false,
    "ExecuteTime": {
     "end_time": "2023-11-27T09:18:19.834544Z",
     "start_time": "2023-11-27T09:18:19.115942Z"
    }
   },
   "id": "832a3f65aad16887"
  },
  {
   "cell_type": "code",
   "execution_count": 23,
   "outputs": [],
   "source": [
    "# логирование confusion matrix на тесте\n",
    "wandb.log({\n",
    "    'conf_mat_test': wandb.plot.confusion_matrix(probs=None, y_true=y_test.tolist(), preds=preds_test, class_names=list(label2name.values()))   \n",
    "})\n"
   ],
   "metadata": {
    "collapsed": false,
    "ExecuteTime": {
     "end_time": "2023-11-27T09:18:20.080474Z",
     "start_time": "2023-11-27T09:18:19.840450Z"
    }
   },
   "id": "5ec8ea9ed6b33452"
  },
  {
   "cell_type": "markdown",
   "source": [
    "# Сохранение модели"
   ],
   "metadata": {
    "collapsed": false
   },
   "id": "2171890c8d91b222"
  },
  {
   "cell_type": "code",
   "execution_count": 24,
   "outputs": [
    {
     "data": {
      "text/plain": "{'ResponseMetadata': {'RequestId': '60e6a8f50e9c3ed0',\n  'HostId': '',\n  'HTTPStatusCode': 200,\n  'HTTPHeaders': {'server': 'nginx',\n   'date': 'Mon, 27 Nov 2023 09:18:22 GMT',\n   'content-type': 'application/octet-stream',\n   'transfer-encoding': 'chunked',\n   'connection': 'keep-alive',\n   'keep-alive': 'timeout=60',\n   'etag': '\"25dd6dbc3641ddb44b710c752063da97\"',\n   'x-amz-request-id': '60e6a8f50e9c3ed0'},\n  'RetryAttempts': 0},\n 'ETag': '\"25dd6dbc3641ddb44b710c752063da97\"'}"
     },
     "execution_count": 24,
     "metadata": {},
     "output_type": "execute_result"
    }
   ],
   "source": [
    "# сохранение модели на S3 через буффер (без создания локальной копии\n",
    "pickle_buffer = BytesIO()\n",
    "pickle_byte_obj = pickle.dump(model, pickle_buffer)\n",
    "\n",
    "s3.put_object(Body=pickle_buffer.getvalue(), \n",
    "              Bucket=BUCKET_NAME, \n",
    "              Key=f'{MODELS_DIR}{RUN_NAME}_pipeline.pkl')"
   ],
   "metadata": {
    "collapsed": false,
    "ExecuteTime": {
     "end_time": "2023-11-27T09:18:22.320826Z",
     "start_time": "2023-11-27T09:18:20.080958Z"
    }
   },
   "id": "d71769492da5fce5"
  },
  {
   "cell_type": "code",
   "execution_count": 25,
   "outputs": [
    {
     "data": {
      "text/plain": "VBox(children=(Label(value='0.027 MB of 0.027 MB uploaded\\r'), FloatProgress(value=1.0, max=1.0)))",
      "application/vnd.jupyter.widget-view+json": {
       "version_major": 2,
       "version_minor": 0,
       "model_id": "2158b172c02144238afd856eb451af1f"
      }
     },
     "metadata": {},
     "output_type": "display_data"
    },
    {
     "data": {
      "text/plain": "<IPython.core.display.HTML object>",
      "text/html": " View run <strong style=\"color:#cdcd00\">kr-26-11-23-exp-1</strong> at: <a href='https://wandb.ai/mlds23_ai/authorship_identification/runs/ccmkn30i' target=\"_blank\">https://wandb.ai/mlds23_ai/authorship_identification/runs/ccmkn30i</a><br/> View job at <a href='https://wandb.ai/mlds23_ai/authorship_identification/jobs/QXJ0aWZhY3RDb2xsZWN0aW9uOjExOTA1MDY4MA==/version_details/v0' target=\"_blank\">https://wandb.ai/mlds23_ai/authorship_identification/jobs/QXJ0aWZhY3RDb2xsZWN0aW9uOjExOTA1MDY4MA==/version_details/v0</a><br/>Synced 4 W&B file(s), 2 media file(s), 4 artifact file(s) and 0 other file(s)"
     },
     "metadata": {},
     "output_type": "display_data"
    },
    {
     "data": {
      "text/plain": "<IPython.core.display.HTML object>",
      "text/html": "Find logs at: <code>./wandb/run-20231127_111654-ccmkn30i/logs</code>"
     },
     "metadata": {},
     "output_type": "display_data"
    }
   ],
   "source": [
    "# завершение эксперимента\n",
    "wandb.finish()"
   ],
   "metadata": {
    "collapsed": false,
    "ExecuteTime": {
     "end_time": "2023-11-27T09:18:31.133659Z",
     "start_time": "2023-11-27T09:18:22.322853Z"
    }
   },
   "id": "bee4d9ddc266f9c1"
  },
  {
   "cell_type": "code",
   "execution_count": 25,
   "outputs": [],
   "source": [],
   "metadata": {
    "collapsed": false,
    "ExecuteTime": {
     "end_time": "2023-11-27T09:18:31.140257Z",
     "start_time": "2023-11-27T09:18:31.133218Z"
    }
   },
   "id": "f52eaaa4f69c1244"
  }
 ],
 "metadata": {
  "kernelspec": {
   "display_name": "Python 3",
   "language": "python",
   "name": "python3"
  },
  "language_info": {
   "codemirror_mode": {
    "name": "ipython",
    "version": 2
   },
   "file_extension": ".py",
   "mimetype": "text/x-python",
   "name": "python",
   "nbconvert_exporter": "python",
   "pygments_lexer": "ipython2",
   "version": "2.7.6"
  }
 },
 "nbformat": 4,
 "nbformat_minor": 5
}
